{
 "cells": [
  {
   "cell_type": "markdown",
   "metadata": {},
   "source": [
    "# Modelo de Machine Learning"
   ]
  },
  {
   "cell_type": "markdown",
   "metadata": {},
   "source": [
    "El objetivo del presente modelo de ML es abordar la incertidumbre de la apertura de un nuevo restaurante latino."
   ]
  },
  {
   "cell_type": "markdown",
   "metadata": {},
   "source": [
    "## 1. Definir el problema y el target:\n",
    "- Problema: Determinar si un restaurante latino puede tener éxito.\n",
    "- Target: Se tomará como variable objetivo (y) a la columna is_open, el cual es una variable binaria, donde 1 es éxito y 0 fracaso."
   ]
  },
  {
   "cell_type": "markdown",
   "metadata": {},
   "source": [
    "Importamos las librerías a utilizar"
   ]
  },
  {
   "cell_type": "code",
   "execution_count": 142,
   "metadata": {},
   "outputs": [],
   "source": [
    "import pandas as pd\n",
    "import numpy as np\n",
    "import json # Para trabajar con JSON\n",
    "from pandas import json_normalize\n",
    "pd.set_option('display.max_columns', None)\n",
    "import matplotlib.pyplot as plt\n",
    "import seaborn as sns\n",
    "#from sklearn.preprocessing import StandardScaler, OneHotEncoder\n",
    "\n",
    "# Configurar estilo de visualización\n",
    "sns.set(style=\"whitegrid\", palette=\"muted\")\n",
    "#plt.rcParams[\"figure.figsize\"] = (12, 6)\n",
    "\n",
    "# libreriías para el modelo\n",
    "from sklearn.model_selection import train_test_split\n",
    "from sklearn.ensemble import RandomForestClassifier\n",
    "from sklearn.metrics import classification_report, roc_auc_score\n",
    "from sklearn.preprocessing import OneHotEncoder, StandardScaler\n",
    "from sklearn.pipeline import Pipeline\n",
    "from sklearn.compose import ColumnTransformer\n",
    "\n",
    "import warnings\n",
    "warnings.filterwarnings(\"ignore\")"
   ]
  },
  {
   "cell_type": "markdown",
   "metadata": {},
   "source": [
    "## 2. Preparamos los datos"
   ]
  },
  {
   "cell_type": "markdown",
   "metadata": {},
   "source": [
    "Cargamos el datasets de restaurantes latinos "
   ]
  },
  {
   "cell_type": "code",
   "execution_count": 143,
   "metadata": {},
   "outputs": [],
   "source": [
    "file_path='D:/2024/HenryData/PF/Datos_Crudos/yelp/df_new/restaurantes_latinos_filtrados.csv'"
   ]
  },
  {
   "cell_type": "code",
   "execution_count": 144,
   "metadata": {},
   "outputs": [],
   "source": [
    "df1 = pd.read_csv(file_path)"
   ]
  },
  {
   "cell_type": "code",
   "execution_count": 145,
   "metadata": {},
   "outputs": [
    {
     "data": {
      "text/html": [
       "<div>\n",
       "<style scoped>\n",
       "    .dataframe tbody tr th:only-of-type {\n",
       "        vertical-align: middle;\n",
       "    }\n",
       "\n",
       "    .dataframe tbody tr th {\n",
       "        vertical-align: top;\n",
       "    }\n",
       "\n",
       "    .dataframe thead th {\n",
       "        text-align: right;\n",
       "    }\n",
       "</style>\n",
       "<table border=\"1\" class=\"dataframe\">\n",
       "  <thead>\n",
       "    <tr style=\"text-align: right;\">\n",
       "      <th></th>\n",
       "      <th>business_id</th>\n",
       "      <th>name</th>\n",
       "      <th>restaurante_categoria</th>\n",
       "      <th>address</th>\n",
       "      <th>city</th>\n",
       "      <th>state_id</th>\n",
       "      <th>state_name</th>\n",
       "      <th>abbreviation</th>\n",
       "      <th>postal_code</th>\n",
       "      <th>latitude</th>\n",
       "      <th>longitude</th>\n",
       "      <th>stars</th>\n",
       "      <th>review_count</th>\n",
       "      <th>is_open</th>\n",
       "      <th>categories</th>\n",
       "      <th>BusinessAcceptsCreditCards</th>\n",
       "      <th>HasTV</th>\n",
       "      <th>OutdoorSeating</th>\n",
       "      <th>RestaurantsTakeOut</th>\n",
       "      <th>WiFi</th>\n",
       "      <th>RestaurantsAttire</th>\n",
       "      <th>NoiseLevel</th>\n",
       "    </tr>\n",
       "  </thead>\n",
       "  <tbody>\n",
       "    <tr>\n",
       "      <th>0</th>\n",
       "      <td>aNtKyc2rr-uK5cqzY9TVQQ</td>\n",
       "      <td>Chipotle Mexican Grill</td>\n",
       "      <td>['restaurante mexicano']</td>\n",
       "      <td>10160 Ulmerton Rd</td>\n",
       "      <td>Largo</td>\n",
       "      <td>1</td>\n",
       "      <td>Florida</td>\n",
       "      <td>FL</td>\n",
       "      <td>33771</td>\n",
       "      <td>27.894167</td>\n",
       "      <td>-82.779866</td>\n",
       "      <td>3.0</td>\n",
       "      <td>19.0</td>\n",
       "      <td>1</td>\n",
       "      <td>Mexican, Fast Food, Restaurants</td>\n",
       "      <td>True</td>\n",
       "      <td>True</td>\n",
       "      <td>False</td>\n",
       "      <td>True</td>\n",
       "      <td>no</td>\n",
       "      <td>ucasual</td>\n",
       "      <td>uaverage</td>\n",
       "    </tr>\n",
       "    <tr>\n",
       "      <th>1</th>\n",
       "      <td>XwoXi0M66RU6Gouq-DSDHw</td>\n",
       "      <td>G Peppers Grill &amp; Tavern</td>\n",
       "      <td>['restaurante mexicano']</td>\n",
       "      <td>8745 Gunn Hwy</td>\n",
       "      <td>Odessa</td>\n",
       "      <td>1</td>\n",
       "      <td>Florida</td>\n",
       "      <td>FL</td>\n",
       "      <td>33556</td>\n",
       "      <td>28.092136</td>\n",
       "      <td>-82.578574</td>\n",
       "      <td>4.0</td>\n",
       "      <td>82.0</td>\n",
       "      <td>1</td>\n",
       "      <td>Restaurants, Mexican, American (Traditional)</td>\n",
       "      <td>True</td>\n",
       "      <td>True</td>\n",
       "      <td>True</td>\n",
       "      <td>True</td>\n",
       "      <td>u no</td>\n",
       "      <td>ucasual</td>\n",
       "      <td>uquiet</td>\n",
       "    </tr>\n",
       "  </tbody>\n",
       "</table>\n",
       "</div>"
      ],
      "text/plain": [
       "              business_id                      name     restaurante_categoria  \\\n",
       "0  aNtKyc2rr-uK5cqzY9TVQQ    Chipotle Mexican Grill  ['restaurante mexicano']   \n",
       "1  XwoXi0M66RU6Gouq-DSDHw  G Peppers Grill & Tavern  ['restaurante mexicano']   \n",
       "\n",
       "             address    city  state_id state_name abbreviation  postal_code  \\\n",
       "0  10160 Ulmerton Rd   Largo         1    Florida           FL        33771   \n",
       "1      8745 Gunn Hwy  Odessa         1    Florida           FL        33556   \n",
       "\n",
       "    latitude  longitude  stars  review_count  is_open  \\\n",
       "0  27.894167 -82.779866    3.0          19.0        1   \n",
       "1  28.092136 -82.578574    4.0          82.0        1   \n",
       "\n",
       "                                     categories  BusinessAcceptsCreditCards  \\\n",
       "0               Mexican, Fast Food, Restaurants                        True   \n",
       "1  Restaurants, Mexican, American (Traditional)                        True   \n",
       "\n",
       "  HasTV OutdoorSeating RestaurantsTakeOut   WiFi RestaurantsAttire NoiseLevel  \n",
       "0  True          False               True    no            ucasual   uaverage  \n",
       "1  True           True               True  u no            ucasual     uquiet  "
      ]
     },
     "execution_count": 145,
     "metadata": {},
     "output_type": "execute_result"
    }
   ],
   "source": [
    "df1.head(2)"
   ]
  },
  {
   "cell_type": "markdown",
   "metadata": {},
   "source": [
    "Elimanos columnas que no se utilizaran en el modelo"
   ]
  },
  {
   "cell_type": "code",
   "execution_count": 146,
   "metadata": {},
   "outputs": [],
   "source": [
    "drop_columns = ['state_id','city','abbreviation','postal_code','categories','HasTV','WiFi','RestaurantsAttire', 'NoiseLevel']\n",
    "df1 = df1.drop(columns=drop_columns, axis=1)"
   ]
  },
  {
   "cell_type": "code",
   "execution_count": 147,
   "metadata": {},
   "outputs": [
    {
     "data": {
      "text/html": [
       "<div>\n",
       "<style scoped>\n",
       "    .dataframe tbody tr th:only-of-type {\n",
       "        vertical-align: middle;\n",
       "    }\n",
       "\n",
       "    .dataframe tbody tr th {\n",
       "        vertical-align: top;\n",
       "    }\n",
       "\n",
       "    .dataframe thead th {\n",
       "        text-align: right;\n",
       "    }\n",
       "</style>\n",
       "<table border=\"1\" class=\"dataframe\">\n",
       "  <thead>\n",
       "    <tr style=\"text-align: right;\">\n",
       "      <th></th>\n",
       "      <th>business_id</th>\n",
       "      <th>name</th>\n",
       "      <th>restaurante_categoria</th>\n",
       "      <th>address</th>\n",
       "      <th>state_name</th>\n",
       "      <th>latitude</th>\n",
       "      <th>longitude</th>\n",
       "      <th>stars</th>\n",
       "      <th>review_count</th>\n",
       "      <th>is_open</th>\n",
       "      <th>BusinessAcceptsCreditCards</th>\n",
       "      <th>OutdoorSeating</th>\n",
       "      <th>RestaurantsTakeOut</th>\n",
       "    </tr>\n",
       "  </thead>\n",
       "  <tbody>\n",
       "    <tr>\n",
       "      <th>0</th>\n",
       "      <td>aNtKyc2rr-uK5cqzY9TVQQ</td>\n",
       "      <td>Chipotle Mexican Grill</td>\n",
       "      <td>['restaurante mexicano']</td>\n",
       "      <td>10160 Ulmerton Rd</td>\n",
       "      <td>Florida</td>\n",
       "      <td>27.894167</td>\n",
       "      <td>-82.779866</td>\n",
       "      <td>3.0</td>\n",
       "      <td>19.0</td>\n",
       "      <td>1</td>\n",
       "      <td>True</td>\n",
       "      <td>False</td>\n",
       "      <td>True</td>\n",
       "    </tr>\n",
       "    <tr>\n",
       "      <th>1</th>\n",
       "      <td>XwoXi0M66RU6Gouq-DSDHw</td>\n",
       "      <td>G Peppers Grill &amp; Tavern</td>\n",
       "      <td>['restaurante mexicano']</td>\n",
       "      <td>8745 Gunn Hwy</td>\n",
       "      <td>Florida</td>\n",
       "      <td>28.092136</td>\n",
       "      <td>-82.578574</td>\n",
       "      <td>4.0</td>\n",
       "      <td>82.0</td>\n",
       "      <td>1</td>\n",
       "      <td>True</td>\n",
       "      <td>True</td>\n",
       "      <td>True</td>\n",
       "    </tr>\n",
       "  </tbody>\n",
       "</table>\n",
       "</div>"
      ],
      "text/plain": [
       "              business_id                      name     restaurante_categoria  \\\n",
       "0  aNtKyc2rr-uK5cqzY9TVQQ    Chipotle Mexican Grill  ['restaurante mexicano']   \n",
       "1  XwoXi0M66RU6Gouq-DSDHw  G Peppers Grill & Tavern  ['restaurante mexicano']   \n",
       "\n",
       "             address state_name   latitude  longitude  stars  review_count  \\\n",
       "0  10160 Ulmerton Rd    Florida  27.894167 -82.779866    3.0          19.0   \n",
       "1      8745 Gunn Hwy    Florida  28.092136 -82.578574    4.0          82.0   \n",
       "\n",
       "   is_open  BusinessAcceptsCreditCards OutdoorSeating RestaurantsTakeOut  \n",
       "0        1                        True          False               True  \n",
       "1        1                        True           True               True  "
      ]
     },
     "execution_count": 147,
     "metadata": {},
     "output_type": "execute_result"
    }
   ],
   "source": [
    "# Verificamos los resultados\n",
    "df1.head(2)"
   ]
  },
  {
   "cell_type": "code",
   "execution_count": 148,
   "metadata": {},
   "outputs": [],
   "source": [
    "# Renombramos algunas columnas\n",
    "df1= df1.rename(columns={'business_id':'id','stars':'avg_rating','review_count':'review','BusinessAcceptsCreditCards':'CreditCards','RestaurantsTakeOut':'TakeOut' })"
   ]
  },
  {
   "cell_type": "code",
   "execution_count": 149,
   "metadata": {},
   "outputs": [],
   "source": [
    "# Limpiamos la columna `restaurante_categoria` para dejar solo el texto\n",
    "df1['restaurante_categoria'] = df1['restaurante_categoria'].str.strip(\"[]\").str.replace(\"'\", \"\").str.strip()"
   ]
  },
  {
   "cell_type": "code",
   "execution_count": 150,
   "metadata": {},
   "outputs": [],
   "source": [
    "# Convertimos las columnas: `CreditCards`, `OutdoorSeating`, y `TakeOut` a valores 0 y 1\n",
    "bool_columns = ['CreditCards', 'OutdoorSeating', 'TakeOut']\n",
    "for col in bool_columns:\n",
    "    df1[col] = df1[col].apply(lambda x: 1 if x == True or x == 'True' else 0)"
   ]
  },
  {
   "cell_type": "code",
   "execution_count": 151,
   "metadata": {},
   "outputs": [
    {
     "data": {
      "text/html": [
       "<div>\n",
       "<style scoped>\n",
       "    .dataframe tbody tr th:only-of-type {\n",
       "        vertical-align: middle;\n",
       "    }\n",
       "\n",
       "    .dataframe tbody tr th {\n",
       "        vertical-align: top;\n",
       "    }\n",
       "\n",
       "    .dataframe thead th {\n",
       "        text-align: right;\n",
       "    }\n",
       "</style>\n",
       "<table border=\"1\" class=\"dataframe\">\n",
       "  <thead>\n",
       "    <tr style=\"text-align: right;\">\n",
       "      <th></th>\n",
       "      <th>id</th>\n",
       "      <th>name</th>\n",
       "      <th>restaurante_categoria</th>\n",
       "      <th>address</th>\n",
       "      <th>state_name</th>\n",
       "      <th>latitude</th>\n",
       "      <th>longitude</th>\n",
       "      <th>avg_rating</th>\n",
       "      <th>review</th>\n",
       "      <th>is_open</th>\n",
       "      <th>CreditCards</th>\n",
       "      <th>OutdoorSeating</th>\n",
       "      <th>TakeOut</th>\n",
       "    </tr>\n",
       "  </thead>\n",
       "  <tbody>\n",
       "    <tr>\n",
       "      <th>0</th>\n",
       "      <td>aNtKyc2rr-uK5cqzY9TVQQ</td>\n",
       "      <td>Chipotle Mexican Grill</td>\n",
       "      <td>restaurante mexicano</td>\n",
       "      <td>10160 Ulmerton Rd</td>\n",
       "      <td>Florida</td>\n",
       "      <td>27.894167</td>\n",
       "      <td>-82.779866</td>\n",
       "      <td>3.0</td>\n",
       "      <td>19.0</td>\n",
       "      <td>1</td>\n",
       "      <td>1</td>\n",
       "      <td>0</td>\n",
       "      <td>1</td>\n",
       "    </tr>\n",
       "    <tr>\n",
       "      <th>1</th>\n",
       "      <td>XwoXi0M66RU6Gouq-DSDHw</td>\n",
       "      <td>G Peppers Grill &amp; Tavern</td>\n",
       "      <td>restaurante mexicano</td>\n",
       "      <td>8745 Gunn Hwy</td>\n",
       "      <td>Florida</td>\n",
       "      <td>28.092136</td>\n",
       "      <td>-82.578574</td>\n",
       "      <td>4.0</td>\n",
       "      <td>82.0</td>\n",
       "      <td>1</td>\n",
       "      <td>1</td>\n",
       "      <td>1</td>\n",
       "      <td>1</td>\n",
       "    </tr>\n",
       "  </tbody>\n",
       "</table>\n",
       "</div>"
      ],
      "text/plain": [
       "                       id                      name restaurante_categoria  \\\n",
       "0  aNtKyc2rr-uK5cqzY9TVQQ    Chipotle Mexican Grill  restaurante mexicano   \n",
       "1  XwoXi0M66RU6Gouq-DSDHw  G Peppers Grill & Tavern  restaurante mexicano   \n",
       "\n",
       "             address state_name   latitude  longitude  avg_rating  review  \\\n",
       "0  10160 Ulmerton Rd    Florida  27.894167 -82.779866         3.0    19.0   \n",
       "1      8745 Gunn Hwy    Florida  28.092136 -82.578574         4.0    82.0   \n",
       "\n",
       "   is_open  CreditCards  OutdoorSeating  TakeOut  \n",
       "0        1            1               0        1  \n",
       "1        1            1               1        1  "
      ]
     },
     "execution_count": 151,
     "metadata": {},
     "output_type": "execute_result"
    }
   ],
   "source": [
    "# Verificamos los cambios\n",
    "df1.head(2)"
   ]
  },
  {
   "cell_type": "code",
   "execution_count": 152,
   "metadata": {},
   "outputs": [],
   "source": [
    "# Creamos variables dummy para la columna `restaurante_categoria`, asegurándonos de que sean 0 y 1\n",
    "dummies = pd.get_dummies(df1['restaurante_categoria'], prefix='cat', drop_first=True)\n",
    "\n",
    "# Nos aseguramos de que las variables dummy sean enteros (0 o 1)\n",
    "dummies = dummies.astype(int)\n",
    "\n",
    "# Añadimos las variables dummy al DataFrame original\n",
    "df1 = pd.concat([df1.drop(columns=['restaurante_categoria']), dummies], axis=1)"
   ]
  },
  {
   "cell_type": "code",
   "execution_count": 153,
   "metadata": {},
   "outputs": [
    {
     "data": {
      "text/html": [
       "<div>\n",
       "<style scoped>\n",
       "    .dataframe tbody tr th:only-of-type {\n",
       "        vertical-align: middle;\n",
       "    }\n",
       "\n",
       "    .dataframe tbody tr th {\n",
       "        vertical-align: top;\n",
       "    }\n",
       "\n",
       "    .dataframe thead th {\n",
       "        text-align: right;\n",
       "    }\n",
       "</style>\n",
       "<table border=\"1\" class=\"dataframe\">\n",
       "  <thead>\n",
       "    <tr style=\"text-align: right;\">\n",
       "      <th></th>\n",
       "      <th>cat_restaurante brasileño</th>\n",
       "      <th>cat_restaurante caribeño</th>\n",
       "      <th>cat_restaurante centroamericano</th>\n",
       "      <th>cat_restaurante colombiano</th>\n",
       "      <th>cat_restaurante cubano</th>\n",
       "      <th>cat_restaurante dominicano</th>\n",
       "      <th>cat_restaurante latinoamericano</th>\n",
       "      <th>cat_restaurante mexicano</th>\n",
       "      <th>cat_restaurante peruano</th>\n",
       "      <th>cat_restaurante venezolano</th>\n",
       "    </tr>\n",
       "  </thead>\n",
       "  <tbody>\n",
       "    <tr>\n",
       "      <th>0</th>\n",
       "      <td>0</td>\n",
       "      <td>0</td>\n",
       "      <td>0</td>\n",
       "      <td>0</td>\n",
       "      <td>0</td>\n",
       "      <td>0</td>\n",
       "      <td>0</td>\n",
       "      <td>1</td>\n",
       "      <td>0</td>\n",
       "      <td>0</td>\n",
       "    </tr>\n",
       "    <tr>\n",
       "      <th>1</th>\n",
       "      <td>0</td>\n",
       "      <td>0</td>\n",
       "      <td>0</td>\n",
       "      <td>0</td>\n",
       "      <td>0</td>\n",
       "      <td>0</td>\n",
       "      <td>0</td>\n",
       "      <td>1</td>\n",
       "      <td>0</td>\n",
       "      <td>0</td>\n",
       "    </tr>\n",
       "  </tbody>\n",
       "</table>\n",
       "</div>"
      ],
      "text/plain": [
       "   cat_restaurante brasileño  cat_restaurante caribeño  \\\n",
       "0                          0                         0   \n",
       "1                          0                         0   \n",
       "\n",
       "   cat_restaurante centroamericano  cat_restaurante colombiano  \\\n",
       "0                                0                           0   \n",
       "1                                0                           0   \n",
       "\n",
       "   cat_restaurante cubano  cat_restaurante dominicano  \\\n",
       "0                       0                           0   \n",
       "1                       0                           0   \n",
       "\n",
       "   cat_restaurante latinoamericano  cat_restaurante mexicano  \\\n",
       "0                                0                         1   \n",
       "1                                0                         1   \n",
       "\n",
       "   cat_restaurante peruano  cat_restaurante venezolano  \n",
       "0                        0                           0  \n",
       "1                        0                           0  "
      ]
     },
     "execution_count": 153,
     "metadata": {},
     "output_type": "execute_result"
    }
   ],
   "source": [
    "# Verificamos que las columnas dummy sean binarias\n",
    "dummies.head(2)"
   ]
  },
  {
   "cell_type": "markdown",
   "metadata": {},
   "source": [
    "Cargamos los datos Demográficos"
   ]
  },
  {
   "cell_type": "code",
   "execution_count": 154,
   "metadata": {},
   "outputs": [],
   "source": [
    "file_path = 'D:/2024/HenryData/PF/Datos_Crudos/Censo/states_promedio.csv'"
   ]
  },
  {
   "cell_type": "code",
   "execution_count": 155,
   "metadata": {},
   "outputs": [],
   "source": [
    "df_pobla = pd.read_csv(file_path)"
   ]
  },
  {
   "cell_type": "code",
   "execution_count": 156,
   "metadata": {},
   "outputs": [
    {
     "name": "stdout",
     "output_type": "stream",
     "text": [
      "<class 'pandas.core.frame.DataFrame'>\n",
      "RangeIndex: 6 entries, 0 to 5\n",
      "Data columns (total 6 columns):\n",
      " #   Column               Non-Null Count  Dtype  \n",
      "---  ------               --------------  -----  \n",
      " 0   state_id             6 non-null      int64  \n",
      " 1   state_name           6 non-null      object \n",
      " 2   abbreviation         6 non-null      object \n",
      " 3   total_population     6 non-null      int64  \n",
      " 4   hispanic_population  6 non-null      int64  \n",
      " 5   avg_income           6 non-null      float64\n",
      "dtypes: float64(1), int64(3), object(2)\n",
      "memory usage: 420.0+ bytes\n"
     ]
    }
   ],
   "source": [
    "df_pobla.info()"
   ]
  },
  {
   "cell_type": "code",
   "execution_count": 157,
   "metadata": {},
   "outputs": [
    {
     "data": {
      "text/html": [
       "<div>\n",
       "<style scoped>\n",
       "    .dataframe tbody tr th:only-of-type {\n",
       "        vertical-align: middle;\n",
       "    }\n",
       "\n",
       "    .dataframe tbody tr th {\n",
       "        vertical-align: top;\n",
       "    }\n",
       "\n",
       "    .dataframe thead th {\n",
       "        text-align: right;\n",
       "    }\n",
       "</style>\n",
       "<table border=\"1\" class=\"dataframe\">\n",
       "  <thead>\n",
       "    <tr style=\"text-align: right;\">\n",
       "      <th></th>\n",
       "      <th>state_id</th>\n",
       "      <th>state_name</th>\n",
       "      <th>abbreviation</th>\n",
       "      <th>total_population</th>\n",
       "      <th>hispanic_population</th>\n",
       "      <th>avg_income</th>\n",
       "    </tr>\n",
       "  </thead>\n",
       "  <tbody>\n",
       "    <tr>\n",
       "      <th>0</th>\n",
       "      <td>6</td>\n",
       "      <td>Arizona</td>\n",
       "      <td>AZ</td>\n",
       "      <td>6707875</td>\n",
       "      <td>2030951</td>\n",
       "      <td>45892.43</td>\n",
       "    </tr>\n",
       "    <tr>\n",
       "      <th>1</th>\n",
       "      <td>2</td>\n",
       "      <td>California</td>\n",
       "      <td>CA</td>\n",
       "      <td>38773436</td>\n",
       "      <td>14744533</td>\n",
       "      <td>63364.21</td>\n",
       "    </tr>\n",
       "    <tr>\n",
       "      <th>2</th>\n",
       "      <td>1</td>\n",
       "      <td>Florida</td>\n",
       "      <td>FL</td>\n",
       "      <td>20158603</td>\n",
       "      <td>4695397</td>\n",
       "      <td>48321.24</td>\n",
       "    </tr>\n",
       "    <tr>\n",
       "      <th>3</th>\n",
       "      <td>5</td>\n",
       "      <td>Illinois</td>\n",
       "      <td>IL</td>\n",
       "      <td>12829297</td>\n",
       "      <td>2113775</td>\n",
       "      <td>53467.05</td>\n",
       "    </tr>\n",
       "    <tr>\n",
       "      <th>4</th>\n",
       "      <td>4</td>\n",
       "      <td>New York</td>\n",
       "      <td>NY</td>\n",
       "      <td>19664161</td>\n",
       "      <td>3559667</td>\n",
       "      <td>59272.35</td>\n",
       "    </tr>\n",
       "    <tr>\n",
       "      <th>5</th>\n",
       "      <td>3</td>\n",
       "      <td>Texas</td>\n",
       "      <td>TX</td>\n",
       "      <td>27337059</td>\n",
       "      <td>10704104</td>\n",
       "      <td>50373.87</td>\n",
       "    </tr>\n",
       "  </tbody>\n",
       "</table>\n",
       "</div>"
      ],
      "text/plain": [
       "   state_id  state_name abbreviation  total_population  hispanic_population  \\\n",
       "0         6     Arizona           AZ           6707875              2030951   \n",
       "1         2  California           CA          38773436             14744533   \n",
       "2         1     Florida           FL          20158603              4695397   \n",
       "3         5    Illinois           IL          12829297              2113775   \n",
       "4         4    New York           NY          19664161              3559667   \n",
       "5         3       Texas           TX          27337059             10704104   \n",
       "\n",
       "   avg_income  \n",
       "0    45892.43  \n",
       "1    63364.21  \n",
       "2    48321.24  \n",
       "3    53467.05  \n",
       "4    59272.35  \n",
       "5    50373.87  "
      ]
     },
     "execution_count": 157,
     "metadata": {},
     "output_type": "execute_result"
    }
   ],
   "source": [
    "df_pobla.head(7)"
   ]
  },
  {
   "cell_type": "markdown",
   "metadata": {},
   "source": [
    "Unimos los DataFrames"
   ]
  },
  {
   "cell_type": "code",
   "execution_count": 158,
   "metadata": {},
   "outputs": [],
   "source": [
    "# Unir el DataFrame del modelo con el DataFrame de población\n",
    "df_model = df1.merge(df_pobla[['state_name', 'total_population', 'hispanic_population', 'avg_income']], \n",
    "              on='state_name', \n",
    "              how='left')"
   ]
  },
  {
   "cell_type": "code",
   "execution_count": 159,
   "metadata": {},
   "outputs": [
    {
     "data": {
      "text/html": [
       "<div>\n",
       "<style scoped>\n",
       "    .dataframe tbody tr th:only-of-type {\n",
       "        vertical-align: middle;\n",
       "    }\n",
       "\n",
       "    .dataframe tbody tr th {\n",
       "        vertical-align: top;\n",
       "    }\n",
       "\n",
       "    .dataframe thead th {\n",
       "        text-align: right;\n",
       "    }\n",
       "</style>\n",
       "<table border=\"1\" class=\"dataframe\">\n",
       "  <thead>\n",
       "    <tr style=\"text-align: right;\">\n",
       "      <th></th>\n",
       "      <th>id</th>\n",
       "      <th>name</th>\n",
       "      <th>address</th>\n",
       "      <th>state_name</th>\n",
       "      <th>latitude</th>\n",
       "      <th>longitude</th>\n",
       "      <th>avg_rating</th>\n",
       "      <th>review</th>\n",
       "      <th>is_open</th>\n",
       "      <th>CreditCards</th>\n",
       "      <th>OutdoorSeating</th>\n",
       "      <th>TakeOut</th>\n",
       "      <th>cat_restaurante brasileño</th>\n",
       "      <th>cat_restaurante caribeño</th>\n",
       "      <th>cat_restaurante centroamericano</th>\n",
       "      <th>cat_restaurante colombiano</th>\n",
       "      <th>cat_restaurante cubano</th>\n",
       "      <th>cat_restaurante dominicano</th>\n",
       "      <th>cat_restaurante latinoamericano</th>\n",
       "      <th>cat_restaurante mexicano</th>\n",
       "      <th>cat_restaurante peruano</th>\n",
       "      <th>cat_restaurante venezolano</th>\n",
       "      <th>total_population</th>\n",
       "      <th>hispanic_population</th>\n",
       "      <th>avg_income</th>\n",
       "    </tr>\n",
       "  </thead>\n",
       "  <tbody>\n",
       "    <tr>\n",
       "      <th>0</th>\n",
       "      <td>aNtKyc2rr-uK5cqzY9TVQQ</td>\n",
       "      <td>Chipotle Mexican Grill</td>\n",
       "      <td>10160 Ulmerton Rd</td>\n",
       "      <td>Florida</td>\n",
       "      <td>27.894167</td>\n",
       "      <td>-82.779866</td>\n",
       "      <td>3.0</td>\n",
       "      <td>19.0</td>\n",
       "      <td>1</td>\n",
       "      <td>1</td>\n",
       "      <td>0</td>\n",
       "      <td>1</td>\n",
       "      <td>0</td>\n",
       "      <td>0</td>\n",
       "      <td>0</td>\n",
       "      <td>0</td>\n",
       "      <td>0</td>\n",
       "      <td>0</td>\n",
       "      <td>0</td>\n",
       "      <td>1</td>\n",
       "      <td>0</td>\n",
       "      <td>0</td>\n",
       "      <td>20158603</td>\n",
       "      <td>4695397</td>\n",
       "      <td>48321.24</td>\n",
       "    </tr>\n",
       "    <tr>\n",
       "      <th>1</th>\n",
       "      <td>XwoXi0M66RU6Gouq-DSDHw</td>\n",
       "      <td>G Peppers Grill &amp; Tavern</td>\n",
       "      <td>8745 Gunn Hwy</td>\n",
       "      <td>Florida</td>\n",
       "      <td>28.092136</td>\n",
       "      <td>-82.578574</td>\n",
       "      <td>4.0</td>\n",
       "      <td>82.0</td>\n",
       "      <td>1</td>\n",
       "      <td>1</td>\n",
       "      <td>1</td>\n",
       "      <td>1</td>\n",
       "      <td>0</td>\n",
       "      <td>0</td>\n",
       "      <td>0</td>\n",
       "      <td>0</td>\n",
       "      <td>0</td>\n",
       "      <td>0</td>\n",
       "      <td>0</td>\n",
       "      <td>1</td>\n",
       "      <td>0</td>\n",
       "      <td>0</td>\n",
       "      <td>20158603</td>\n",
       "      <td>4695397</td>\n",
       "      <td>48321.24</td>\n",
       "    </tr>\n",
       "  </tbody>\n",
       "</table>\n",
       "</div>"
      ],
      "text/plain": [
       "                       id                      name            address  \\\n",
       "0  aNtKyc2rr-uK5cqzY9TVQQ    Chipotle Mexican Grill  10160 Ulmerton Rd   \n",
       "1  XwoXi0M66RU6Gouq-DSDHw  G Peppers Grill & Tavern      8745 Gunn Hwy   \n",
       "\n",
       "  state_name   latitude  longitude  avg_rating  review  is_open  CreditCards  \\\n",
       "0    Florida  27.894167 -82.779866         3.0    19.0        1            1   \n",
       "1    Florida  28.092136 -82.578574         4.0    82.0        1            1   \n",
       "\n",
       "   OutdoorSeating  TakeOut  cat_restaurante brasileño  \\\n",
       "0               0        1                          0   \n",
       "1               1        1                          0   \n",
       "\n",
       "   cat_restaurante caribeño  cat_restaurante centroamericano  \\\n",
       "0                         0                                0   \n",
       "1                         0                                0   \n",
       "\n",
       "   cat_restaurante colombiano  cat_restaurante cubano  \\\n",
       "0                           0                       0   \n",
       "1                           0                       0   \n",
       "\n",
       "   cat_restaurante dominicano  cat_restaurante latinoamericano  \\\n",
       "0                           0                                0   \n",
       "1                           0                                0   \n",
       "\n",
       "   cat_restaurante mexicano  cat_restaurante peruano  \\\n",
       "0                         1                        0   \n",
       "1                         1                        0   \n",
       "\n",
       "   cat_restaurante venezolano  total_population  hispanic_population  \\\n",
       "0                           0          20158603              4695397   \n",
       "1                           0          20158603              4695397   \n",
       "\n",
       "   avg_income  \n",
       "0    48321.24  \n",
       "1    48321.24  "
      ]
     },
     "execution_count": 159,
     "metadata": {},
     "output_type": "execute_result"
    }
   ],
   "source": [
    "# Verificar la integración\n",
    "df_model.head(2)"
   ]
  },
  {
   "cell_type": "code",
   "execution_count": 160,
   "metadata": {},
   "outputs": [
    {
     "name": "stdout",
     "output_type": "stream",
     "text": [
      "Valores nulos después de la unión:\n",
      "total_population       0\n",
      "hispanic_population    0\n",
      "avg_income             0\n",
      "dtype: int64\n"
     ]
    }
   ],
   "source": [
    "# Verificar valores faltantes en las columnas nuevas\n",
    "print(\"Valores nulos después de la unión:\")\n",
    "print(df_model[['total_population', 'hispanic_population', 'avg_income']].isnull().sum())"
   ]
  },
  {
   "cell_type": "code",
   "execution_count": 161,
   "metadata": {},
   "outputs": [
    {
     "name": "stdout",
     "output_type": "stream",
     "text": [
      "<class 'pandas.core.frame.DataFrame'>\n",
      "RangeIndex: 2098 entries, 0 to 2097\n",
      "Data columns (total 25 columns):\n",
      " #   Column                           Non-Null Count  Dtype  \n",
      "---  ------                           --------------  -----  \n",
      " 0   id                               2098 non-null   object \n",
      " 1   name                             2098 non-null   object \n",
      " 2   address                          2074 non-null   object \n",
      " 3   state_name                       2098 non-null   object \n",
      " 4   latitude                         2098 non-null   float64\n",
      " 5   longitude                        2098 non-null   float64\n",
      " 6   avg_rating                       2098 non-null   float64\n",
      " 7   review                           2098 non-null   float64\n",
      " 8   is_open                          2098 non-null   int64  \n",
      " 9   CreditCards                      2098 non-null   int64  \n",
      " 10  OutdoorSeating                   2098 non-null   int64  \n",
      " 11  TakeOut                          2098 non-null   int64  \n",
      " 12  cat_restaurante brasileño        2098 non-null   int32  \n",
      " 13  cat_restaurante caribeño         2098 non-null   int32  \n",
      " 14  cat_restaurante centroamericano  2098 non-null   int32  \n",
      " 15  cat_restaurante colombiano       2098 non-null   int32  \n",
      " 16  cat_restaurante cubano           2098 non-null   int32  \n",
      " 17  cat_restaurante dominicano       2098 non-null   int32  \n",
      " 18  cat_restaurante latinoamericano  2098 non-null   int32  \n",
      " 19  cat_restaurante mexicano         2098 non-null   int32  \n",
      " 20  cat_restaurante peruano          2098 non-null   int32  \n",
      " 21  cat_restaurante venezolano       2098 non-null   int32  \n",
      " 22  total_population                 2098 non-null   int64  \n",
      " 23  hispanic_population              2098 non-null   int64  \n",
      " 24  avg_income                       2098 non-null   float64\n",
      "dtypes: float64(5), int32(10), int64(6), object(4)\n",
      "memory usage: 327.9+ KB\n"
     ]
    }
   ],
   "source": [
    "df_model.info()"
   ]
  },
  {
   "cell_type": "markdown",
   "metadata": {},
   "source": [
    "## 3. Feature Engineering"
   ]
  },
  {
   "cell_type": "markdown",
   "metadata": {},
   "source": [
    "Se utiliza la metodología de ingeniería de características para seleccionar las variables más relevantes para el modelo ML"
   ]
  },
  {
   "cell_type": "code",
   "execution_count": 162,
   "metadata": {},
   "outputs": [
    {
     "name": "stdout",
     "output_type": "stream",
     "text": [
      "Primeras filas con la proporción de población hispana:\n",
      "   state_name  hispanic_population_ratio\n",
      "0     Florida                   0.232923\n",
      "1     Florida                   0.232923\n",
      "2  California                   0.380274\n",
      "3     Florida                   0.232923\n",
      "4  California                   0.380274\n"
     ]
    }
   ],
   "source": [
    "# Se crea el ratio de población hispana en df_model\n",
    "df_model['hispanic_population_ratio'] = df_model['hispanic_population'] / df_model['total_population']\n",
    "\n",
    "# Verificar las primeras filas\n",
    "print(\"Primeras filas con la proporción de población hispana:\")\n",
    "print(df_model[['state_name', 'hispanic_population_ratio']].head())"
   ]
  },
  {
   "cell_type": "code",
   "execution_count": 163,
   "metadata": {},
   "outputs": [
    {
     "name": "stdout",
     "output_type": "stream",
     "text": [
      "Ingresos normalizados:\n",
      "   avg_income  avg_income_normalized\n",
      "0    48321.24               0.139013\n",
      "1    48321.24               0.139013\n",
      "2    63364.21               1.000000\n",
      "3    48321.24               0.139013\n",
      "4    63364.21               1.000000\n"
     ]
    }
   ],
   "source": [
    "# Normalizamos ingresos promedio\n",
    "from sklearn.preprocessing import MinMaxScaler\n",
    "\n",
    "scaler = MinMaxScaler()\n",
    "df_model['avg_income_normalized'] = scaler.fit_transform(df_model[['avg_income']])\n",
    "\n",
    "# Verificar normalización\n",
    "print(\"Ingresos normalizados:\")\n",
    "print(df_model[['avg_income', 'avg_income_normalized']].head())"
   ]
  },
  {
   "cell_type": "code",
   "execution_count": 164,
   "metadata": {},
   "outputs": [
    {
     "name": "stdout",
     "output_type": "stream",
     "text": [
      "Primeras filas con métricas de popularidad:\n",
      "   avg_rating  review  popularity_score\n",
      "0         3.0    19.0          0.301463\n",
      "1         4.0    82.0          0.458044\n",
      "2         4.0    49.0          0.454597\n",
      "3         5.0     6.0          0.600104\n",
      "4         4.0   189.0          0.469222\n"
     ]
    }
   ],
   "source": [
    "# Normalizamos avg_rating y review\n",
    "df_model['avg_rating_normalized'] = scaler.fit_transform(df_model[['avg_rating']])\n",
    "df_model['review_normalized'] = scaler.fit_transform(df_model[['review']])\n",
    "\n",
    "# Creamos una métrica de popularidad combinada\n",
    "df_model['popularity_score'] = df_model['avg_rating_normalized'] * 0.6 + df_model['review_normalized'] * 0.4\n",
    "\n",
    "# Verificar las primeras filas\n",
    "print(\"Primeras filas con métricas de popularidad:\")\n",
    "print(df_model[['avg_rating', 'review', 'popularity_score']].head())"
   ]
  },
  {
   "cell_type": "code",
   "execution_count": 165,
   "metadata": {},
   "outputs": [
    {
     "data": {
      "text/html": [
       "<div>\n",
       "<style scoped>\n",
       "    .dataframe tbody tr th:only-of-type {\n",
       "        vertical-align: middle;\n",
       "    }\n",
       "\n",
       "    .dataframe tbody tr th {\n",
       "        vertical-align: top;\n",
       "    }\n",
       "\n",
       "    .dataframe thead th {\n",
       "        text-align: right;\n",
       "    }\n",
       "</style>\n",
       "<table border=\"1\" class=\"dataframe\">\n",
       "  <thead>\n",
       "    <tr style=\"text-align: right;\">\n",
       "      <th></th>\n",
       "      <th>id</th>\n",
       "      <th>name</th>\n",
       "      <th>address</th>\n",
       "      <th>state_name</th>\n",
       "      <th>latitude</th>\n",
       "      <th>longitude</th>\n",
       "      <th>avg_rating</th>\n",
       "      <th>review</th>\n",
       "      <th>is_open</th>\n",
       "      <th>CreditCards</th>\n",
       "      <th>OutdoorSeating</th>\n",
       "      <th>TakeOut</th>\n",
       "      <th>cat_restaurante brasileño</th>\n",
       "      <th>cat_restaurante caribeño</th>\n",
       "      <th>cat_restaurante centroamericano</th>\n",
       "      <th>cat_restaurante colombiano</th>\n",
       "      <th>cat_restaurante cubano</th>\n",
       "      <th>cat_restaurante dominicano</th>\n",
       "      <th>cat_restaurante latinoamericano</th>\n",
       "      <th>cat_restaurante mexicano</th>\n",
       "      <th>cat_restaurante peruano</th>\n",
       "      <th>cat_restaurante venezolano</th>\n",
       "      <th>total_population</th>\n",
       "      <th>hispanic_population</th>\n",
       "      <th>avg_income</th>\n",
       "      <th>hispanic_population_ratio</th>\n",
       "      <th>avg_income_normalized</th>\n",
       "      <th>avg_rating_normalized</th>\n",
       "      <th>review_normalized</th>\n",
       "      <th>popularity_score</th>\n",
       "    </tr>\n",
       "  </thead>\n",
       "  <tbody>\n",
       "    <tr>\n",
       "      <th>0</th>\n",
       "      <td>aNtKyc2rr-uK5cqzY9TVQQ</td>\n",
       "      <td>Chipotle Mexican Grill</td>\n",
       "      <td>10160 Ulmerton Rd</td>\n",
       "      <td>Florida</td>\n",
       "      <td>27.894167</td>\n",
       "      <td>-82.779866</td>\n",
       "      <td>3.0</td>\n",
       "      <td>19.0</td>\n",
       "      <td>1</td>\n",
       "      <td>1</td>\n",
       "      <td>0</td>\n",
       "      <td>1</td>\n",
       "      <td>0</td>\n",
       "      <td>0</td>\n",
       "      <td>0</td>\n",
       "      <td>0</td>\n",
       "      <td>0</td>\n",
       "      <td>0</td>\n",
       "      <td>0</td>\n",
       "      <td>1</td>\n",
       "      <td>0</td>\n",
       "      <td>0</td>\n",
       "      <td>20158603</td>\n",
       "      <td>4695397</td>\n",
       "      <td>48321.24</td>\n",
       "      <td>0.232923</td>\n",
       "      <td>0.139013</td>\n",
       "      <td>0.50</td>\n",
       "      <td>0.003656</td>\n",
       "      <td>0.301463</td>\n",
       "    </tr>\n",
       "    <tr>\n",
       "      <th>1</th>\n",
       "      <td>XwoXi0M66RU6Gouq-DSDHw</td>\n",
       "      <td>G Peppers Grill &amp; Tavern</td>\n",
       "      <td>8745 Gunn Hwy</td>\n",
       "      <td>Florida</td>\n",
       "      <td>28.092136</td>\n",
       "      <td>-82.578574</td>\n",
       "      <td>4.0</td>\n",
       "      <td>82.0</td>\n",
       "      <td>1</td>\n",
       "      <td>1</td>\n",
       "      <td>1</td>\n",
       "      <td>1</td>\n",
       "      <td>0</td>\n",
       "      <td>0</td>\n",
       "      <td>0</td>\n",
       "      <td>0</td>\n",
       "      <td>0</td>\n",
       "      <td>0</td>\n",
       "      <td>0</td>\n",
       "      <td>1</td>\n",
       "      <td>0</td>\n",
       "      <td>0</td>\n",
       "      <td>20158603</td>\n",
       "      <td>4695397</td>\n",
       "      <td>48321.24</td>\n",
       "      <td>0.232923</td>\n",
       "      <td>0.139013</td>\n",
       "      <td>0.75</td>\n",
       "      <td>0.020110</td>\n",
       "      <td>0.458044</td>\n",
       "    </tr>\n",
       "  </tbody>\n",
       "</table>\n",
       "</div>"
      ],
      "text/plain": [
       "                       id                      name            address  \\\n",
       "0  aNtKyc2rr-uK5cqzY9TVQQ    Chipotle Mexican Grill  10160 Ulmerton Rd   \n",
       "1  XwoXi0M66RU6Gouq-DSDHw  G Peppers Grill & Tavern      8745 Gunn Hwy   \n",
       "\n",
       "  state_name   latitude  longitude  avg_rating  review  is_open  CreditCards  \\\n",
       "0    Florida  27.894167 -82.779866         3.0    19.0        1            1   \n",
       "1    Florida  28.092136 -82.578574         4.0    82.0        1            1   \n",
       "\n",
       "   OutdoorSeating  TakeOut  cat_restaurante brasileño  \\\n",
       "0               0        1                          0   \n",
       "1               1        1                          0   \n",
       "\n",
       "   cat_restaurante caribeño  cat_restaurante centroamericano  \\\n",
       "0                         0                                0   \n",
       "1                         0                                0   \n",
       "\n",
       "   cat_restaurante colombiano  cat_restaurante cubano  \\\n",
       "0                           0                       0   \n",
       "1                           0                       0   \n",
       "\n",
       "   cat_restaurante dominicano  cat_restaurante latinoamericano  \\\n",
       "0                           0                                0   \n",
       "1                           0                                0   \n",
       "\n",
       "   cat_restaurante mexicano  cat_restaurante peruano  \\\n",
       "0                         1                        0   \n",
       "1                         1                        0   \n",
       "\n",
       "   cat_restaurante venezolano  total_population  hispanic_population  \\\n",
       "0                           0          20158603              4695397   \n",
       "1                           0          20158603              4695397   \n",
       "\n",
       "   avg_income  hispanic_population_ratio  avg_income_normalized  \\\n",
       "0    48321.24                   0.232923               0.139013   \n",
       "1    48321.24                   0.232923               0.139013   \n",
       "\n",
       "   avg_rating_normalized  review_normalized  popularity_score  \n",
       "0                   0.50           0.003656          0.301463  \n",
       "1                   0.75           0.020110          0.458044  "
      ]
     },
     "execution_count": 165,
     "metadata": {},
     "output_type": "execute_result"
    }
   ],
   "source": [
    "# Verificamos\n",
    "df_model.head(2)"
   ]
  },
  {
   "cell_type": "code",
   "execution_count": 166,
   "metadata": {},
   "outputs": [],
   "source": [
    "# Eliminar columnas redundantes\n",
    "drop_columns=['id','name','address','state_name','avg_rating','review','total_population','hispanic_population','avg_income','avg_rating_normalized','review_normalized']\n",
    "df_model = df_model.drop(columns=drop_columns, axis=1)"
   ]
  },
  {
   "cell_type": "markdown",
   "metadata": {},
   "source": [
    "## 4. Dividir el Dataset"
   ]
  },
  {
   "cell_type": "markdown",
   "metadata": {},
   "source": [
    "Dividimos el dataset en:\n",
    "\n",
    "Entrenamiento (70%): Para ajustar el modelo.\n",
    "Prueba (30%): Para evaluar el modelo."
   ]
  },
  {
   "cell_type": "code",
   "execution_count": 167,
   "metadata": {},
   "outputs": [],
   "source": [
    "from sklearn.model_selection import train_test_split\n",
    "\n",
    "# Seleccionar las columnas relevantes para el modelo\n",
    "X = df_model.drop(columns=['is_open'])  # Variables independientes, se eliminan columnas redudantes\n",
    "y = df_model['is_open']  # Variable objetivo"
   ]
  },
  {
   "cell_type": "code",
   "execution_count": 168,
   "metadata": {},
   "outputs": [],
   "source": [
    "# Dividir en conjuntos de entrenamiento (70%) y prueba (30%)\n",
    "X_train, X_test, y_train, y_test = train_test_split(X, y, test_size=0.3, random_state=42, stratify=y)"
   ]
  },
  {
   "cell_type": "code",
   "execution_count": 169,
   "metadata": {},
   "outputs": [
    {
     "name": "stdout",
     "output_type": "stream",
     "text": [
      "Tamaño de los conjuntos:\n",
      "X_train: (1468, 18), y_train: (1468,)\n",
      "X_test: (630, 18), y_test: (630,)\n"
     ]
    }
   ],
   "source": [
    "# Verificar las formas de los conjuntos\n",
    "print(\"Tamaño de los conjuntos:\")\n",
    "print(f\"X_train: {X_train.shape}, y_train: {y_train.shape}\")\n",
    "print(f\"X_test: {X_test.shape}, y_test: {y_test.shape}\")"
   ]
  },
  {
   "cell_type": "code",
   "execution_count": 170,
   "metadata": {},
   "outputs": [],
   "source": [
    "from imblearn.over_sampling import SMOTE\n",
    "\n",
    "# Aplicar SMOTE para balancear las clases\n",
    "smote = SMOTE(random_state=42)\n",
    "X_train_balanced, y_train_balanced = smote.fit_resample(X_train, y_train)"
   ]
  },
  {
   "cell_type": "markdown",
   "metadata": {},
   "source": [
    "## 5. Selección del Modelo"
   ]
  },
  {
   "cell_type": "code",
   "execution_count": 171,
   "metadata": {},
   "outputs": [],
   "source": [
    "# Importamos las liberías necesarias\n",
    "from sklearn.ensemble import RandomForestClassifier\n",
    "from sklearn.metrics import accuracy_score, classification_report, confusion_matrix"
   ]
  },
  {
   "cell_type": "code",
   "execution_count": 172,
   "metadata": {},
   "outputs": [],
   "source": [
    "# Crear el modelo de Random Forest\n",
    "rf_model = RandomForestClassifier(n_estimators=50, max_depth=8, random_state=42) # árboles en el bosque=50, profundidad de cada árbol=8"
   ]
  },
  {
   "cell_type": "code",
   "execution_count": 173,
   "metadata": {},
   "outputs": [
    {
     "data": {
      "text/html": [
       "<style>#sk-container-id-8 {\n",
       "  /* Definition of color scheme common for light and dark mode */\n",
       "  --sklearn-color-text: black;\n",
       "  --sklearn-color-line: gray;\n",
       "  /* Definition of color scheme for unfitted estimators */\n",
       "  --sklearn-color-unfitted-level-0: #fff5e6;\n",
       "  --sklearn-color-unfitted-level-1: #f6e4d2;\n",
       "  --sklearn-color-unfitted-level-2: #ffe0b3;\n",
       "  --sklearn-color-unfitted-level-3: chocolate;\n",
       "  /* Definition of color scheme for fitted estimators */\n",
       "  --sklearn-color-fitted-level-0: #f0f8ff;\n",
       "  --sklearn-color-fitted-level-1: #d4ebff;\n",
       "  --sklearn-color-fitted-level-2: #b3dbfd;\n",
       "  --sklearn-color-fitted-level-3: cornflowerblue;\n",
       "\n",
       "  /* Specific color for light theme */\n",
       "  --sklearn-color-text-on-default-background: var(--sg-text-color, var(--theme-code-foreground, var(--jp-content-font-color1, black)));\n",
       "  --sklearn-color-background: var(--sg-background-color, var(--theme-background, var(--jp-layout-color0, white)));\n",
       "  --sklearn-color-border-box: var(--sg-text-color, var(--theme-code-foreground, var(--jp-content-font-color1, black)));\n",
       "  --sklearn-color-icon: #696969;\n",
       "\n",
       "  @media (prefers-color-scheme: dark) {\n",
       "    /* Redefinition of color scheme for dark theme */\n",
       "    --sklearn-color-text-on-default-background: var(--sg-text-color, var(--theme-code-foreground, var(--jp-content-font-color1, white)));\n",
       "    --sklearn-color-background: var(--sg-background-color, var(--theme-background, var(--jp-layout-color0, #111)));\n",
       "    --sklearn-color-border-box: var(--sg-text-color, var(--theme-code-foreground, var(--jp-content-font-color1, white)));\n",
       "    --sklearn-color-icon: #878787;\n",
       "  }\n",
       "}\n",
       "\n",
       "#sk-container-id-8 {\n",
       "  color: var(--sklearn-color-text);\n",
       "}\n",
       "\n",
       "#sk-container-id-8 pre {\n",
       "  padding: 0;\n",
       "}\n",
       "\n",
       "#sk-container-id-8 input.sk-hidden--visually {\n",
       "  border: 0;\n",
       "  clip: rect(1px 1px 1px 1px);\n",
       "  clip: rect(1px, 1px, 1px, 1px);\n",
       "  height: 1px;\n",
       "  margin: -1px;\n",
       "  overflow: hidden;\n",
       "  padding: 0;\n",
       "  position: absolute;\n",
       "  width: 1px;\n",
       "}\n",
       "\n",
       "#sk-container-id-8 div.sk-dashed-wrapped {\n",
       "  border: 1px dashed var(--sklearn-color-line);\n",
       "  margin: 0 0.4em 0.5em 0.4em;\n",
       "  box-sizing: border-box;\n",
       "  padding-bottom: 0.4em;\n",
       "  background-color: var(--sklearn-color-background);\n",
       "}\n",
       "\n",
       "#sk-container-id-8 div.sk-container {\n",
       "  /* jupyter's `normalize.less` sets `[hidden] { display: none; }`\n",
       "     but bootstrap.min.css set `[hidden] { display: none !important; }`\n",
       "     so we also need the `!important` here to be able to override the\n",
       "     default hidden behavior on the sphinx rendered scikit-learn.org.\n",
       "     See: https://github.com/scikit-learn/scikit-learn/issues/21755 */\n",
       "  display: inline-block !important;\n",
       "  position: relative;\n",
       "}\n",
       "\n",
       "#sk-container-id-8 div.sk-text-repr-fallback {\n",
       "  display: none;\n",
       "}\n",
       "\n",
       "div.sk-parallel-item,\n",
       "div.sk-serial,\n",
       "div.sk-item {\n",
       "  /* draw centered vertical line to link estimators */\n",
       "  background-image: linear-gradient(var(--sklearn-color-text-on-default-background), var(--sklearn-color-text-on-default-background));\n",
       "  background-size: 2px 100%;\n",
       "  background-repeat: no-repeat;\n",
       "  background-position: center center;\n",
       "}\n",
       "\n",
       "/* Parallel-specific style estimator block */\n",
       "\n",
       "#sk-container-id-8 div.sk-parallel-item::after {\n",
       "  content: \"\";\n",
       "  width: 100%;\n",
       "  border-bottom: 2px solid var(--sklearn-color-text-on-default-background);\n",
       "  flex-grow: 1;\n",
       "}\n",
       "\n",
       "#sk-container-id-8 div.sk-parallel {\n",
       "  display: flex;\n",
       "  align-items: stretch;\n",
       "  justify-content: center;\n",
       "  background-color: var(--sklearn-color-background);\n",
       "  position: relative;\n",
       "}\n",
       "\n",
       "#sk-container-id-8 div.sk-parallel-item {\n",
       "  display: flex;\n",
       "  flex-direction: column;\n",
       "}\n",
       "\n",
       "#sk-container-id-8 div.sk-parallel-item:first-child::after {\n",
       "  align-self: flex-end;\n",
       "  width: 50%;\n",
       "}\n",
       "\n",
       "#sk-container-id-8 div.sk-parallel-item:last-child::after {\n",
       "  align-self: flex-start;\n",
       "  width: 50%;\n",
       "}\n",
       "\n",
       "#sk-container-id-8 div.sk-parallel-item:only-child::after {\n",
       "  width: 0;\n",
       "}\n",
       "\n",
       "/* Serial-specific style estimator block */\n",
       "\n",
       "#sk-container-id-8 div.sk-serial {\n",
       "  display: flex;\n",
       "  flex-direction: column;\n",
       "  align-items: center;\n",
       "  background-color: var(--sklearn-color-background);\n",
       "  padding-right: 1em;\n",
       "  padding-left: 1em;\n",
       "}\n",
       "\n",
       "\n",
       "/* Toggleable style: style used for estimator/Pipeline/ColumnTransformer box that is\n",
       "clickable and can be expanded/collapsed.\n",
       "- Pipeline and ColumnTransformer use this feature and define the default style\n",
       "- Estimators will overwrite some part of the style using the `sk-estimator` class\n",
       "*/\n",
       "\n",
       "/* Pipeline and ColumnTransformer style (default) */\n",
       "\n",
       "#sk-container-id-8 div.sk-toggleable {\n",
       "  /* Default theme specific background. It is overwritten whether we have a\n",
       "  specific estimator or a Pipeline/ColumnTransformer */\n",
       "  background-color: var(--sklearn-color-background);\n",
       "}\n",
       "\n",
       "/* Toggleable label */\n",
       "#sk-container-id-8 label.sk-toggleable__label {\n",
       "  cursor: pointer;\n",
       "  display: block;\n",
       "  width: 100%;\n",
       "  margin-bottom: 0;\n",
       "  padding: 0.5em;\n",
       "  box-sizing: border-box;\n",
       "  text-align: center;\n",
       "}\n",
       "\n",
       "#sk-container-id-8 label.sk-toggleable__label-arrow:before {\n",
       "  /* Arrow on the left of the label */\n",
       "  content: \"▸\";\n",
       "  float: left;\n",
       "  margin-right: 0.25em;\n",
       "  color: var(--sklearn-color-icon);\n",
       "}\n",
       "\n",
       "#sk-container-id-8 label.sk-toggleable__label-arrow:hover:before {\n",
       "  color: var(--sklearn-color-text);\n",
       "}\n",
       "\n",
       "/* Toggleable content - dropdown */\n",
       "\n",
       "#sk-container-id-8 div.sk-toggleable__content {\n",
       "  max-height: 0;\n",
       "  max-width: 0;\n",
       "  overflow: hidden;\n",
       "  text-align: left;\n",
       "  /* unfitted */\n",
       "  background-color: var(--sklearn-color-unfitted-level-0);\n",
       "}\n",
       "\n",
       "#sk-container-id-8 div.sk-toggleable__content.fitted {\n",
       "  /* fitted */\n",
       "  background-color: var(--sklearn-color-fitted-level-0);\n",
       "}\n",
       "\n",
       "#sk-container-id-8 div.sk-toggleable__content pre {\n",
       "  margin: 0.2em;\n",
       "  border-radius: 0.25em;\n",
       "  color: var(--sklearn-color-text);\n",
       "  /* unfitted */\n",
       "  background-color: var(--sklearn-color-unfitted-level-0);\n",
       "}\n",
       "\n",
       "#sk-container-id-8 div.sk-toggleable__content.fitted pre {\n",
       "  /* unfitted */\n",
       "  background-color: var(--sklearn-color-fitted-level-0);\n",
       "}\n",
       "\n",
       "#sk-container-id-8 input.sk-toggleable__control:checked~div.sk-toggleable__content {\n",
       "  /* Expand drop-down */\n",
       "  max-height: 200px;\n",
       "  max-width: 100%;\n",
       "  overflow: auto;\n",
       "}\n",
       "\n",
       "#sk-container-id-8 input.sk-toggleable__control:checked~label.sk-toggleable__label-arrow:before {\n",
       "  content: \"▾\";\n",
       "}\n",
       "\n",
       "/* Pipeline/ColumnTransformer-specific style */\n",
       "\n",
       "#sk-container-id-8 div.sk-label input.sk-toggleable__control:checked~label.sk-toggleable__label {\n",
       "  color: var(--sklearn-color-text);\n",
       "  background-color: var(--sklearn-color-unfitted-level-2);\n",
       "}\n",
       "\n",
       "#sk-container-id-8 div.sk-label.fitted input.sk-toggleable__control:checked~label.sk-toggleable__label {\n",
       "  background-color: var(--sklearn-color-fitted-level-2);\n",
       "}\n",
       "\n",
       "/* Estimator-specific style */\n",
       "\n",
       "/* Colorize estimator box */\n",
       "#sk-container-id-8 div.sk-estimator input.sk-toggleable__control:checked~label.sk-toggleable__label {\n",
       "  /* unfitted */\n",
       "  background-color: var(--sklearn-color-unfitted-level-2);\n",
       "}\n",
       "\n",
       "#sk-container-id-8 div.sk-estimator.fitted input.sk-toggleable__control:checked~label.sk-toggleable__label {\n",
       "  /* fitted */\n",
       "  background-color: var(--sklearn-color-fitted-level-2);\n",
       "}\n",
       "\n",
       "#sk-container-id-8 div.sk-label label.sk-toggleable__label,\n",
       "#sk-container-id-8 div.sk-label label {\n",
       "  /* The background is the default theme color */\n",
       "  color: var(--sklearn-color-text-on-default-background);\n",
       "}\n",
       "\n",
       "/* On hover, darken the color of the background */\n",
       "#sk-container-id-8 div.sk-label:hover label.sk-toggleable__label {\n",
       "  color: var(--sklearn-color-text);\n",
       "  background-color: var(--sklearn-color-unfitted-level-2);\n",
       "}\n",
       "\n",
       "/* Label box, darken color on hover, fitted */\n",
       "#sk-container-id-8 div.sk-label.fitted:hover label.sk-toggleable__label.fitted {\n",
       "  color: var(--sklearn-color-text);\n",
       "  background-color: var(--sklearn-color-fitted-level-2);\n",
       "}\n",
       "\n",
       "/* Estimator label */\n",
       "\n",
       "#sk-container-id-8 div.sk-label label {\n",
       "  font-family: monospace;\n",
       "  font-weight: bold;\n",
       "  display: inline-block;\n",
       "  line-height: 1.2em;\n",
       "}\n",
       "\n",
       "#sk-container-id-8 div.sk-label-container {\n",
       "  text-align: center;\n",
       "}\n",
       "\n",
       "/* Estimator-specific */\n",
       "#sk-container-id-8 div.sk-estimator {\n",
       "  font-family: monospace;\n",
       "  border: 1px dotted var(--sklearn-color-border-box);\n",
       "  border-radius: 0.25em;\n",
       "  box-sizing: border-box;\n",
       "  margin-bottom: 0.5em;\n",
       "  /* unfitted */\n",
       "  background-color: var(--sklearn-color-unfitted-level-0);\n",
       "}\n",
       "\n",
       "#sk-container-id-8 div.sk-estimator.fitted {\n",
       "  /* fitted */\n",
       "  background-color: var(--sklearn-color-fitted-level-0);\n",
       "}\n",
       "\n",
       "/* on hover */\n",
       "#sk-container-id-8 div.sk-estimator:hover {\n",
       "  /* unfitted */\n",
       "  background-color: var(--sklearn-color-unfitted-level-2);\n",
       "}\n",
       "\n",
       "#sk-container-id-8 div.sk-estimator.fitted:hover {\n",
       "  /* fitted */\n",
       "  background-color: var(--sklearn-color-fitted-level-2);\n",
       "}\n",
       "\n",
       "/* Specification for estimator info (e.g. \"i\" and \"?\") */\n",
       "\n",
       "/* Common style for \"i\" and \"?\" */\n",
       "\n",
       ".sk-estimator-doc-link,\n",
       "a:link.sk-estimator-doc-link,\n",
       "a:visited.sk-estimator-doc-link {\n",
       "  float: right;\n",
       "  font-size: smaller;\n",
       "  line-height: 1em;\n",
       "  font-family: monospace;\n",
       "  background-color: var(--sklearn-color-background);\n",
       "  border-radius: 1em;\n",
       "  height: 1em;\n",
       "  width: 1em;\n",
       "  text-decoration: none !important;\n",
       "  margin-left: 1ex;\n",
       "  /* unfitted */\n",
       "  border: var(--sklearn-color-unfitted-level-1) 1pt solid;\n",
       "  color: var(--sklearn-color-unfitted-level-1);\n",
       "}\n",
       "\n",
       ".sk-estimator-doc-link.fitted,\n",
       "a:link.sk-estimator-doc-link.fitted,\n",
       "a:visited.sk-estimator-doc-link.fitted {\n",
       "  /* fitted */\n",
       "  border: var(--sklearn-color-fitted-level-1) 1pt solid;\n",
       "  color: var(--sklearn-color-fitted-level-1);\n",
       "}\n",
       "\n",
       "/* On hover */\n",
       "div.sk-estimator:hover .sk-estimator-doc-link:hover,\n",
       ".sk-estimator-doc-link:hover,\n",
       "div.sk-label-container:hover .sk-estimator-doc-link:hover,\n",
       ".sk-estimator-doc-link:hover {\n",
       "  /* unfitted */\n",
       "  background-color: var(--sklearn-color-unfitted-level-3);\n",
       "  color: var(--sklearn-color-background);\n",
       "  text-decoration: none;\n",
       "}\n",
       "\n",
       "div.sk-estimator.fitted:hover .sk-estimator-doc-link.fitted:hover,\n",
       ".sk-estimator-doc-link.fitted:hover,\n",
       "div.sk-label-container:hover .sk-estimator-doc-link.fitted:hover,\n",
       ".sk-estimator-doc-link.fitted:hover {\n",
       "  /* fitted */\n",
       "  background-color: var(--sklearn-color-fitted-level-3);\n",
       "  color: var(--sklearn-color-background);\n",
       "  text-decoration: none;\n",
       "}\n",
       "\n",
       "/* Span, style for the box shown on hovering the info icon */\n",
       ".sk-estimator-doc-link span {\n",
       "  display: none;\n",
       "  z-index: 9999;\n",
       "  position: relative;\n",
       "  font-weight: normal;\n",
       "  right: .2ex;\n",
       "  padding: .5ex;\n",
       "  margin: .5ex;\n",
       "  width: min-content;\n",
       "  min-width: 20ex;\n",
       "  max-width: 50ex;\n",
       "  color: var(--sklearn-color-text);\n",
       "  box-shadow: 2pt 2pt 4pt #999;\n",
       "  /* unfitted */\n",
       "  background: var(--sklearn-color-unfitted-level-0);\n",
       "  border: .5pt solid var(--sklearn-color-unfitted-level-3);\n",
       "}\n",
       "\n",
       ".sk-estimator-doc-link.fitted span {\n",
       "  /* fitted */\n",
       "  background: var(--sklearn-color-fitted-level-0);\n",
       "  border: var(--sklearn-color-fitted-level-3);\n",
       "}\n",
       "\n",
       ".sk-estimator-doc-link:hover span {\n",
       "  display: block;\n",
       "}\n",
       "\n",
       "/* \"?\"-specific style due to the `<a>` HTML tag */\n",
       "\n",
       "#sk-container-id-8 a.estimator_doc_link {\n",
       "  float: right;\n",
       "  font-size: 1rem;\n",
       "  line-height: 1em;\n",
       "  font-family: monospace;\n",
       "  background-color: var(--sklearn-color-background);\n",
       "  border-radius: 1rem;\n",
       "  height: 1rem;\n",
       "  width: 1rem;\n",
       "  text-decoration: none;\n",
       "  /* unfitted */\n",
       "  color: var(--sklearn-color-unfitted-level-1);\n",
       "  border: var(--sklearn-color-unfitted-level-1) 1pt solid;\n",
       "}\n",
       "\n",
       "#sk-container-id-8 a.estimator_doc_link.fitted {\n",
       "  /* fitted */\n",
       "  border: var(--sklearn-color-fitted-level-1) 1pt solid;\n",
       "  color: var(--sklearn-color-fitted-level-1);\n",
       "}\n",
       "\n",
       "/* On hover */\n",
       "#sk-container-id-8 a.estimator_doc_link:hover {\n",
       "  /* unfitted */\n",
       "  background-color: var(--sklearn-color-unfitted-level-3);\n",
       "  color: var(--sklearn-color-background);\n",
       "  text-decoration: none;\n",
       "}\n",
       "\n",
       "#sk-container-id-8 a.estimator_doc_link.fitted:hover {\n",
       "  /* fitted */\n",
       "  background-color: var(--sklearn-color-fitted-level-3);\n",
       "}\n",
       "</style><div id=\"sk-container-id-8\" class=\"sk-top-container\"><div class=\"sk-text-repr-fallback\"><pre>RandomForestClassifier(max_depth=8, n_estimators=50, random_state=42)</pre><b>In a Jupyter environment, please rerun this cell to show the HTML representation or trust the notebook. <br />On GitHub, the HTML representation is unable to render, please try loading this page with nbviewer.org.</b></div><div class=\"sk-container\" hidden><div class=\"sk-item\"><div class=\"sk-estimator fitted sk-toggleable\"><input class=\"sk-toggleable__control sk-hidden--visually\" id=\"sk-estimator-id-8\" type=\"checkbox\" checked><label for=\"sk-estimator-id-8\" class=\"sk-toggleable__label fitted sk-toggleable__label-arrow fitted\">&nbsp;&nbsp;RandomForestClassifier<a class=\"sk-estimator-doc-link fitted\" rel=\"noreferrer\" target=\"_blank\" href=\"https://scikit-learn.org/1.5/modules/generated/sklearn.ensemble.RandomForestClassifier.html\">?<span>Documentation for RandomForestClassifier</span></a><span class=\"sk-estimator-doc-link fitted\">i<span>Fitted</span></span></label><div class=\"sk-toggleable__content fitted\"><pre>RandomForestClassifier(max_depth=8, n_estimators=50, random_state=42)</pre></div> </div></div></div></div>"
      ],
      "text/plain": [
       "RandomForestClassifier(max_depth=8, n_estimators=50, random_state=42)"
      ]
     },
     "execution_count": 173,
     "metadata": {},
     "output_type": "execute_result"
    }
   ],
   "source": [
    "# Entrenar el modelo\n",
    "rf_model.fit(X_train_balanced, y_train_balanced)"
   ]
  },
  {
   "cell_type": "code",
   "execution_count": 174,
   "metadata": {},
   "outputs": [],
   "source": [
    "# Predicciones\n",
    "y_train_pred = rf_model.predict(X_train)\n",
    "y_test_pred = rf_model.predict(X_test)"
   ]
  },
  {
   "cell_type": "code",
   "execution_count": 175,
   "metadata": {},
   "outputs": [],
   "source": [
    "y_prob = rf_model.predict_proba(X_test)[:, 1]  # Probabilidades para el cálculo del ROC-AUC"
   ]
  },
  {
   "cell_type": "markdown",
   "metadata": {},
   "source": [
    "## 6. Evaluación del Modelo"
   ]
  },
  {
   "cell_type": "markdown",
   "metadata": {},
   "source": [
    "Usaremos métricas como:\n",
    "\n",
    "Accuracy: Porcentaje de predicciones correctas.\n",
    "\n",
    "F1-score: Equilibrio entre precisión y sensibilidad.\n",
    "\n",
    "ROC-AUC: Para evaluar separabilidad."
   ]
  },
  {
   "cell_type": "markdown",
   "metadata": {},
   "source": [
    "Accuracy y F1-score:"
   ]
  },
  {
   "cell_type": "code",
   "execution_count": 176,
   "metadata": {},
   "outputs": [
    {
     "name": "stdout",
     "output_type": "stream",
     "text": [
      "Resultados del Random Forest:\n",
      "Precisión en el conjunto de entrenamiento: 0.75\n",
      "Precisión en el conjunto de prueba: 0.63\n",
      "\n",
      "Reporte de clasificación (conjunto de prueba):\n",
      "              precision    recall  f1-score   support\n",
      "\n",
      "           0       0.45      0.63      0.52       201\n",
      "           1       0.79      0.63      0.70       429\n",
      "\n",
      "    accuracy                           0.63       630\n",
      "   macro avg       0.62      0.63      0.61       630\n",
      "weighted avg       0.68      0.63      0.65       630\n",
      "\n"
     ]
    }
   ],
   "source": [
    "# Evaluar el modelo\n",
    "train_accuracy = accuracy_score(y_train, y_train_pred)\n",
    "test_accuracy = accuracy_score(y_test, y_test_pred)\n",
    "\n",
    "print(\"Resultados del Random Forest:\")\n",
    "print(f\"Precisión en el conjunto de entrenamiento: {train_accuracy:.2f}\")\n",
    "print(f\"Precisión en el conjunto de prueba: {test_accuracy:.2f}\")\n",
    "print(\"\\nReporte de clasificación (conjunto de prueba):\")\n",
    "print(classification_report(y_test, y_test_pred))"
   ]
  },
  {
   "cell_type": "markdown",
   "metadata": {},
   "source": [
    "Interpretación:\n",
    "- Precisión en el conjunto de entrenamiento (0.75): Esto significa que el modelo clasificó correctamente el 75% de las observaciones en el conjunto de datos con el que fue entrenado.\n",
    "\n",
    "- Precisión en el conjunto de prueba (0.63): Esta métrica es más importante, ya que evalúa la capacidad del modelo para generalizar a nuevos datos. Un valor de 0.63 indica que el modelo clasificó correctamente el 63% de las observaciones en el conjunto de prueba. La disminución en la precisión respecto al conjunto de entrenamiento sugiere un posible sobreajuste. Sin embargo, esta métrica se analizará con la validación cruzada, pues esta disminución en la precisión en el conjunto de entrenamiento sugiere un sobreajuste, es decir, el modelo está aprendiendo los detalles específicos del conjunto de entrenamiento y no generaliza bien a nuevos datos.\n",
    "\n",
    "- Reporte de clasificación:\n",
    "    - Precisión por clase: La precisión para la clase 0 es de 0.45 y para la clase 1 es de 0.79. Esto indica que el modelo tiene más dificultades para clasificar correctamente la clase 0.\n",
    "    - Recall por clase: El recall para ambas clases es de 0.63. Esto significa que el modelo recuperó el 63% de los casos positivos de cada clase.\n",
    "    - F1-score: El F1-score es la media armónica de precisión y recall, y proporciona una medida balanceada del desempeño del modelo. Un F1-score de 0.52 para la clase 0 y 0.70 para la clase 1 sugiere que el modelo tiene un mejor desempeño en la clase 1."
   ]
  },
  {
   "cell_type": "markdown",
   "metadata": {},
   "source": [
    "Curva ROC-AUC"
   ]
  },
  {
   "cell_type": "code",
   "execution_count": 177,
   "metadata": {},
   "outputs": [],
   "source": [
    "from sklearn.metrics import roc_curve, roc_auc_score"
   ]
  },
  {
   "cell_type": "code",
   "execution_count": 178,
   "metadata": {},
   "outputs": [
    {
     "name": "stdout",
     "output_type": "stream",
     "text": [
      "AUC: 0.6861264771712533\n"
     ]
    },
    {
     "data": {
      "image/png": "[encoded data removed]",
      "text/plain": [
       "<Figure size 800x600 with 1 Axes>"
      ]
     },
     "metadata": {},
     "output_type": "display_data"
    }
   ],
   "source": [
    "# Calcular los puntos de la curva ROC\n",
    "fpr, tpr, thresholds = roc_curve(y_test, y_prob)\n",
    "\n",
    "# Calcular el AUC (Area Under the Curve)\n",
    "auc = roc_auc_score(y_test, y_prob)\n",
    "print(f'AUC: {auc}')\n",
    "\n",
    "# Visualizar la curva ROC\n",
    "plt.figure(figsize=(8, 6)) \n",
    "plt.plot(fpr, tpr, label=f'ROC curve (AUC = {auc:.2f})')\n",
    "plt.plot([0, 1], [0, 1], color = 'navy', linestyle='--')  # Línea diagonal\n",
    "plt.xlabel('Tasa de Falsos Positivos')\n",
    "plt.ylabel('Tasa de Verdaderos Positivos')\n",
    "plt.title('Curva ROC')\n",
    "plt.legend(loc='best')\n",
    "plt.show()"
   ]
  },
  {
   "cell_type": "markdown",
   "metadata": {},
   "source": [
    "Interpretación: se observa que el modelo tiene una capacidad moderada de predicción, es decir puede distinguir entre restaurantes éxitos y no, pero no con una precisión muy alta."
   ]
  },
  {
   "cell_type": "markdown",
   "metadata": {},
   "source": [
    "Matriz de confusión"
   ]
  },
  {
   "cell_type": "code",
   "execution_count": 179,
   "metadata": {},
   "outputs": [
    {
     "data": {
      "image/png": "[encoded data removed]",
      "text/plain": [
       "<Figure size 600x400 with 2 Axes>"
      ]
     },
     "metadata": {},
     "output_type": "display_data"
    }
   ],
   "source": [
    "# Matriz de confusión en prueba\n",
    "conf_matrix_test = confusion_matrix(y_test, y_test_pred)\n",
    "\n",
    "plt.figure(figsize=(6, 4))\n",
    "sns.heatmap(conf_matrix_test, annot=True, fmt='d', cmap='Reds', xticklabels=[\"Fracaso\", \"Éxito\"], yticklabels=[\"Fracaso\", \"Éxito\"])\n",
    "plt.xlabel(\"Predicciones\")\n",
    "plt.ylabel(\"Valores Verdaderos\")\n",
    "plt.title(\"Matriz de Confusión - Conjunto de Prueba\")\n",
    "plt.show()"
   ]
  },
  {
   "cell_type": "markdown",
   "metadata": {},
   "source": [
    "*Interpretación:* \n",
    "\n",
    "- Verdaderos Positivos (VP): 272. El modelo predijo correctamente que 272 restaurantes serían un éxito, y efectivamente lo fueron.\n",
    "- Verdaderos Negativos (VN): 127. El modelo predijo correctamente que 127 restaurantes serían un fracaso, y efectivamente lo fueron.\n",
    "- Falsos Positivos (FP): 74. El modelo predijo erróneamente que 74 restaurantes serían un éxito, pero en realidad fueron un fracaso.\n",
    "- Falsos Negativos (FN): 157. El modelo predijo erróneamente que 157 restaurantes serían un fracaso, pero en realidad fueron un éxito.\n",
    "\n",
    "**Conclusiones:**\n",
    "- El modelo Random Forest, muestra un buen desempeño en la predicción del éxito de restaurantes latinos, ya que el modelo ha logrado predecir correctamente un alto porcentaje de casos que fueron un éxito.\n",
    "-  El modelo parece ser mejor en predecir los restaurantes que serán un éxito que aquellos que serán un fracaso. Esto se puede ver en el mayor número de Verdaderos Positivos (VP) en comparación con los Verdaderos Negativos (VN).\n",
    "- Es importante notar que el número de Falsos Negativos (FN) es considerable. Esto significa que el modelo está dejando pasar algunos restaurantes que podrían ser un éxito. En el contexto de abrir un restaurante, esto podría resultar en una pérdida de oportunidades de negocio."
   ]
  },
  {
   "cell_type": "markdown",
   "metadata": {},
   "source": [
    "Validación Cruzada"
   ]
  },
  {
   "cell_type": "code",
   "execution_count": 180,
   "metadata": {},
   "outputs": [],
   "source": [
    "from sklearn.model_selection import cross_val_score, KFold, StratifiedKFold, cross_validate"
   ]
  },
  {
   "cell_type": "code",
   "execution_count": 181,
   "metadata": {},
   "outputs": [],
   "source": [
    "k=5\n",
    "kf = KFold(n_splits=k, shuffle=True, random_state=42)"
   ]
  },
  {
   "cell_type": "code",
   "execution_count": 182,
   "metadata": {},
   "outputs": [],
   "source": [
    "# Realizar validación cruzada usando la métrica de precisión\n",
    "scores = cross_val_score(rf_model, X, y, cv=kf, scoring='accuracy')\n",
    "# Realizar validación cruzada usando la métrica de F1-score\n",
    "scores_f1 = cross_val_score(rf_model, X, y, cv=kf, scoring='f1')"
   ]
  },
  {
   "cell_type": "code",
   "execution_count": 183,
   "metadata": {},
   "outputs": [
    {
     "name": "stdout",
     "output_type": "stream",
     "text": [
      "Precisión media con validación cruzada de 5 folds: 0.6911569496533697\n",
      "Desviación estándar de la precisión: 0.022184153517041314\n",
      "F1-score medio con validación cruzada: 0.8096631295391383\n"
     ]
    }
   ],
   "source": [
    "# Promediar los resultados de los k-folds\n",
    "mean_score = scores.mean()\n",
    "std_score = scores.std()\n",
    "print(f'Precisión media con validación cruzada de {k} folds: {mean_score}')\n",
    "print(f'Desviación estándar de la precisión: {std_score}')\n",
    "\n",
    "mean_f1 = scores_f1.mean()\n",
    "print(f'F1-score medio con validación cruzada: {mean_f1}')"
   ]
  },
  {
   "cell_type": "markdown",
   "metadata": {},
   "source": [
    "Interpretación:\n",
    "- Precisión media: Indica que en promedio, el modelo clasificó correctamente el 69.11% de las observaciones. Esto nos da una idea general de la capacidad del modelo para hacer predicciones correctas.\n",
    "- Desviación estándar de la precisión: Mide la variabilidad de la precisión a través de los diferentes folds. Un valor bajo, como el obtenido en este caso (0.022), sugiere que el modelo es relativamente estable y que los resultados no fluctúan demasiado entre los diferentes folds.\n",
    "- F1-score medio: El F1-score es una medida armónica de precisión y recall, y proporciona una medida más balanceada del desempeño del modelo, especialmente cuando las clases están desbalanceadas. Un valor de 0.809 indica que el modelo tiene un buen desempeño en términos de precisión y recall."
   ]
  },
  {
   "cell_type": "code",
   "execution_count": 184,
   "metadata": {},
   "outputs": [
    {
     "name": "stdout",
     "output_type": "stream",
     "text": [
      "Accuracy en validación cruzada: 0.6954 ± 0.0097\n"
     ]
    }
   ],
   "source": [
    "cv_scores = cross_val_score(rf_model, X, y, cv=5, scoring='accuracy')\n",
    "\n",
    "print(f\"Accuracy en validación cruzada: {cv_scores.mean():.4f} ± {cv_scores.std():.4f}\")"
   ]
  },
  {
   "cell_type": "markdown",
   "metadata": {},
   "source": [
    "Interpretación:\n",
    "Esta métrica \"Accuracy en validación cruzada\", nos indica el porcentaje promedio de predicciones correctas que nuestro modelo ha realizado en un proceso de validación cruzada. En este caso, el modelo ha sido correcto en aproximadamente el 69.54% de las predicciones. El valor ± 0.0097 representa el intervalo de confianza de esta medida, lo que significa que podemos estar razonablemente seguros de que la precisión real del modelo se encuentra entre 0.6857 y 0.7051."
   ]
  },
  {
   "cell_type": "markdown",
   "metadata": {},
   "source": [
    "**Conlusión:**\n",
    "- El modelo muestra un buen desempeño en términos de precisión y F1-score, lo cual indica que es capaz de clasificar correctamente una proporción significativa de las observaciones.\n",
    "- La baja desviación estándar de la precisión sugiere que el modelo es relativamente estable y que los resultados son generalizables a nuevos datos.\n",
    "- El alto F1-score indica que el modelo logra un buen equilibrio entre la capacidad de identificar correctamente los casos positivos (recall) y la capacidad de evitar clasificar incorrectamente los casos negativos como positivos (precision).\n",
    "- En general los resultados de la validación cruzada sugieren que el modelo de Random Forest es un buen candidato para predecir el éxito de la apertura de un nuevo restaurante latino en Estados Unidos. "
   ]
  },
  {
   "cell_type": "markdown",
   "metadata": {},
   "source": [
    "Importancia de características"
   ]
  },
  {
   "cell_type": "code",
   "execution_count": 185,
   "metadata": {},
   "outputs": [
    {
     "name": "stdout",
     "output_type": "stream",
     "text": [
      "                Característica  Importancia\n",
      "17            popularity_score     0.333560\n",
      "0                     latitude     0.253604\n",
      "1                    longitude     0.241444\n",
      "16       avg_income_normalized     0.026755\n",
      "12    cat_restaurante mexicano     0.022129\n",
      "15   hispanic_population_ratio     0.021402\n",
      "8   cat_restaurante colombiano     0.014102\n",
      "9       cat_restaurante cubano     0.013919\n",
      "6     cat_restaurante caribeño     0.013274\n",
      "2                  CreditCards     0.009286\n"
     ]
    }
   ],
   "source": [
    "# Importancia de características\n",
    "feature_importances = pd.DataFrame({\n",
    "    'Característica': X.columns,\n",
    "    'Importancia': rf_model.feature_importances_\n",
    "}).sort_values(by='Importancia', ascending=False)\n",
    "\n",
    "print(feature_importances.head(10))  # Mostrar las 10 más importantes"
   ]
  },
  {
   "cell_type": "code",
   "execution_count": 186,
   "metadata": {},
   "outputs": [
    {
     "data": {
      "image/png": "[encoded data removed]",
      "text/plain": [
       "<Figure size 800x600 with 1 Axes>"
      ]
     },
     "metadata": {},
     "output_type": "display_data"
    }
   ],
   "source": [
    "# Importancia de las características\n",
    "importances = rf_model.feature_importances_\n",
    "features = X.columns\n",
    "\n",
    "plt.figure(figsize=(8, 6))\n",
    "plt.barh(features, importances, color='teal')\n",
    "plt.xlabel('Importancia')\n",
    "plt.title('Importancia de las características en el modelo')\n",
    "plt.show()"
   ]
  },
  {
   "cell_type": "markdown",
   "metadata": {},
   "source": [
    "Interpretación:\n",
    "\n",
    "*Características más importantes:*\n",
    "- popularity_score: Esta característica parece ser la más influyente en la predicción del éxito del restaurante. Esto sugiere que la popularidad previa de un lugar es un fuerte indicador de su futuro éxito.\n",
    "- avg_income_normalized: El ingreso promedio normalizado de la zona también tiene una alta importancia, lo que indica que el poder adquisitivo de la clientela potencial es un factor clave.\n",
    "- longitude y latitude: La ubicación geográfica del restaurante (representada por las coordenadas de longitud y latitud) también juega un papel importante. Esto podría deberse a factores como la competencia, la densidad de población o la accesibilidad.\n",
    "\n",
    "*Características menos importantes:*\n",
    "- Características relacionadas con el tipo de cocina: Las características que indican el tipo de cocina venezolana y centroamericana, parecen tener una importancia relativamente baja. Esto podría significar que el tipo de cocina no es un factor determinante para el éxito en este modelo, o que otras características están dominando la predicción.\n",
    "- Características relacionadas con los servicios: Características como \"TakeOut\", \"OutdoorSeating\" y \"CreditCards\" también tienen una importancia baja, lo que sugiere que estos servicios no son los principales factores que influyen en el éxito del restaurante."
   ]
  },
  {
   "cell_type": "markdown",
   "metadata": {},
   "source": [
    "## 7. Conclusión sobre el modelo y su implementación:"
   ]
  },
  {
   "cell_type": "markdown",
   "metadata": {},
   "source": [
    "Basándonos en el análisis de las métricas obtenidas durante la validación cruzada, podemos concluir que el modelo *Random Forest* está generalizando de manera satisfactoria con nuevos datos, lo que sugiere un bajo riesgo de sobreajuste. No obstante, es fundamental considerar la **importancia de las características** que contribuyen al modelo para tomar decisiones más informadas y estratégicas al momento de implementar el modelo."
   ]
  },
  {
   "cell_type": "code",
   "execution_count": 187,
   "metadata": {},
   "outputs": [
    {
     "data": {
      "text/plain": [
       "['modelo_restaurante.pkl']"
      ]
     },
     "execution_count": 187,
     "metadata": {},
     "output_type": "execute_result"
    }
   ],
   "source": [
    "# Guardamos el modelo ya entrenado\n",
    "import joblib\n",
    "\n",
    "#rf_model ya está entrenado\n",
    "joblib.dump(rf_model, \"modelo_restaurante.pkl\")"
   ]
  },
  {
   "cell_type": "markdown",
   "metadata": {},
   "source": [
    "## 8. Prueba de Concepto del Modelo Random Forest"
   ]
  },
  {
   "cell_type": "code",
   "execution_count": 188,
   "metadata": {},
   "outputs": [],
   "source": [
    "nuevo_restaurante1 = pd.DataFrame([{\n",
    "    \"latitude\": 34.052235,  # Latitud de Los Ángeles, por ejemplo\n",
    "    \"longitude\": -118.243683,  # Longitud de Los Ángeles\n",
    "    \"CreditCards\": 1,  # Acepta tarjetas\n",
    "    \"OutdoorSeating\": 1,  # Tiene asientos exteriores\n",
    "    \"TakeOut\": 1,  # Tiene servicio para llevar\n",
    "    \"cat_restaurante brasileño\": 0, \n",
    "    \"cat_restaurante caribeño\": 0,  \n",
    "    \"cat_restaurante centroamericano\": 0,\n",
    "    \"cat_restaurante colombiano\": 0,\n",
    "    \"cat_restaurante cubano\": 0,\n",
    "    \"cat_restaurante dominicano\": 0,\n",
    "    \"cat_restaurante latinoamericano\": 0,\n",
    "    \"cat_restaurante mexicano\": 1, # Restaurante mexicano\n",
    "    \"cat_restaurante peruano\": 0,\n",
    "    \"cat_restaurante venezolano\": 0,\n",
    "    \"hispanic_population_ratio\": 0.45,  # Proporción de población hispana\n",
    "    \"avg_income_normalized\": 0.85,  # Nivel de ingresos en la zona\n",
    "    \"popularity_score\": 0.75  # Puntuación de popularidad del área\n",
    "}])"
   ]
  },
  {
   "cell_type": "code",
   "execution_count": 189,
   "metadata": {},
   "outputs": [
    {
     "name": "stdout",
     "output_type": "stream",
     "text": [
      "¿El restaurante latino con esas características podría tener éxito? Sí\n"
     ]
    }
   ],
   "source": [
    "prediccion = rf_model.predict(nuevo_restaurante1)\n",
    "print(\"¿El restaurante latino con esas características podría tener éxito?\", \"Sí\" if prediccion[0] == 1 else \"No\")"
   ]
  },
  {
   "cell_type": "code",
   "execution_count": 190,
   "metadata": {},
   "outputs": [
    {
     "name": "stdout",
     "output_type": "stream",
     "text": [
      "Probabilidad de éxito: 0.81\n"
     ]
    }
   ],
   "source": [
    "probabilidad = rf_model.predict_proba(nuevo_restaurante1)\n",
    "print(f\"Probabilidad de éxito: {probabilidad[0][1]:.2f}\")"
   ]
  },
  {
   "cell_type": "markdown",
   "metadata": {},
   "source": [
    "-------"
   ]
  },
  {
   "cell_type": "markdown",
   "metadata": {},
   "source": [
    "## 9. Documentamos el modelo alternativo trabajado: Modelo de Regresión Logística"
   ]
  },
  {
   "cell_type": "markdown",
   "metadata": {},
   "source": [
    "Se documentó el modelo de regresión logística como punto de partida y para demostrar que se exploraron diversas opciones de modelado. Sin embargo, tras una evaluación exhaustiva, se optó por el modelo de Random Forest debido a sus siguientes ventajas:\n",
    "\n",
    "- Mayor capacidad de captura de relaciones no lineales: Random Forest es capaz de modelar relaciones más complejas entre las variables predictoras y la variable objetivo, lo que puede llevar a una mayor precisión en predicciones.\n",
    "\n",
    "- Menor sensibilidad al sobreajuste: Al construir múltiples árboles de decisión y promediar sus resultados, Random Forest reduce el riesgo de sobreajuste, lo que resulta en un mejor desempeño en datos nuevos.\n",
    "\n",
    "- Importancia de las variables: Random Forest proporciona una medida de importancia de cada variable, lo que facilita la interpretación del modelo y la identificación de los factores más influyentes en la predicción.\n",
    "\n",
    "\n",
    "Aunque la regresión logística es un modelo sólido, en este caso específico, Random Forest demostró ser una herramienta más poderosa para capturar la complejidad de los datos y obtener mejores resultados predictivos."
   ]
  },
  {
   "cell_type": "code",
   "execution_count": 191,
   "metadata": {},
   "outputs": [],
   "source": [
    "# Importamos la librería del modelo\n",
    "from sklearn.linear_model import LogisticRegression"
   ]
  },
  {
   "cell_type": "code",
   "execution_count": 192,
   "metadata": {},
   "outputs": [],
   "source": [
    "# Seleccionar las columnas relevantes para el modelo\n",
    "X = df_model.drop(columns=['is_open'])  # Variables independientes, se eliminan columnas redudantes\n",
    "y = df_model['is_open']  # Variable objetivo"
   ]
  },
  {
   "cell_type": "code",
   "execution_count": 193,
   "metadata": {},
   "outputs": [],
   "source": [
    "# Dividir en conjuntos de entrenamiento y prueba\n",
    "X_train, X_test, y_train, y_test = train_test_split(X, y, test_size=0.3, random_state=42)"
   ]
  },
  {
   "cell_type": "code",
   "execution_count": 194,
   "metadata": {},
   "outputs": [],
   "source": [
    "from imblearn.over_sampling import SMOTE\n",
    "\n",
    "# Aplicar SMOTE para balancear las clases\n",
    "smote = SMOTE(random_state=42)\n",
    "X_train_balanced, y_train_balanced = smote.fit_resample(X_train, y_train)"
   ]
  },
  {
   "cell_type": "code",
   "execution_count": 195,
   "metadata": {},
   "outputs": [
    {
     "data": {
      "text/html": [
       "<style>#sk-container-id-9 {\n",
       "  /* Definition of color scheme common for light and dark mode */\n",
       "  --sklearn-color-text: black;\n",
       "  --sklearn-color-line: gray;\n",
       "  /* Definition of color scheme for unfitted estimators */\n",
       "  --sklearn-color-unfitted-level-0: #fff5e6;\n",
       "  --sklearn-color-unfitted-level-1: #f6e4d2;\n",
       "  --sklearn-color-unfitted-level-2: #ffe0b3;\n",
       "  --sklearn-color-unfitted-level-3: chocolate;\n",
       "  /* Definition of color scheme for fitted estimators */\n",
       "  --sklearn-color-fitted-level-0: #f0f8ff;\n",
       "  --sklearn-color-fitted-level-1: #d4ebff;\n",
       "  --sklearn-color-fitted-level-2: #b3dbfd;\n",
       "  --sklearn-color-fitted-level-3: cornflowerblue;\n",
       "\n",
       "  /* Specific color for light theme */\n",
       "  --sklearn-color-text-on-default-background: var(--sg-text-color, var(--theme-code-foreground, var(--jp-content-font-color1, black)));\n",
       "  --sklearn-color-background: var(--sg-background-color, var(--theme-background, var(--jp-layout-color0, white)));\n",
       "  --sklearn-color-border-box: var(--sg-text-color, var(--theme-code-foreground, var(--jp-content-font-color1, black)));\n",
       "  --sklearn-color-icon: #696969;\n",
       "\n",
       "  @media (prefers-color-scheme: dark) {\n",
       "    /* Redefinition of color scheme for dark theme */\n",
       "    --sklearn-color-text-on-default-background: var(--sg-text-color, var(--theme-code-foreground, var(--jp-content-font-color1, white)));\n",
       "    --sklearn-color-background: var(--sg-background-color, var(--theme-background, var(--jp-layout-color0, #111)));\n",
       "    --sklearn-color-border-box: var(--sg-text-color, var(--theme-code-foreground, var(--jp-content-font-color1, white)));\n",
       "    --sklearn-color-icon: #878787;\n",
       "  }\n",
       "}\n",
       "\n",
       "#sk-container-id-9 {\n",
       "  color: var(--sklearn-color-text);\n",
       "}\n",
       "\n",
       "#sk-container-id-9 pre {\n",
       "  padding: 0;\n",
       "}\n",
       "\n",
       "#sk-container-id-9 input.sk-hidden--visually {\n",
       "  border: 0;\n",
       "  clip: rect(1px 1px 1px 1px);\n",
       "  clip: rect(1px, 1px, 1px, 1px);\n",
       "  height: 1px;\n",
       "  margin: -1px;\n",
       "  overflow: hidden;\n",
       "  padding: 0;\n",
       "  position: absolute;\n",
       "  width: 1px;\n",
       "}\n",
       "\n",
       "#sk-container-id-9 div.sk-dashed-wrapped {\n",
       "  border: 1px dashed var(--sklearn-color-line);\n",
       "  margin: 0 0.4em 0.5em 0.4em;\n",
       "  box-sizing: border-box;\n",
       "  padding-bottom: 0.4em;\n",
       "  background-color: var(--sklearn-color-background);\n",
       "}\n",
       "\n",
       "#sk-container-id-9 div.sk-container {\n",
       "  /* jupyter's `normalize.less` sets `[hidden] { display: none; }`\n",
       "     but bootstrap.min.css set `[hidden] { display: none !important; }`\n",
       "     so we also need the `!important` here to be able to override the\n",
       "     default hidden behavior on the sphinx rendered scikit-learn.org.\n",
       "     See: https://github.com/scikit-learn/scikit-learn/issues/21755 */\n",
       "  display: inline-block !important;\n",
       "  position: relative;\n",
       "}\n",
       "\n",
       "#sk-container-id-9 div.sk-text-repr-fallback {\n",
       "  display: none;\n",
       "}\n",
       "\n",
       "div.sk-parallel-item,\n",
       "div.sk-serial,\n",
       "div.sk-item {\n",
       "  /* draw centered vertical line to link estimators */\n",
       "  background-image: linear-gradient(var(--sklearn-color-text-on-default-background), var(--sklearn-color-text-on-default-background));\n",
       "  background-size: 2px 100%;\n",
       "  background-repeat: no-repeat;\n",
       "  background-position: center center;\n",
       "}\n",
       "\n",
       "/* Parallel-specific style estimator block */\n",
       "\n",
       "#sk-container-id-9 div.sk-parallel-item::after {\n",
       "  content: \"\";\n",
       "  width: 100%;\n",
       "  border-bottom: 2px solid var(--sklearn-color-text-on-default-background);\n",
       "  flex-grow: 1;\n",
       "}\n",
       "\n",
       "#sk-container-id-9 div.sk-parallel {\n",
       "  display: flex;\n",
       "  align-items: stretch;\n",
       "  justify-content: center;\n",
       "  background-color: var(--sklearn-color-background);\n",
       "  position: relative;\n",
       "}\n",
       "\n",
       "#sk-container-id-9 div.sk-parallel-item {\n",
       "  display: flex;\n",
       "  flex-direction: column;\n",
       "}\n",
       "\n",
       "#sk-container-id-9 div.sk-parallel-item:first-child::after {\n",
       "  align-self: flex-end;\n",
       "  width: 50%;\n",
       "}\n",
       "\n",
       "#sk-container-id-9 div.sk-parallel-item:last-child::after {\n",
       "  align-self: flex-start;\n",
       "  width: 50%;\n",
       "}\n",
       "\n",
       "#sk-container-id-9 div.sk-parallel-item:only-child::after {\n",
       "  width: 0;\n",
       "}\n",
       "\n",
       "/* Serial-specific style estimator block */\n",
       "\n",
       "#sk-container-id-9 div.sk-serial {\n",
       "  display: flex;\n",
       "  flex-direction: column;\n",
       "  align-items: center;\n",
       "  background-color: var(--sklearn-color-background);\n",
       "  padding-right: 1em;\n",
       "  padding-left: 1em;\n",
       "}\n",
       "\n",
       "\n",
       "/* Toggleable style: style used for estimator/Pipeline/ColumnTransformer box that is\n",
       "clickable and can be expanded/collapsed.\n",
       "- Pipeline and ColumnTransformer use this feature and define the default style\n",
       "- Estimators will overwrite some part of the style using the `sk-estimator` class\n",
       "*/\n",
       "\n",
       "/* Pipeline and ColumnTransformer style (default) */\n",
       "\n",
       "#sk-container-id-9 div.sk-toggleable {\n",
       "  /* Default theme specific background. It is overwritten whether we have a\n",
       "  specific estimator or a Pipeline/ColumnTransformer */\n",
       "  background-color: var(--sklearn-color-background);\n",
       "}\n",
       "\n",
       "/* Toggleable label */\n",
       "#sk-container-id-9 label.sk-toggleable__label {\n",
       "  cursor: pointer;\n",
       "  display: block;\n",
       "  width: 100%;\n",
       "  margin-bottom: 0;\n",
       "  padding: 0.5em;\n",
       "  box-sizing: border-box;\n",
       "  text-align: center;\n",
       "}\n",
       "\n",
       "#sk-container-id-9 label.sk-toggleable__label-arrow:before {\n",
       "  /* Arrow on the left of the label */\n",
       "  content: \"▸\";\n",
       "  float: left;\n",
       "  margin-right: 0.25em;\n",
       "  color: var(--sklearn-color-icon);\n",
       "}\n",
       "\n",
       "#sk-container-id-9 label.sk-toggleable__label-arrow:hover:before {\n",
       "  color: var(--sklearn-color-text);\n",
       "}\n",
       "\n",
       "/* Toggleable content - dropdown */\n",
       "\n",
       "#sk-container-id-9 div.sk-toggleable__content {\n",
       "  max-height: 0;\n",
       "  max-width: 0;\n",
       "  overflow: hidden;\n",
       "  text-align: left;\n",
       "  /* unfitted */\n",
       "  background-color: var(--sklearn-color-unfitted-level-0);\n",
       "}\n",
       "\n",
       "#sk-container-id-9 div.sk-toggleable__content.fitted {\n",
       "  /* fitted */\n",
       "  background-color: var(--sklearn-color-fitted-level-0);\n",
       "}\n",
       "\n",
       "#sk-container-id-9 div.sk-toggleable__content pre {\n",
       "  margin: 0.2em;\n",
       "  border-radius: 0.25em;\n",
       "  color: var(--sklearn-color-text);\n",
       "  /* unfitted */\n",
       "  background-color: var(--sklearn-color-unfitted-level-0);\n",
       "}\n",
       "\n",
       "#sk-container-id-9 div.sk-toggleable__content.fitted pre {\n",
       "  /* unfitted */\n",
       "  background-color: var(--sklearn-color-fitted-level-0);\n",
       "}\n",
       "\n",
       "#sk-container-id-9 input.sk-toggleable__control:checked~div.sk-toggleable__content {\n",
       "  /* Expand drop-down */\n",
       "  max-height: 200px;\n",
       "  max-width: 100%;\n",
       "  overflow: auto;\n",
       "}\n",
       "\n",
       "#sk-container-id-9 input.sk-toggleable__control:checked~label.sk-toggleable__label-arrow:before {\n",
       "  content: \"▾\";\n",
       "}\n",
       "\n",
       "/* Pipeline/ColumnTransformer-specific style */\n",
       "\n",
       "#sk-container-id-9 div.sk-label input.sk-toggleable__control:checked~label.sk-toggleable__label {\n",
       "  color: var(--sklearn-color-text);\n",
       "  background-color: var(--sklearn-color-unfitted-level-2);\n",
       "}\n",
       "\n",
       "#sk-container-id-9 div.sk-label.fitted input.sk-toggleable__control:checked~label.sk-toggleable__label {\n",
       "  background-color: var(--sklearn-color-fitted-level-2);\n",
       "}\n",
       "\n",
       "/* Estimator-specific style */\n",
       "\n",
       "/* Colorize estimator box */\n",
       "#sk-container-id-9 div.sk-estimator input.sk-toggleable__control:checked~label.sk-toggleable__label {\n",
       "  /* unfitted */\n",
       "  background-color: var(--sklearn-color-unfitted-level-2);\n",
       "}\n",
       "\n",
       "#sk-container-id-9 div.sk-estimator.fitted input.sk-toggleable__control:checked~label.sk-toggleable__label {\n",
       "  /* fitted */\n",
       "  background-color: var(--sklearn-color-fitted-level-2);\n",
       "}\n",
       "\n",
       "#sk-container-id-9 div.sk-label label.sk-toggleable__label,\n",
       "#sk-container-id-9 div.sk-label label {\n",
       "  /* The background is the default theme color */\n",
       "  color: var(--sklearn-color-text-on-default-background);\n",
       "}\n",
       "\n",
       "/* On hover, darken the color of the background */\n",
       "#sk-container-id-9 div.sk-label:hover label.sk-toggleable__label {\n",
       "  color: var(--sklearn-color-text);\n",
       "  background-color: var(--sklearn-color-unfitted-level-2);\n",
       "}\n",
       "\n",
       "/* Label box, darken color on hover, fitted */\n",
       "#sk-container-id-9 div.sk-label.fitted:hover label.sk-toggleable__label.fitted {\n",
       "  color: var(--sklearn-color-text);\n",
       "  background-color: var(--sklearn-color-fitted-level-2);\n",
       "}\n",
       "\n",
       "/* Estimator label */\n",
       "\n",
       "#sk-container-id-9 div.sk-label label {\n",
       "  font-family: monospace;\n",
       "  font-weight: bold;\n",
       "  display: inline-block;\n",
       "  line-height: 1.2em;\n",
       "}\n",
       "\n",
       "#sk-container-id-9 div.sk-label-container {\n",
       "  text-align: center;\n",
       "}\n",
       "\n",
       "/* Estimator-specific */\n",
       "#sk-container-id-9 div.sk-estimator {\n",
       "  font-family: monospace;\n",
       "  border: 1px dotted var(--sklearn-color-border-box);\n",
       "  border-radius: 0.25em;\n",
       "  box-sizing: border-box;\n",
       "  margin-bottom: 0.5em;\n",
       "  /* unfitted */\n",
       "  background-color: var(--sklearn-color-unfitted-level-0);\n",
       "}\n",
       "\n",
       "#sk-container-id-9 div.sk-estimator.fitted {\n",
       "  /* fitted */\n",
       "  background-color: var(--sklearn-color-fitted-level-0);\n",
       "}\n",
       "\n",
       "/* on hover */\n",
       "#sk-container-id-9 div.sk-estimator:hover {\n",
       "  /* unfitted */\n",
       "  background-color: var(--sklearn-color-unfitted-level-2);\n",
       "}\n",
       "\n",
       "#sk-container-id-9 div.sk-estimator.fitted:hover {\n",
       "  /* fitted */\n",
       "  background-color: var(--sklearn-color-fitted-level-2);\n",
       "}\n",
       "\n",
       "/* Specification for estimator info (e.g. \"i\" and \"?\") */\n",
       "\n",
       "/* Common style for \"i\" and \"?\" */\n",
       "\n",
       ".sk-estimator-doc-link,\n",
       "a:link.sk-estimator-doc-link,\n",
       "a:visited.sk-estimator-doc-link {\n",
       "  float: right;\n",
       "  font-size: smaller;\n",
       "  line-height: 1em;\n",
       "  font-family: monospace;\n",
       "  background-color: var(--sklearn-color-background);\n",
       "  border-radius: 1em;\n",
       "  height: 1em;\n",
       "  width: 1em;\n",
       "  text-decoration: none !important;\n",
       "  margin-left: 1ex;\n",
       "  /* unfitted */\n",
       "  border: var(--sklearn-color-unfitted-level-1) 1pt solid;\n",
       "  color: var(--sklearn-color-unfitted-level-1);\n",
       "}\n",
       "\n",
       ".sk-estimator-doc-link.fitted,\n",
       "a:link.sk-estimator-doc-link.fitted,\n",
       "a:visited.sk-estimator-doc-link.fitted {\n",
       "  /* fitted */\n",
       "  border: var(--sklearn-color-fitted-level-1) 1pt solid;\n",
       "  color: var(--sklearn-color-fitted-level-1);\n",
       "}\n",
       "\n",
       "/* On hover */\n",
       "div.sk-estimator:hover .sk-estimator-doc-link:hover,\n",
       ".sk-estimator-doc-link:hover,\n",
       "div.sk-label-container:hover .sk-estimator-doc-link:hover,\n",
       ".sk-estimator-doc-link:hover {\n",
       "  /* unfitted */\n",
       "  background-color: var(--sklearn-color-unfitted-level-3);\n",
       "  color: var(--sklearn-color-background);\n",
       "  text-decoration: none;\n",
       "}\n",
       "\n",
       "div.sk-estimator.fitted:hover .sk-estimator-doc-link.fitted:hover,\n",
       ".sk-estimator-doc-link.fitted:hover,\n",
       "div.sk-label-container:hover .sk-estimator-doc-link.fitted:hover,\n",
       ".sk-estimator-doc-link.fitted:hover {\n",
       "  /* fitted */\n",
       "  background-color: var(--sklearn-color-fitted-level-3);\n",
       "  color: var(--sklearn-color-background);\n",
       "  text-decoration: none;\n",
       "}\n",
       "\n",
       "/* Span, style for the box shown on hovering the info icon */\n",
       ".sk-estimator-doc-link span {\n",
       "  display: none;\n",
       "  z-index: 9999;\n",
       "  position: relative;\n",
       "  font-weight: normal;\n",
       "  right: .2ex;\n",
       "  padding: .5ex;\n",
       "  margin: .5ex;\n",
       "  width: min-content;\n",
       "  min-width: 20ex;\n",
       "  max-width: 50ex;\n",
       "  color: var(--sklearn-color-text);\n",
       "  box-shadow: 2pt 2pt 4pt #999;\n",
       "  /* unfitted */\n",
       "  background: var(--sklearn-color-unfitted-level-0);\n",
       "  border: .5pt solid var(--sklearn-color-unfitted-level-3);\n",
       "}\n",
       "\n",
       ".sk-estimator-doc-link.fitted span {\n",
       "  /* fitted */\n",
       "  background: var(--sklearn-color-fitted-level-0);\n",
       "  border: var(--sklearn-color-fitted-level-3);\n",
       "}\n",
       "\n",
       ".sk-estimator-doc-link:hover span {\n",
       "  display: block;\n",
       "}\n",
       "\n",
       "/* \"?\"-specific style due to the `<a>` HTML tag */\n",
       "\n",
       "#sk-container-id-9 a.estimator_doc_link {\n",
       "  float: right;\n",
       "  font-size: 1rem;\n",
       "  line-height: 1em;\n",
       "  font-family: monospace;\n",
       "  background-color: var(--sklearn-color-background);\n",
       "  border-radius: 1rem;\n",
       "  height: 1rem;\n",
       "  width: 1rem;\n",
       "  text-decoration: none;\n",
       "  /* unfitted */\n",
       "  color: var(--sklearn-color-unfitted-level-1);\n",
       "  border: var(--sklearn-color-unfitted-level-1) 1pt solid;\n",
       "}\n",
       "\n",
       "#sk-container-id-9 a.estimator_doc_link.fitted {\n",
       "  /* fitted */\n",
       "  border: var(--sklearn-color-fitted-level-1) 1pt solid;\n",
       "  color: var(--sklearn-color-fitted-level-1);\n",
       "}\n",
       "\n",
       "/* On hover */\n",
       "#sk-container-id-9 a.estimator_doc_link:hover {\n",
       "  /* unfitted */\n",
       "  background-color: var(--sklearn-color-unfitted-level-3);\n",
       "  color: var(--sklearn-color-background);\n",
       "  text-decoration: none;\n",
       "}\n",
       "\n",
       "#sk-container-id-9 a.estimator_doc_link.fitted:hover {\n",
       "  /* fitted */\n",
       "  background-color: var(--sklearn-color-fitted-level-3);\n",
       "}\n",
       "</style><div id=\"sk-container-id-9\" class=\"sk-top-container\"><div class=\"sk-text-repr-fallback\"><pre>LogisticRegression(max_iter=1000, random_state=42)</pre><b>In a Jupyter environment, please rerun this cell to show the HTML representation or trust the notebook. <br />On GitHub, the HTML representation is unable to render, please try loading this page with nbviewer.org.</b></div><div class=\"sk-container\" hidden><div class=\"sk-item\"><div class=\"sk-estimator fitted sk-toggleable\"><input class=\"sk-toggleable__control sk-hidden--visually\" id=\"sk-estimator-id-9\" type=\"checkbox\" checked><label for=\"sk-estimator-id-9\" class=\"sk-toggleable__label fitted sk-toggleable__label-arrow fitted\">&nbsp;&nbsp;LogisticRegression<a class=\"sk-estimator-doc-link fitted\" rel=\"noreferrer\" target=\"_blank\" href=\"https://scikit-learn.org/1.5/modules/generated/sklearn.linear_model.LogisticRegression.html\">?<span>Documentation for LogisticRegression</span></a><span class=\"sk-estimator-doc-link fitted\">i<span>Fitted</span></span></label><div class=\"sk-toggleable__content fitted\"><pre>LogisticRegression(max_iter=1000, random_state=42)</pre></div> </div></div></div></div>"
      ],
      "text/plain": [
       "LogisticRegression(max_iter=1000, random_state=42)"
      ]
     },
     "execution_count": 195,
     "metadata": {},
     "output_type": "execute_result"
    }
   ],
   "source": [
    "# Crear el modelo\n",
    "log_reg = LogisticRegression(max_iter=1000, random_state=42)\n",
    "\n",
    "# Ajustar el modelo con los datos de entrenamiento\n",
    "log_reg.fit(X_train_balanced, y_train_balanced )"
   ]
  },
  {
   "cell_type": "code",
   "execution_count": 196,
   "metadata": {},
   "outputs": [],
   "source": [
    "# Predicciones\n",
    "y_train_pred = log_reg.predict(X_train)\n",
    "y_test_pred = log_reg.predict(X_test)"
   ]
  },
  {
   "cell_type": "code",
   "execution_count": 197,
   "metadata": {},
   "outputs": [
    {
     "name": "stdout",
     "output_type": "stream",
     "text": [
      "\n",
      "Métricas Regresión Logística:\n",
      "Accuracy en entrenamiento: 0.5504087193460491\n",
      "Accuracy en prueba: 0.5349206349206349\n",
      "\n",
      "Classification Report:\n",
      "               precision    recall  f1-score   support\n",
      "\n",
      "           0       0.38      0.62      0.47       208\n",
      "           1       0.72      0.50      0.59       422\n",
      "\n",
      "    accuracy                           0.53       630\n",
      "   macro avg       0.55      0.56      0.53       630\n",
      "weighted avg       0.61      0.53      0.55       630\n",
      "\n"
     ]
    }
   ],
   "source": [
    "# Métricas\n",
    "print(\"\\nMétricas Regresión Logística:\")\n",
    "print(\"Accuracy en entrenamiento:\", accuracy_score(y_train, y_train_pred))\n",
    "print(\"Accuracy en prueba:\", accuracy_score(y_test, y_test_pred))\n",
    "print(\"\\nClassification Report:\\n\", classification_report(y_test, y_test_pred))"
   ]
  },
  {
   "cell_type": "markdown",
   "metadata": {},
   "source": [
    "Interpretación:\n",
    "\n",
    "- Accuracy en entrenamiento (0.55): Indica que el modelo clasificó correctamente el 55% de las observaciones en el conjunto de entrenamiento.\n",
    "- Accuracy en prueba (0.53): Esta métrica es más importante, ya que evalúa la capacidad del modelo para generalizar a nuevos datos. Un valor de 0.53 indica que el modelo clasificó correctamente el 53% de las observaciones en el conjunto de prueba. La disminución en la precisión respecto al conjunto de entrenamiento, aunque pequeña.\n",
    "\n",
    "- Classification Report:\n",
    "    - Precisión por clase: La precisión para la clase 0 es de 0.38 y para la clase 1 es de 0.72. Esto indica que el modelo tiene más dificultades para clasificar correctamente la clase 0.\n",
    "    - Recall por clase: El recall para la clase 0 es de 0.62 y para la clase 1 es de 0.50. Esto significa que el modelo tiene un mejor desempeño en identificar los casos positivos de la clase 0.\n",
    "    - F1-score: El F1-score es la media armónica de precisión y recall, y proporciona una medida balanceada del desempeño del modelo. Un F1-score de 0.47 para la clase 0 y 0.59 para la clase 1 sugiere que el modelo tiene un mejor desempeño en la clase 1."
   ]
  },
  {
   "cell_type": "code",
   "execution_count": 198,
   "metadata": {},
   "outputs": [
    {
     "data": {
      "image/png": "[encoded data removed]",
      "text/plain": [
       "<Figure size 600x400 with 2 Axes>"
      ]
     },
     "metadata": {},
     "output_type": "display_data"
    }
   ],
   "source": [
    "# Matriz de confusión en prueba\n",
    "conf_matrix_test2 = confusion_matrix(y_test, y_test_pred)\n",
    "\n",
    "plt.figure(figsize=(6, 4))\n",
    "sns.heatmap(conf_matrix_test2, annot=True, fmt='d', cmap='Blues', xticklabels=[\"Fracaso\", \"Éxito\"], yticklabels=[\"Fracaso\", \"Éxito\"])\n",
    "plt.xlabel(\"Predicciones\")\n",
    "plt.ylabel(\"Valores Verdaderos\")\n",
    "plt.title(\"Matriz de Confusión - Conjunto de Prueba\")\n",
    "plt.show()"
   ]
  },
  {
   "cell_type": "markdown",
   "metadata": {},
   "source": [
    "*Interpretación:* \n",
    "\n",
    "- Verdaderos Positivos (VP): 209. El modelo predijo correctamente que 209 restaurantes serían un éxito, y efectivamente lo fueron.\n",
    "- Verdaderos Negativos (VN): 128. El modelo predijo correctamente que 128 restaurantes serían un fracaso, y efectivamente lo fueron.\n",
    "- Falsos Positivos (FP): 80. El modelo predijo erróneamente que 80 restaurantes serían un éxito, pero en realidad fueron un fracaso.\n",
    "- Falsos Negativos (FN): 213. El modelo predijo erróneamente que 2013 restaurantes serían un fracaso, pero en realidad fueron un éxito.\n",
    "\n",
    "**Conclusiones:**\n",
    "- El modelo de Regresión logística, parece ser bastante bueno a la hora de predecir los restaurantes que serán un éxito. Esto se evidencia por el alto número de Verdaderos Positivos (VP).\n",
    "-  El modelo tiene más dificultades para predecir los restaurantes que serán un fracaso. El número de Falsos Negativos (FN) es considerablemente alto, lo que indica que el modelo está clasificando erróneamente muchos restaurantes que en realidad sí fracasaron como si fueran a tener éxito."
   ]
  },
  {
   "cell_type": "code",
   "execution_count": 199,
   "metadata": {},
   "outputs": [
    {
     "name": "stdout",
     "output_type": "stream",
     "text": [
      "                            Feature  Coefficient\n",
      "10       cat_restaurante dominicano     1.414835\n",
      "14       cat_restaurante venezolano     1.307009\n",
      "7   cat_restaurante centroamericano     1.261600\n",
      "17                 popularity_score     1.052169\n",
      "4                           TakeOut     0.958630\n",
      "8        cat_restaurante colombiano     0.815456\n",
      "12         cat_restaurante mexicano     0.460236\n",
      "5         cat_restaurante brasileño     0.356480\n",
      "6          cat_restaurante caribeño     0.098772\n",
      "15        hispanic_population_ratio     0.092417\n",
      "13          cat_restaurante peruano     0.050635\n",
      "0                          latitude     0.034242\n",
      "1                         longitude     0.021048\n",
      "3                    OutdoorSeating    -0.004767\n",
      "9            cat_restaurante cubano    -0.061931\n",
      "16            avg_income_normalized    -0.071184\n",
      "2                       CreditCards    -0.304904\n",
      "11  cat_restaurante latinoamericano    -0.514821\n"
     ]
    }
   ],
   "source": [
    "# Crear un DataFrame con los coeficientes\n",
    "coeff_df = pd.DataFrame({\n",
    "    'Feature': X.columns,\n",
    "    'Coefficient': log_reg.coef_[0]\n",
    "}).sort_values(by='Coefficient', ascending=False)\n",
    "\n",
    "print(coeff_df)"
   ]
  },
  {
   "cell_type": "markdown",
   "metadata": {},
   "source": [
    "Validación Cruzada"
   ]
  },
  {
   "cell_type": "code",
   "execution_count": 200,
   "metadata": {},
   "outputs": [],
   "source": [
    "# Validación cruzada con 5 folds\n",
    "k=5\n",
    "kf = KFold(n_splits=k, shuffle=True, random_state=42)"
   ]
  },
  {
   "cell_type": "code",
   "execution_count": 201,
   "metadata": {},
   "outputs": [],
   "source": [
    "# Realizar validación cruzada usando la métrica de precisión\n",
    "scores = cross_val_score(log_reg, X, y, cv=kf, scoring='accuracy')\n",
    "# Realizar validación cruzada usando la métrica de F1-score\n",
    "scores_f1 = cross_val_score(log_reg, X, y, cv=kf, scoring='f1')"
   ]
  },
  {
   "cell_type": "code",
   "execution_count": 202,
   "metadata": {},
   "outputs": [
    {
     "name": "stdout",
     "output_type": "stream",
     "text": [
      "Precisión media con validación cruzada de 5 folds: 0.683042391180816\n",
      "Desviación estándar de la precisión: 0.01086341843515002\n",
      "F1-score medio con validación cruzada: 0.810099981623155\n"
     ]
    }
   ],
   "source": [
    "# Promediar los resultados de los k-folds\n",
    "mean_score = scores.mean()\n",
    "std_score = scores.std()\n",
    "print(f'Precisión media con validación cruzada de {k} folds: {mean_score}')\n",
    "print(f'Desviación estándar de la precisión: {std_score}')\n",
    "\n",
    "mean_f1 = scores_f1.mean()\n",
    "print(f'F1-score medio con validación cruzada: {mean_f1}')"
   ]
  },
  {
   "cell_type": "markdown",
   "metadata": {},
   "source": [
    "Interpretación:\n",
    "\n",
    "- Precisión media: Indica que, en promedio, el modelo clasificó correctamente el 68.3% de las observaciones a lo largo de los 5 folds. Esto nos da una idea general de la exactitud del modelo.\n",
    "- Desviación estándar de la precisión: Mide la variabilidad de la precisión a través de los diferentes folds. Un valor bajo (0.0108) sugiere que los resultados son bastante consistentes y que el modelo es relativamente estable.\n",
    "- F1-score medio: El F1-score es una medida que combina la precisión y el recall, proporcionando un indicador más balanceado del desempeño del modelo, especialmente cuando las clases están desbalanceadas. Un valor de 0.810 indica que el modelo tiene un buen desempeño en términos de precisión y recall."
   ]
  },
  {
   "cell_type": "markdown",
   "metadata": {},
   "source": [
    "### Conclusión del Modelo de Regresión Logística:\n",
    "\n",
    "El modelo de regresión logística muestra un desempeño moderado, con margen de mejora."
   ]
  }
 ],
 "metadata": {
  "kernelspec": {
   "display_name": "Python 3",
   "language": "python",
   "name": "python3"
  },
  "language_info": {
   "codemirror_mode": {
    "name": "ipython",
    "version": 3
   },
   "file_extension": ".py",
   "mimetype": "text/x-python",
   "name": "python",
   "nbconvert_exporter": "python",
   "pygments_lexer": "ipython3",
   "version": "3.11.4"
  }
 },
 "nbformat": 4,
 "nbformat_minor": 2
}
