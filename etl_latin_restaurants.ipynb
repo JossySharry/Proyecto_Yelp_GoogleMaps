{
 "cells": [
  {
   "cell_type": "markdown",
   "metadata": {},
   "source": [
    "# El siguiente archivo consta del procedimiento de extraccion, transformacion y carga realizado en los datasets con el objetivo normalizar y estructurar las tablas definidas en el diagrama de entidad - relacion."
   ]
  },
  {
   "cell_type": "code",
   "execution_count": 1,
   "metadata": {},
   "outputs": [],
   "source": [
    "import pandas as pd\n",
    "import numpy as np\n",
    "import matplotlib.pyplot as plt\n",
    "import seaborn as sns\n",
    "\n",
    "import warnings\n",
    "warnings.filterwarnings(\"ignore\")"
   ]
  },
  {
   "cell_type": "markdown",
   "metadata": {},
   "source": [
    "### Carga del dataframe que contiene la data de los restaurantes latinos de Google Maps"
   ]
  },
  {
   "cell_type": "code",
   "execution_count": null,
   "metadata": {},
   "outputs": [],
   "source": [
    "# Carga del dataset original de negocios en google maps\n",
    "sitios_original = pd.read_parquet('./Datasets_limpios/Google/sitios_google_original.parquet')"
   ]
  },
  {
   "cell_type": "code",
   "execution_count": null,
   "metadata": {},
   "outputs": [],
   "source": [
    "# Carga del dataset de restaurantes latinos extraidos del dataset original\n",
    "latin_restaurants = pd.read_csv('./Datasets_limpios/Google/latin_restaurants_google.csv')"
   ]
  },
  {
   "cell_type": "code",
   "execution_count": null,
   "metadata": {},
   "outputs": [
    {
     "name": "stdout",
     "output_type": "stream",
     "text": [
      "<class 'pandas.core.frame.DataFrame'>\n",
      "RangeIndex: 28918 entries, 0 to 28917\n",
      "Data columns (total 5 columns):\n",
      " #   Column          Non-Null Count  Dtype  \n",
      "---  ------          --------------  -----  \n",
      " 0   gmap_id         28918 non-null  object \n",
      " 1   category        28918 non-null  object \n",
      " 2   description     6972 non-null   object \n",
      " 3   avg_rating      28918 non-null  float64\n",
      " 4   num_of_reviews  28918 non-null  int64  \n",
      "dtypes: float64(1), int64(1), object(3)\n",
      "memory usage: 1.1+ MB\n"
     ]
    }
   ],
   "source": [
    "# Informacion del dataframe de restaurantes latinos de google\n",
    "latin_restaurants.info()"
   ]
  },
  {
   "cell_type": "code",
   "execution_count": null,
   "metadata": {},
   "outputs": [
    {
     "name": "stdout",
     "output_type": "stream",
     "text": [
      "<class 'pandas.core.frame.DataFrame'>\n",
      "Index: 2998428 entries, 0 to 3025010\n",
      "Data columns (total 15 columns):\n",
      " #   Column            Dtype  \n",
      "---  ------            -----  \n",
      " 0   name              object \n",
      " 1   address           object \n",
      " 2   gmap_id           object \n",
      " 3   description       object \n",
      " 4   latitude          float64\n",
      " 5   longitude         float64\n",
      " 6   category          object \n",
      " 7   avg_rating        float64\n",
      " 8   num_of_reviews    int64  \n",
      " 9   price             object \n",
      " 10  hours             object \n",
      " 11  MISC              object \n",
      " 12  state             object \n",
      " 13  relative_results  object \n",
      " 14  url               object \n",
      "dtypes: float64(3), int64(1), object(11)\n",
      "memory usage: 366.0+ MB\n"
     ]
    }
   ],
   "source": [
    "# Informacion del dataframe original\n",
    "sitios_original.info()"
   ]
  },
  {
   "cell_type": "code",
   "execution_count": null,
   "metadata": {},
   "outputs": [],
   "source": [
    "# Eliminacion de columnas innecesarias del dataframe\n",
    "latin_restaurants.drop(columns=['description', 'avg_rating', 'num_of_reviews'], inplace=True)"
   ]
  },
  {
   "cell_type": "code",
   "execution_count": null,
   "metadata": {},
   "outputs": [
    {
     "name": "stdout",
     "output_type": "stream",
     "text": [
      "<class 'pandas.core.frame.DataFrame'>\n",
      "RangeIndex: 28918 entries, 0 to 28917\n",
      "Data columns (total 2 columns):\n",
      " #   Column    Non-Null Count  Dtype \n",
      "---  ------    --------------  ----- \n",
      " 0   gmap_id   28918 non-null  object\n",
      " 1   category  28918 non-null  object\n",
      "dtypes: object(2)\n",
      "memory usage: 452.0+ KB\n"
     ]
    }
   ],
   "source": [
    "# Confirmacion de la eliminacion\n",
    "latin_restaurants.info()"
   ]
  },
  {
   "cell_type": "code",
   "execution_count": null,
   "metadata": {},
   "outputs": [],
   "source": [
    "# Unión interna (solo filas con gmap_id en común)\n",
    "latin_restaurants = pd.merge(latin_restaurants, sitios_original, on='gmap_id', how='inner')"
   ]
  },
  {
   "cell_type": "code",
   "execution_count": null,
   "metadata": {},
   "outputs": [
    {
     "name": "stdout",
     "output_type": "stream",
     "text": [
      "<class 'pandas.core.frame.DataFrame'>\n",
      "RangeIndex: 28918 entries, 0 to 28917\n",
      "Data columns (total 16 columns):\n",
      " #   Column            Non-Null Count  Dtype  \n",
      "---  ------            --------------  -----  \n",
      " 0   gmap_id           28918 non-null  object \n",
      " 1   category_x        28918 non-null  object \n",
      " 2   name              28918 non-null  object \n",
      " 3   address           28805 non-null  object \n",
      " 4   description       6972 non-null   object \n",
      " 5   latitude          28918 non-null  float64\n",
      " 6   longitude         28918 non-null  float64\n",
      " 7   category_y        28918 non-null  object \n",
      " 8   avg_rating        28918 non-null  float64\n",
      " 9   num_of_reviews    28918 non-null  int64  \n",
      " 10  price             12400 non-null  object \n",
      " 11  hours             26816 non-null  object \n",
      " 12  MISC              28828 non-null  object \n",
      " 13  state             26874 non-null  object \n",
      " 14  relative_results  23072 non-null  object \n",
      " 15  url               28918 non-null  object \n",
      "dtypes: float64(3), int64(1), object(12)\n",
      "memory usage: 3.5+ MB\n"
     ]
    }
   ],
   "source": [
    "# Dataframe unido\n",
    "latin_restaurants.info()"
   ]
  },
  {
   "cell_type": "code",
   "execution_count": null,
   "metadata": {},
   "outputs": [
    {
     "data": {
      "text/html": [
       "<div>\n",
       "<style scoped>\n",
       "    .dataframe tbody tr th:only-of-type {\n",
       "        vertical-align: middle;\n",
       "    }\n",
       "\n",
       "    .dataframe tbody tr th {\n",
       "        vertical-align: top;\n",
       "    }\n",
       "\n",
       "    .dataframe thead th {\n",
       "        text-align: right;\n",
       "    }\n",
       "</style>\n",
       "<table border=\"1\" class=\"dataframe\">\n",
       "  <thead>\n",
       "    <tr style=\"text-align: right;\">\n",
       "      <th></th>\n",
       "      <th>gmap_id</th>\n",
       "      <th>category_x</th>\n",
       "      <th>name</th>\n",
       "      <th>address</th>\n",
       "      <th>description</th>\n",
       "      <th>latitude</th>\n",
       "      <th>longitude</th>\n",
       "      <th>category_y</th>\n",
       "      <th>avg_rating</th>\n",
       "      <th>num_of_reviews</th>\n",
       "      <th>price</th>\n",
       "      <th>hours</th>\n",
       "      <th>MISC</th>\n",
       "      <th>state</th>\n",
       "      <th>relative_results</th>\n",
       "      <th>url</th>\n",
       "    </tr>\n",
       "  </thead>\n",
       "  <tbody>\n",
       "    <tr>\n",
       "      <th>0</th>\n",
       "      <td>0x89e44fe1c2a2a2c3:0x5fc9f6751fb29737</td>\n",
       "      <td>Dominican restaurant</td>\n",
       "      <td>Paula's Kitchen</td>\n",
       "      <td>Paula's Kitchen, 777 Elmwood Ave, Providence, ...</td>\n",
       "      <td>None</td>\n",
       "      <td>41.790994</td>\n",
       "      <td>-71.422631</td>\n",
       "      <td>[Dominican restaurant]</td>\n",
       "      <td>4.7</td>\n",
       "      <td>18</td>\n",
       "      <td>None</td>\n",
       "      <td>[[Thursday, 11AM–7PM], [Friday, 11AM–7PM], [Sa...</td>\n",
       "      <td>{'Accessibility': ['Wheelchair accessible entr...</td>\n",
       "      <td>Permanently closed</td>\n",
       "      <td>None</td>\n",
       "      <td>https://www.google.com/maps/place//data=!4m2!3...</td>\n",
       "    </tr>\n",
       "    <tr>\n",
       "      <th>1</th>\n",
       "      <td>0x808f879f35b5088b:0xe3541cec7a95bd88</td>\n",
       "      <td>Taco restaurant</td>\n",
       "      <td>TACOS LA CABANA</td>\n",
       "      <td>TACOS LA CABANA, 2015 22nd Ave, Oakland, CA 94606</td>\n",
       "      <td>None</td>\n",
       "      <td>37.789076</td>\n",
       "      <td>-122.233884</td>\n",
       "      <td>[Taco restaurant]</td>\n",
       "      <td>5.0</td>\n",
       "      <td>2</td>\n",
       "      <td>None</td>\n",
       "      <td>[[Thursday, Closed], [Friday, 5–11PM], [Saturd...</td>\n",
       "      <td>{'Accessibility': None, 'Activities': None, 'A...</td>\n",
       "      <td>Closed ⋅ Opens 5PM Fri</td>\n",
       "      <td>None</td>\n",
       "      <td>https://www.google.com/maps/place//data=!4m2!3...</td>\n",
       "    </tr>\n",
       "  </tbody>\n",
       "</table>\n",
       "</div>"
      ],
      "text/plain": [
       "                                 gmap_id            category_x  \\\n",
       "0  0x89e44fe1c2a2a2c3:0x5fc9f6751fb29737  Dominican restaurant   \n",
       "1  0x808f879f35b5088b:0xe3541cec7a95bd88       Taco restaurant   \n",
       "\n",
       "              name                                            address  \\\n",
       "0  Paula's Kitchen  Paula's Kitchen, 777 Elmwood Ave, Providence, ...   \n",
       "1  TACOS LA CABANA  TACOS LA CABANA, 2015 22nd Ave, Oakland, CA 94606   \n",
       "\n",
       "  description   latitude   longitude              category_y  avg_rating  \\\n",
       "0        None  41.790994  -71.422631  [Dominican restaurant]         4.7   \n",
       "1        None  37.789076 -122.233884       [Taco restaurant]         5.0   \n",
       "\n",
       "   num_of_reviews price                                              hours  \\\n",
       "0              18  None  [[Thursday, 11AM–7PM], [Friday, 11AM–7PM], [Sa...   \n",
       "1               2  None  [[Thursday, Closed], [Friday, 5–11PM], [Saturd...   \n",
       "\n",
       "                                                MISC                   state  \\\n",
       "0  {'Accessibility': ['Wheelchair accessible entr...      Permanently closed   \n",
       "1  {'Accessibility': None, 'Activities': None, 'A...  Closed ⋅ Opens 5PM Fri   \n",
       "\n",
       "  relative_results                                                url  \n",
       "0             None  https://www.google.com/maps/place//data=!4m2!3...  \n",
       "1             None  https://www.google.com/maps/place//data=!4m2!3...  "
      ]
     },
     "execution_count": 10,
     "metadata": {},
     "output_type": "execute_result"
    }
   ],
   "source": [
    "# Previsualizacion del dataframe\n",
    "latin_restaurants.head(2)"
   ]
  },
  {
   "cell_type": "code",
   "execution_count": null,
   "metadata": {},
   "outputs": [],
   "source": [
    "# Procedemos a eliminar la columna repetida 'category'\n",
    "latin_restaurants.drop(columns=['category_y'], inplace=True)"
   ]
  },
  {
   "cell_type": "code",
   "execution_count": 12,
   "metadata": {},
   "outputs": [
    {
     "name": "stdout",
     "output_type": "stream",
     "text": [
      "<class 'pandas.core.frame.DataFrame'>\n",
      "RangeIndex: 28918 entries, 0 to 28917\n",
      "Data columns (total 15 columns):\n",
      " #   Column            Non-Null Count  Dtype  \n",
      "---  ------            --------------  -----  \n",
      " 0   gmap_id           28918 non-null  object \n",
      " 1   category_x        28918 non-null  object \n",
      " 2   name              28918 non-null  object \n",
      " 3   address           28805 non-null  object \n",
      " 4   description       6972 non-null   object \n",
      " 5   latitude          28918 non-null  float64\n",
      " 6   longitude         28918 non-null  float64\n",
      " 7   avg_rating        28918 non-null  float64\n",
      " 8   num_of_reviews    28918 non-null  int64  \n",
      " 9   price             12400 non-null  object \n",
      " 10  hours             26816 non-null  object \n",
      " 11  MISC              28828 non-null  object \n",
      " 12  state             26874 non-null  object \n",
      " 13  relative_results  23072 non-null  object \n",
      " 14  url               28918 non-null  object \n",
      "dtypes: float64(3), int64(1), object(11)\n",
      "memory usage: 3.3+ MB\n"
     ]
    }
   ],
   "source": [
    "latin_restaurants.info()"
   ]
  },
  {
   "cell_type": "code",
   "execution_count": null,
   "metadata": {},
   "outputs": [],
   "source": [
    "# Eliminacion del dataframe original para recuperar memoria\n",
    "del sitios_original"
   ]
  },
  {
   "cell_type": "code",
   "execution_count": null,
   "metadata": {},
   "outputs": [],
   "source": [
    "# Renombre de la columna 'category'\n",
    "latin_restaurants = latin_restaurants.rename(columns={'category_x': 'category'})"
   ]
  },
  {
   "cell_type": "code",
   "execution_count": null,
   "metadata": {},
   "outputs": [],
   "source": [
    "# Exportacion a un archivo .csv\n",
    "latin_restaurants.to_csv('./Datasets_limpios/Google/latin_restaurants.csv', index=False)"
   ]
  },
  {
   "cell_type": "markdown",
   "metadata": {},
   "source": [
    "### ETL New York (filtrado de la data de reviews y filtrado de la data de restaurants)"
   ]
  },
  {
   "cell_type": "markdown",
   "metadata": {},
   "source": [
    "##### Filtrado de la data de reviews"
   ]
  },
  {
   "cell_type": "code",
   "execution_count": null,
   "metadata": {},
   "outputs": [],
   "source": [
    "# Carga del dataset de reviews de NY procesado previamente\n",
    "reviews_new_york = pd.read_parquet('./Datasets/Google_maps/df_new_york.parquet')"
   ]
  },
  {
   "cell_type": "code",
   "execution_count": null,
   "metadata": {},
   "outputs": [
    {
     "name": "stdout",
     "output_type": "stream",
     "text": [
      "<class 'pandas.core.frame.DataFrame'>\n",
      "RangeIndex: 2700000 entries, 0 to 2699999\n",
      "Data columns (total 5 columns):\n",
      " #   Column   Dtype  \n",
      "---  ------   -----  \n",
      " 0   user_id  float64\n",
      " 1   name     object \n",
      " 2   rating   int64  \n",
      " 3   text     object \n",
      " 4   gmap_id  object \n",
      "dtypes: float64(1), int64(1), object(3)\n",
      "memory usage: 103.0+ MB\n"
     ]
    }
   ],
   "source": [
    "# Previsualizacion del dataframe\n",
    "reviews_new_york.info()"
   ]
  },
  {
   "cell_type": "code",
   "execution_count": null,
   "metadata": {},
   "outputs": [],
   "source": [
    "# Union de los restaurantes latinos y las reviews a traves del 'gmap_id'\n",
    "latin_restaurants_ny = pd.merge(latin_restaurants, reviews_new_york, on='gmap_id', how='inner')"
   ]
  },
  {
   "cell_type": "code",
   "execution_count": null,
   "metadata": {},
   "outputs": [
    {
     "name": "stdout",
     "output_type": "stream",
     "text": [
      "<class 'pandas.core.frame.DataFrame'>\n",
      "RangeIndex: 118035 entries, 0 to 118034\n",
      "Data columns (total 19 columns):\n",
      " #   Column            Non-Null Count   Dtype  \n",
      "---  ------            --------------   -----  \n",
      " 0   gmap_id           118035 non-null  object \n",
      " 1   category          118035 non-null  object \n",
      " 2   name_x            118035 non-null  object \n",
      " 3   address           118035 non-null  object \n",
      " 4   description       56634 non-null   object \n",
      " 5   latitude          118035 non-null  float64\n",
      " 6   longitude         118035 non-null  float64\n",
      " 7   avg_rating        118035 non-null  float64\n",
      " 8   num_of_reviews    118035 non-null  int64  \n",
      " 9   price             87535 non-null   object \n",
      " 10  hours             115649 non-null  object \n",
      " 11  MISC              117622 non-null  object \n",
      " 12  state             115649 non-null  object \n",
      " 13  relative_results  111839 non-null  object \n",
      " 14  url               118035 non-null  object \n",
      " 15  user_id           118035 non-null  float64\n",
      " 16  name_y            118035 non-null  object \n",
      " 17  rating            118035 non-null  int64  \n",
      " 18  text              118035 non-null  object \n",
      "dtypes: float64(4), int64(2), object(13)\n",
      "memory usage: 17.1+ MB\n"
     ]
    }
   ],
   "source": [
    "# Informacion del dataframe unido filtrado por las reviews de NY\n",
    "latin_restaurants_ny.info()"
   ]
  },
  {
   "cell_type": "code",
   "execution_count": null,
   "metadata": {},
   "outputs": [
    {
     "data": {
      "text/plain": [
       "Index(['gmap_id', 'category', 'name_x', 'address', 'description', 'latitude',\n",
       "       'longitude', 'avg_rating', 'num_of_reviews', 'price', 'hours', 'MISC',\n",
       "       'state', 'relative_results', 'url', 'user_id', 'name_y', 'rating',\n",
       "       'text'],\n",
       "      dtype='object')"
      ]
     },
     "execution_count": 62,
     "metadata": {},
     "output_type": "execute_result"
    }
   ],
   "source": [
    "# Visualizacion de las columnas del dataframe\n",
    "latin_restaurants_ny.columns"
   ]
  },
  {
   "cell_type": "code",
   "execution_count": null,
   "metadata": {},
   "outputs": [],
   "source": [
    "# Eliminacion de columnas innesarias enfocado a la tabla reviews\n",
    "latin_restaurants_ny.drop(columns=['category', 'name_x', 'address', 'description', 'latitude', 'longitude', 'avg_rating', 'num_of_reviews', 'price', 'hours', 'MISC', 'state', 'relative_results', 'url'], inplace=True)"
   ]
  },
  {
   "cell_type": "code",
   "execution_count": 64,
   "metadata": {},
   "outputs": [
    {
     "name": "stdout",
     "output_type": "stream",
     "text": [
      "<class 'pandas.core.frame.DataFrame'>\n",
      "RangeIndex: 118035 entries, 0 to 118034\n",
      "Data columns (total 5 columns):\n",
      " #   Column   Non-Null Count   Dtype  \n",
      "---  ------   --------------   -----  \n",
      " 0   gmap_id  118035 non-null  object \n",
      " 1   user_id  118035 non-null  float64\n",
      " 2   name_y   118035 non-null  object \n",
      " 3   rating   118035 non-null  int64  \n",
      " 4   text     118035 non-null  object \n",
      "dtypes: float64(1), int64(1), object(3)\n",
      "memory usage: 4.5+ MB\n"
     ]
    }
   ],
   "source": [
    "latin_restaurants_ny.info()"
   ]
  },
  {
   "cell_type": "code",
   "execution_count": null,
   "metadata": {},
   "outputs": [],
   "source": [
    "# Creacion de una nueva columna con el valor de estado al cual pertenecen\n",
    "latin_restaurants_ny['state_usa'] = 'NY'"
   ]
  },
  {
   "cell_type": "code",
   "execution_count": null,
   "metadata": {},
   "outputs": [],
   "source": [
    "# Renombre de columna 'name'\n",
    "latin_restaurants_ny = latin_restaurants_ny.rename(columns={'name_y': 'name'})"
   ]
  },
  {
   "cell_type": "code",
   "execution_count": null,
   "metadata": {},
   "outputs": [
    {
     "data": {
      "text/html": [
       "<div>\n",
       "<style scoped>\n",
       "    .dataframe tbody tr th:only-of-type {\n",
       "        vertical-align: middle;\n",
       "    }\n",
       "\n",
       "    .dataframe tbody tr th {\n",
       "        vertical-align: top;\n",
       "    }\n",
       "\n",
       "    .dataframe thead th {\n",
       "        text-align: right;\n",
       "    }\n",
       "</style>\n",
       "<table border=\"1\" class=\"dataframe\">\n",
       "  <thead>\n",
       "    <tr style=\"text-align: right;\">\n",
       "      <th></th>\n",
       "      <th>gmap_id</th>\n",
       "      <th>user_id</th>\n",
       "      <th>name</th>\n",
       "      <th>rating</th>\n",
       "      <th>text</th>\n",
       "      <th>state_usa</th>\n",
       "    </tr>\n",
       "  </thead>\n",
       "  <tbody>\n",
       "    <tr>\n",
       "      <th>0</th>\n",
       "      <td>0x89c244427d3e2c19:0xc1dbf7d8e71d7201</td>\n",
       "      <td>1.146613e+20</td>\n",
       "      <td>Anya</td>\n",
       "      <td>5</td>\n",
       "      <td>Today was my first time at Casa Malinche, and ...</td>\n",
       "      <td>NY</td>\n",
       "    </tr>\n",
       "    <tr>\n",
       "      <th>1</th>\n",
       "      <td>0x89c244427d3e2c19:0xc1dbf7d8e71d7201</td>\n",
       "      <td>1.145209e+20</td>\n",
       "      <td>TheNaelabean</td>\n",
       "      <td>5</td>\n",
       "      <td>Yummy!! Please try the guacamole. You won't re...</td>\n",
       "      <td>NY</td>\n",
       "    </tr>\n",
       "  </tbody>\n",
       "</table>\n",
       "</div>"
      ],
      "text/plain": [
       "                                 gmap_id       user_id          name  rating  \\\n",
       "0  0x89c244427d3e2c19:0xc1dbf7d8e71d7201  1.146613e+20          Anya       5   \n",
       "1  0x89c244427d3e2c19:0xc1dbf7d8e71d7201  1.145209e+20  TheNaelabean       5   \n",
       "\n",
       "                                                text state_usa  \n",
       "0  Today was my first time at Casa Malinche, and ...        NY  \n",
       "1  Yummy!! Please try the guacamole. You won't re...        NY  "
      ]
     },
     "execution_count": 67,
     "metadata": {},
     "output_type": "execute_result"
    }
   ],
   "source": [
    "# Previsualizacion del dataframe\n",
    "latin_restaurants_ny.head(2)"
   ]
  },
  {
   "cell_type": "code",
   "execution_count": null,
   "metadata": {},
   "outputs": [],
   "source": [
    "# Exportacion de las reviews de NY filtrados por restaurantes latinos\n",
    "latin_restaurants_ny.to_csv('./Datasets_limpios/Google/reviews_ny.csv', index=False)"
   ]
  },
  {
   "cell_type": "markdown",
   "metadata": {},
   "source": [
    "##### Filtrado de la data de restaurants"
   ]
  },
  {
   "cell_type": "code",
   "execution_count": null,
   "metadata": {},
   "outputs": [],
   "source": [
    "# Union de los dataframes para iniciar filtrado de los que pertenezcan a NY\n",
    "latin_restaurants_ny = pd.merge(latin_restaurants, reviews_new_york, on='gmap_id', how='inner')"
   ]
  },
  {
   "cell_type": "code",
   "execution_count": null,
   "metadata": {},
   "outputs": [],
   "source": [
    "# Creacion de columna con el estado al que pertenece\n",
    "latin_restaurants_ny['state_usa'] = 'NY'"
   ]
  },
  {
   "cell_type": "code",
   "execution_count": null,
   "metadata": {},
   "outputs": [
    {
     "data": {
      "text/plain": [
       "np.int64(116683)"
      ]
     },
     "execution_count": 71,
     "metadata": {},
     "output_type": "execute_result"
    }
   ],
   "source": [
    "# Conteo de duplicados en la columna 'gmap_id'\n",
    "conteo_duplicados = latin_restaurants_ny['gmap_id'].duplicated().sum()\n",
    "conteo_duplicados"
   ]
  },
  {
   "cell_type": "code",
   "execution_count": null,
   "metadata": {},
   "outputs": [],
   "source": [
    "# Eliminacion de valores repetidos por la columna 'gmap_id'\n",
    "latin_restaurants_ny_sinduplicados = latin_restaurants_ny.drop_duplicates(subset='gmap_id')"
   ]
  },
  {
   "cell_type": "code",
   "execution_count": 73,
   "metadata": {},
   "outputs": [
    {
     "name": "stdout",
     "output_type": "stream",
     "text": [
      "<class 'pandas.core.frame.DataFrame'>\n",
      "Index: 1352 entries, 0 to 117817\n",
      "Data columns (total 20 columns):\n",
      " #   Column            Non-Null Count  Dtype  \n",
      "---  ------            --------------  -----  \n",
      " 0   gmap_id           1352 non-null   object \n",
      " 1   category          1352 non-null   object \n",
      " 2   name_x            1352 non-null   object \n",
      " 3   address           1352 non-null   object \n",
      " 4   description       288 non-null    object \n",
      " 5   latitude          1352 non-null   float64\n",
      " 6   longitude         1352 non-null   float64\n",
      " 7   avg_rating        1352 non-null   float64\n",
      " 8   num_of_reviews    1352 non-null   int64  \n",
      " 9   price             657 non-null    object \n",
      " 10  hours             1309 non-null   object \n",
      " 11  MISC              1348 non-null   object \n",
      " 12  state             1309 non-null   object \n",
      " 13  relative_results  1191 non-null   object \n",
      " 14  url               1352 non-null   object \n",
      " 15  user_id           1352 non-null   float64\n",
      " 16  name_y            1352 non-null   object \n",
      " 17  rating            1352 non-null   int64  \n",
      " 18  text              1352 non-null   object \n",
      " 19  state_usa         1352 non-null   object \n",
      "dtypes: float64(4), int64(2), object(14)\n",
      "memory usage: 221.8+ KB\n"
     ]
    }
   ],
   "source": [
    "latin_restaurants_ny_sinduplicados.info()"
   ]
  },
  {
   "cell_type": "code",
   "execution_count": null,
   "metadata": {},
   "outputs": [],
   "source": [
    "# Eliminacion de columnas innecesarias de acuerdo al enfoque\n",
    "latin_restaurants_ny_sinduplicados.drop(columns=['user_id', 'name_y', 'rating', 'text',], inplace=True)"
   ]
  },
  {
   "cell_type": "code",
   "execution_count": 75,
   "metadata": {},
   "outputs": [
    {
     "name": "stdout",
     "output_type": "stream",
     "text": [
      "<class 'pandas.core.frame.DataFrame'>\n",
      "Index: 1352 entries, 0 to 117817\n",
      "Data columns (total 16 columns):\n",
      " #   Column            Non-Null Count  Dtype  \n",
      "---  ------            --------------  -----  \n",
      " 0   gmap_id           1352 non-null   object \n",
      " 1   category          1352 non-null   object \n",
      " 2   name_x            1352 non-null   object \n",
      " 3   address           1352 non-null   object \n",
      " 4   description       288 non-null    object \n",
      " 5   latitude          1352 non-null   float64\n",
      " 6   longitude         1352 non-null   float64\n",
      " 7   avg_rating        1352 non-null   float64\n",
      " 8   num_of_reviews    1352 non-null   int64  \n",
      " 9   price             657 non-null    object \n",
      " 10  hours             1309 non-null   object \n",
      " 11  MISC              1348 non-null   object \n",
      " 12  state             1309 non-null   object \n",
      " 13  relative_results  1191 non-null   object \n",
      " 14  url               1352 non-null   object \n",
      " 15  state_usa         1352 non-null   object \n",
      "dtypes: float64(3), int64(1), object(12)\n",
      "memory usage: 179.6+ KB\n"
     ]
    }
   ],
   "source": [
    "latin_restaurants_ny_sinduplicados.info()"
   ]
  },
  {
   "cell_type": "code",
   "execution_count": null,
   "metadata": {},
   "outputs": [],
   "source": [
    "# Renombre de la columna 'name'\n",
    "latin_restaurants_ny_sinduplicados = latin_restaurants_ny_sinduplicados.rename(columns={'name_x': 'name'})"
   ]
  },
  {
   "cell_type": "markdown",
   "metadata": {},
   "source": [
    "### ETL Texas (filtrado de la data de reviews y filtrado de la data de restaurants)"
   ]
  },
  {
   "cell_type": "markdown",
   "metadata": {},
   "source": [
    "##### Filtrado de la data de reviews"
   ]
  },
  {
   "cell_type": "code",
   "execution_count": null,
   "metadata": {},
   "outputs": [],
   "source": [
    "# Carga del dataset de las reviews de texas\n",
    "reviews_texas = pd.read_parquet('./Datasets/Google_maps/df_texas.parquet')\n",
    "\n",
    "# Union de todos los restaurantes latinos con las reviews de texas\n",
    "latin_restaurants_tx = pd.merge(latin_restaurants, reviews_texas, on='gmap_id', how='inner')\n",
    "\n",
    "# Eliminacion de las columnas innecesarias de acuerdo al enfoque\n",
    "latin_restaurants_tx.drop(columns=['category', 'name_x', 'address', 'description', 'latitude', 'longitude', 'avg_rating', 'num_of_reviews', 'price', 'hours', 'MISC', 'state', 'relative_results', 'url'], inplace=True)\n",
    "\n",
    "# Creacion de columna con el estado perteneciente\n",
    "latin_restaurants_tx['state_usa'] = 'TX'\n",
    "\n",
    "# Renombre la columna 'name'\n",
    "latin_restaurants_tx = latin_restaurants_tx.rename(columns={'name_y': 'name'})\n",
    "\n",
    "# Exportacion de las reviews filtradas por restaurantes latinos\n",
    "latin_restaurants_tx.to_csv('./Datasets_limpios/Google/reviews_tx.csv', index=False)"
   ]
  },
  {
   "cell_type": "markdown",
   "metadata": {},
   "source": [
    "##### Filtrado de la data de restaurants"
   ]
  },
  {
   "cell_type": "code",
   "execution_count": null,
   "metadata": {},
   "outputs": [],
   "source": [
    "# Union de los dataframes por la columna 'gmap_id'\n",
    "latin_restaurants_tx = pd.merge(latin_restaurants, reviews_texas, on='gmap_id', how='inner')\n",
    "\n",
    "# Creacion de columna con el estado perteneciente\n",
    "latin_restaurants_tx['state_usa'] = 'TX'\n",
    "\n",
    "# Eliminacion de valores repetidos por la columna 'gmap_id'\n",
    "latin_restaurants_tx_sinduplicados = latin_restaurants_tx.drop_duplicates(subset='gmap_id')\n",
    "\n",
    "# Eliminacion de las columnas innecesarias de acuerdo al enfoque\n",
    "latin_restaurants_tx_sinduplicados.drop(columns=['user_id', 'name_y', 'rating', 'text',], inplace=True)\n",
    "\n",
    "# Renombre la columna 'name'\n",
    "latin_restaurants_tx_sinduplicados = latin_restaurants_tx_sinduplicados.rename(columns={'name_x': 'name'})"
   ]
  },
  {
   "cell_type": "markdown",
   "metadata": {},
   "source": [
    "### ETL Florida (filtrado de la data de reviews y filtrado de la data de restaurants)"
   ]
  },
  {
   "cell_type": "markdown",
   "metadata": {},
   "source": [
    "##### Filtrado de la data de reviews"
   ]
  },
  {
   "cell_type": "code",
   "execution_count": null,
   "metadata": {},
   "outputs": [],
   "source": [
    "# Carga del dataset de las reviews de Florida\n",
    "reviews_florida = pd.read_parquet('./Datasets/Google_maps/df_florida.parquet')\n",
    "\n",
    "# Union de todos los restaurantes latinos con las reviews de Florida\n",
    "latin_restaurants_fl = pd.merge(latin_restaurants, reviews_florida, on='gmap_id', how='inner')\n",
    "\n",
    "# Eliminacion de las columnas innecesarias de acuerdo al enfoque\n",
    "latin_restaurants_fl.drop(columns=['category', 'name_x', 'address', 'description', 'latitude', 'longitude', 'avg_rating', 'num_of_reviews', 'price', 'hours', 'MISC', 'state', 'relative_results', 'url'], inplace=True)\n",
    "\n",
    "# Creacion de columna con el estado perteneciente\n",
    "latin_restaurants_fl['state_usa'] = 'FL'\n",
    "\n",
    "# Renombre la columna 'name'\n",
    "latin_restaurants_fl = latin_restaurants_fl.rename(columns={'name_y': 'name'})\n",
    "\n",
    "# Exportacion de las reviews filtradas por restaurantes latinos\n",
    "latin_restaurants_fl.to_csv('./Datasets_limpios/Google/reviews_fl.csv', index=False)"
   ]
  },
  {
   "cell_type": "markdown",
   "metadata": {},
   "source": [
    "##### Filtrado de la data de restaurants"
   ]
  },
  {
   "cell_type": "code",
   "execution_count": null,
   "metadata": {},
   "outputs": [],
   "source": [
    "# Union de los dataframes por la columna 'gmap_id'\n",
    "latin_restaurants_fl = pd.merge(latin_restaurants, reviews_florida, on='gmap_id', how='inner')\n",
    "\n",
    "# Creacion de columna con el estado perteneciente\n",
    "latin_restaurants_fl['state_usa'] = 'FL'\n",
    "\n",
    "# Eliminacion de valores repetidos por la columna 'gmap_id'\n",
    "latin_restaurants_fl_sinduplicados = latin_restaurants_fl.drop_duplicates(subset='gmap_id')\n",
    "\n",
    "# Eliminacion de las columnas innecesarias de acuerdo al enfoque\n",
    "latin_restaurants_fl_sinduplicados.drop(columns=['user_id', 'name_y', 'rating', 'text',], inplace=True)\n",
    "\n",
    "# Renombre la columna 'name'\n",
    "latin_restaurants_fl_sinduplicados = latin_restaurants_fl_sinduplicados.rename(columns={'name_x': 'name'})"
   ]
  },
  {
   "cell_type": "markdown",
   "metadata": {},
   "source": [
    "### ETL California (filtrado de la data de reviews y filtrado de la data de restaurants)"
   ]
  },
  {
   "cell_type": "markdown",
   "metadata": {},
   "source": [
    "##### Filtrado de la data de reviews"
   ]
  },
  {
   "cell_type": "code",
   "execution_count": null,
   "metadata": {},
   "outputs": [],
   "source": [
    "# Carga del dataset de las reviews de California\n",
    "reviews_california = pd.read_parquet('./Datasets/Google_maps/df_california.parquet')\n",
    "\n",
    "# Union de todos los restaurantes latinos con las reviews de California\n",
    "latin_restaurants_ca = pd.merge(latin_restaurants, reviews_california, on='gmap_id', how='inner')\n",
    "\n",
    "# Eliminacion de las columnas innecesarias de acuerdo al enfoque\n",
    "latin_restaurants_ca.drop(columns=['category', 'name_x', 'address', 'description', 'latitude', 'longitude', 'avg_rating', 'num_of_reviews', 'price', 'hours', 'MISC', 'state', 'relative_results', 'url'], inplace=True)\n",
    "\n",
    "# Creacion de columna con el estado perteneciente\n",
    "latin_restaurants_ca['state_usa'] = 'CA'\n",
    "\n",
    "# Renombre la columna 'name'\n",
    "latin_restaurants_ca = latin_restaurants_ca.rename(columns={'name_y': 'name'})\n",
    "\n",
    "# Exportacion de las reviews filtradas por restaurantes latinos\n",
    "latin_restaurants_ca.to_csv('./Datasets_limpios/Google/reviews_ca.csv', index=False)"
   ]
  },
  {
   "cell_type": "markdown",
   "metadata": {},
   "source": [
    "##### Filtrado de la data de restaurants"
   ]
  },
  {
   "cell_type": "code",
   "execution_count": null,
   "metadata": {},
   "outputs": [],
   "source": [
    "# Union de los dataframes por la columna 'gmap_id'\n",
    "latin_restaurants_ca = pd.merge(latin_restaurants, reviews_california, on='gmap_id', how='inner')\n",
    "\n",
    "# Creacion de columna con el estado perteneciente\n",
    "latin_restaurants_ca['state_usa'] = 'CA'\n",
    "\n",
    "# Eliminacion de valores repetidos por la columna 'gmap_id'\n",
    "latin_restaurants_ca_sinduplicados = latin_restaurants_ca.drop_duplicates(subset='gmap_id')\n",
    "\n",
    "# Eliminacion de las columnas innecesarias de acuerdo al enfoque\n",
    "latin_restaurants_ca_sinduplicados.drop(columns=['user_id', 'name_y', 'rating', 'text',], inplace=True)\n",
    "\n",
    "# Renombre la columna 'name'\n",
    "latin_restaurants_ca_sinduplicados = latin_restaurants_ca_sinduplicados.rename(columns={'name_x': 'name'})"
   ]
  },
  {
   "cell_type": "markdown",
   "metadata": {},
   "source": [
    "### ETL Arizona (filtrado de la data de reviews y filtrado de la data de restaurants)"
   ]
  },
  {
   "cell_type": "markdown",
   "metadata": {},
   "source": [
    "##### Filtrado de la data de reviews"
   ]
  },
  {
   "cell_type": "code",
   "execution_count": null,
   "metadata": {},
   "outputs": [],
   "source": [
    "# Carga del dataset de las reviews de Arizona\n",
    "reviews_arizona = pd.read_parquet('./Datasets/Google_maps/df_arizona.parquet')\n",
    "\n",
    "# Union de todos los restaurantes latinos con las reviews de Arizona\n",
    "latin_restaurants_az = pd.merge(latin_restaurants, reviews_arizona, on='gmap_id', how='inner')\n",
    "\n",
    "# Eliminacion de las columnas innecesarias de acuerdo al enfoque\n",
    "latin_restaurants_az.drop(columns=['category', 'name_x', 'address', 'description', 'latitude', 'longitude', 'avg_rating', 'num_of_reviews', 'price', 'hours', 'MISC', 'state', 'relative_results', 'url'], inplace=True)\n",
    "\n",
    "# Creacion de columna con el estado perteneciente\n",
    "latin_restaurants_az['state_usa'] = 'AZ'\n",
    "\n",
    "# Renombre la columna 'name'\n",
    "latin_restaurants_az = latin_restaurants_az.rename(columns={'name_y': 'name'})\n",
    "\n",
    "# Exportacion de las reviews filtradas por restaurantes latinos\n",
    "latin_restaurants_az.to_csv('./Datasets_limpios/Google/reviews_az.csv', index=False)"
   ]
  },
  {
   "cell_type": "markdown",
   "metadata": {},
   "source": [
    "##### Filtrado de la data de restaurants"
   ]
  },
  {
   "cell_type": "code",
   "execution_count": null,
   "metadata": {},
   "outputs": [],
   "source": [
    "# Union de los dataframes por la columna 'gmap_id'\n",
    "latin_restaurants_az = pd.merge(latin_restaurants, reviews_arizona, on='gmap_id', how='inner')\n",
    "\n",
    "# Creacion de columna con el estado perteneciente\n",
    "latin_restaurants_az['state_usa'] = 'AZ'\n",
    "\n",
    "# Eliminacion de valores repetidos por la columna 'gmap_id'\n",
    "latin_restaurants_az_sinduplicados = latin_restaurants_az.drop_duplicates(subset='gmap_id')\n",
    "\n",
    "# Eliminacion de las columnas innecesarias de acuerdo al enfoque\n",
    "latin_restaurants_az_sinduplicados.drop(columns=['user_id', 'name_y', 'rating', 'text',], inplace=True)\n",
    "\n",
    "# Renombre la columna 'name'\n",
    "latin_restaurants_az_sinduplicados = latin_restaurants_az_sinduplicados.rename(columns={'name_x': 'name'})"
   ]
  },
  {
   "cell_type": "markdown",
   "metadata": {},
   "source": [
    "### ETL Illinois (filtrado de la data de reviews y filtrado de la data de restaurants)"
   ]
  },
  {
   "cell_type": "markdown",
   "metadata": {},
   "source": [
    "##### Filtrado de la data de reviews"
   ]
  },
  {
   "cell_type": "code",
   "execution_count": null,
   "metadata": {},
   "outputs": [],
   "source": [
    "# Carga del dataset de las reviews de Illinois\n",
    "reviews_illinois = pd.read_parquet('./Datasets/Google_maps/df_illinois.parquet')\n",
    "\n",
    "# Union de todos los restaurantes latinos con las reviews de Illinois\n",
    "latin_restaurants_il = pd.merge(latin_restaurants, reviews_illinois, on='gmap_id', how='inner')\n",
    "\n",
    "# Eliminacion de las columnas innecesarias de acuerdo al enfoque\n",
    "latin_restaurants_il.drop(columns=['category', 'name_x', 'address', 'description', 'latitude', 'longitude', 'avg_rating', 'num_of_reviews', 'price', 'hours', 'MISC', 'state', 'relative_results', 'url'], inplace=True)\n",
    "\n",
    "# Creacion de columna con el estado perteneciente\n",
    "latin_restaurants_il['state_usa'] = 'IL'\n",
    "\n",
    "# Renombre la columna 'name'\n",
    "latin_restaurants_il = latin_restaurants_il.rename(columns={'name_y': 'name'})\n",
    "\n",
    "# Exportacion de las reviews filtradas por restaurantes latinos\n",
    "latin_restaurants_il.to_csv('./Datasets_limpios/Google/reviews_il.csv', index=False)"
   ]
  },
  {
   "cell_type": "markdown",
   "metadata": {},
   "source": [
    "##### Filtrado de la data de restaurants"
   ]
  },
  {
   "cell_type": "code",
   "execution_count": null,
   "metadata": {},
   "outputs": [],
   "source": [
    "# Union de los dataframes por la columna 'gmap_id'\n",
    "latin_restaurants_il = pd.merge(latin_restaurants, reviews_illinois, on='gmap_id', how='inner')\n",
    "\n",
    "# Creacion de columna con el estado perteneciente\n",
    "latin_restaurants_il['state_usa'] = 'IL'\n",
    "\n",
    "# Eliminacion de valores repetidos por la columna 'gmap_id'\n",
    "latin_restaurants_il_sinduplicados = latin_restaurants_il.drop_duplicates(subset='gmap_id')\n",
    "\n",
    "# Eliminacion de las columnas innecesarias de acuerdo al enfoque\n",
    "latin_restaurants_il_sinduplicados.drop(columns=['user_id', 'name_y', 'rating', 'text',], inplace=True)\n",
    "\n",
    "# Renombre la columna 'name'\n",
    "latin_restaurants_il_sinduplicados = latin_restaurants_il_sinduplicados.rename(columns={'name_x': 'name'})"
   ]
  },
  {
   "cell_type": "markdown",
   "metadata": {},
   "source": [
    "### Concatenacion de la data de restaurantes por estado a un solo dataframe"
   ]
  },
  {
   "cell_type": "code",
   "execution_count": 93,
   "metadata": {},
   "outputs": [],
   "source": [
    "# Concatenando verticalmente (por filas)\n",
    "latin_restaurants = pd.concat([latin_restaurants_ny_sinduplicados, latin_restaurants_tx_sinduplicados, latin_restaurants_fl_sinduplicados, latin_restaurants_ca_sinduplicados, latin_restaurants_az_sinduplicados, latin_restaurants_il_sinduplicados], ignore_index=True)"
   ]
  },
  {
   "cell_type": "code",
   "execution_count": null,
   "metadata": {},
   "outputs": [
    {
     "data": {
      "text/plain": [
       "array(['NY', 'TX', 'FL', 'CA', 'AZ', 'IL'], dtype=object)"
      ]
     },
     "execution_count": 95,
     "metadata": {},
     "output_type": "execute_result"
    }
   ],
   "source": [
    "# Visualizacion de las categorias unicas dentro de la columna 'state_usa'\n",
    "latin_restaurants['state_usa'].unique()"
   ]
  },
  {
   "cell_type": "code",
   "execution_count": null,
   "metadata": {},
   "outputs": [
    {
     "data": {
      "text/plain": [
       "Index(['gmap_id', 'category', 'name', 'address', 'description', 'latitude',\n",
       "       'longitude', 'avg_rating', 'num_of_reviews', 'price', 'hours', 'MISC',\n",
       "       'state', 'relative_results', 'url', 'state_usa'],\n",
       "      dtype='object')"
      ]
     },
     "execution_count": 96,
     "metadata": {},
     "output_type": "execute_result"
    }
   ],
   "source": [
    "# Listado de columnas del dataframe\n",
    "latin_restaurants.columns"
   ]
  },
  {
   "cell_type": "code",
   "execution_count": null,
   "metadata": {},
   "outputs": [],
   "source": [
    "# Exportacion del dataframe\n",
    "latin_restaurants.to_csv('./Datasets_limpios/Google/latin_restaurants_bystate.csv', index=False)"
   ]
  },
  {
   "cell_type": "code",
   "execution_count": null,
   "metadata": {},
   "outputs": [],
   "source": [
    "# Eliminacion de columnas innecesarias de acuerdo al enfoque\n",
    "latin_restaurants.drop(columns=['avg_rating', 'num_of_reviews', 'hours', 'state', 'relative_results', 'url'], inplace=True)"
   ]
  },
  {
   "cell_type": "code",
   "execution_count": 100,
   "metadata": {},
   "outputs": [
    {
     "data": {
      "text/html": [
       "<div>\n",
       "<style scoped>\n",
       "    .dataframe tbody tr th:only-of-type {\n",
       "        vertical-align: middle;\n",
       "    }\n",
       "\n",
       "    .dataframe tbody tr th {\n",
       "        vertical-align: top;\n",
       "    }\n",
       "\n",
       "    .dataframe thead th {\n",
       "        text-align: right;\n",
       "    }\n",
       "</style>\n",
       "<table border=\"1\" class=\"dataframe\">\n",
       "  <thead>\n",
       "    <tr style=\"text-align: right;\">\n",
       "      <th></th>\n",
       "      <th>gmap_id</th>\n",
       "      <th>category</th>\n",
       "      <th>name</th>\n",
       "      <th>address</th>\n",
       "      <th>description</th>\n",
       "      <th>latitude</th>\n",
       "      <th>longitude</th>\n",
       "      <th>price</th>\n",
       "      <th>MISC</th>\n",
       "      <th>state_usa</th>\n",
       "    </tr>\n",
       "  </thead>\n",
       "  <tbody>\n",
       "    <tr>\n",
       "      <th>0</th>\n",
       "      <td>0x89c244427d3e2c19:0xc1dbf7d8e71d7201</td>\n",
       "      <td>Mexican restaurant</td>\n",
       "      <td>Casa Malinche</td>\n",
       "      <td>Casa Malinche, 3078 Coney Island Ave, Brooklyn...</td>\n",
       "      <td>None</td>\n",
       "      <td>40.581086</td>\n",
       "      <td>-73.960139</td>\n",
       "      <td>None</td>\n",
       "      <td>{'Accessibility': None, 'Activities': None, 'A...</td>\n",
       "      <td>NY</td>\n",
       "    </tr>\n",
       "    <tr>\n",
       "      <th>1</th>\n",
       "      <td>0x89c259063d62f499:0x5b5cab85882fd605</td>\n",
       "      <td>Mexican restaurant</td>\n",
       "      <td>Caliente Cab Co</td>\n",
       "      <td>Caliente Cab Co, 488 3rd Ave, New York, NY 10016</td>\n",
       "      <td>Potent drinks &amp; a spacious patio are the main ...</td>\n",
       "      <td>40.745304</td>\n",
       "      <td>-73.978768</td>\n",
       "      <td>$$</td>\n",
       "      <td>{'Accessibility': None, 'Activities': None, 'A...</td>\n",
       "      <td>NY</td>\n",
       "    </tr>\n",
       "  </tbody>\n",
       "</table>\n",
       "</div>"
      ],
      "text/plain": [
       "                                 gmap_id            category             name  \\\n",
       "0  0x89c244427d3e2c19:0xc1dbf7d8e71d7201  Mexican restaurant    Casa Malinche   \n",
       "1  0x89c259063d62f499:0x5b5cab85882fd605  Mexican restaurant  Caliente Cab Co   \n",
       "\n",
       "                                             address  \\\n",
       "0  Casa Malinche, 3078 Coney Island Ave, Brooklyn...   \n",
       "1   Caliente Cab Co, 488 3rd Ave, New York, NY 10016   \n",
       "\n",
       "                                         description   latitude  longitude  \\\n",
       "0                                               None  40.581086 -73.960139   \n",
       "1  Potent drinks & a spacious patio are the main ...  40.745304 -73.978768   \n",
       "\n",
       "  price                                               MISC state_usa  \n",
       "0  None  {'Accessibility': None, 'Activities': None, 'A...        NY  \n",
       "1    $$  {'Accessibility': None, 'Activities': None, 'A...        NY  "
      ]
     },
     "execution_count": 100,
     "metadata": {},
     "output_type": "execute_result"
    }
   ],
   "source": [
    "latin_restaurants.head(2)"
   ]
  },
  {
   "cell_type": "code",
   "execution_count": null,
   "metadata": {},
   "outputs": [
    {
     "name": "stdout",
     "output_type": "stream",
     "text": [
      "<class 'pandas.core.frame.DataFrame'>\n",
      "RangeIndex: 5934 entries, 0 to 5933\n",
      "Data columns (total 10 columns):\n",
      " #   Column       Non-Null Count  Dtype  \n",
      "---  ------       --------------  -----  \n",
      " 0   gmap_id      5934 non-null   object \n",
      " 1   category     5934 non-null   object \n",
      " 2   name         5934 non-null   object \n",
      " 3   address      5929 non-null   object \n",
      " 4   description  1271 non-null   object \n",
      " 5   latitude     5934 non-null   float64\n",
      " 6   longitude    5934 non-null   float64\n",
      " 7   price        2506 non-null   object \n",
      " 8   MISC         5922 non-null   object \n",
      " 9   state_usa    5934 non-null   object \n",
      "dtypes: float64(2), object(8)\n",
      "memory usage: 463.7+ KB\n"
     ]
    }
   ],
   "source": [
    "# Informacion del dataframe\n",
    "latin_restaurants.info()"
   ]
  },
  {
   "cell_type": "code",
   "execution_count": null,
   "metadata": {},
   "outputs": [],
   "source": [
    "# Renombre de la columna ID enfocado al diagrama de entidad relacion\n",
    "latin_restaurants = latin_restaurants.rename(columns={'gmap_id': 'restaurant_id', 'name': 'restaurant_name', 'MISC': 'misc', 'state_usa': 'state'})"
   ]
  },
  {
   "cell_type": "code",
   "execution_count": 104,
   "metadata": {},
   "outputs": [
    {
     "name": "stdout",
     "output_type": "stream",
     "text": [
      "<class 'pandas.core.frame.DataFrame'>\n",
      "RangeIndex: 5934 entries, 0 to 5933\n",
      "Data columns (total 10 columns):\n",
      " #   Column           Non-Null Count  Dtype  \n",
      "---  ------           --------------  -----  \n",
      " 0   restaurant_id    5934 non-null   object \n",
      " 1   category         5934 non-null   object \n",
      " 2   restaurant_name  5934 non-null   object \n",
      " 3   address          5929 non-null   object \n",
      " 4   description      1271 non-null   object \n",
      " 5   latitude         5934 non-null   float64\n",
      " 6   longitude        5934 non-null   float64\n",
      " 7   price            2506 non-null   object \n",
      " 8   misc             5922 non-null   object \n",
      " 9   state            5934 non-null   object \n",
      "dtypes: float64(2), object(8)\n",
      "memory usage: 463.7+ KB\n"
     ]
    }
   ],
   "source": [
    "latin_restaurants.info()"
   ]
  },
  {
   "cell_type": "markdown",
   "metadata": {},
   "source": [
    "### Normalizacion de la columna 'category'"
   ]
  },
  {
   "cell_type": "code",
   "execution_count": null,
   "metadata": {},
   "outputs": [
    {
     "data": {
      "text/plain": [
       "array(['Mexican restaurant', 'Ecuadorian restaurant',\n",
       "       'Caribbean restaurant', 'Salvadoran restaurant',\n",
       "       'Latin American restaurant', 'Burrito restaurant',\n",
       "       'Taco restaurant', 'Colombian restaurant', 'Dominican restaurant',\n",
       "       'Peruvian restaurant', 'Brazilian restaurant', 'Cuban restaurant',\n",
       "       'Guatemalan restaurant', 'Puerto Rican restaurant',\n",
       "       'Venezuelan restaurant', 'Argentinian restaurant',\n",
       "       'Honduran restaurant', 'Chilean restaurant',\n",
       "       'Paraguayan restaurant', 'Nuevo Latino restaurant',\n",
       "       'Pan-Latin restaurant', 'South American restaurant',\n",
       "       'Nicaraguan restaurant', 'Mexican torta restaurant',\n",
       "       'Oaxacan restaurant'], dtype=object)"
      ]
     },
     "execution_count": 105,
     "metadata": {},
     "output_type": "execute_result"
    }
   ],
   "source": [
    "# Listado de categorias unicas dentro del dataframe\n",
    "latin_restaurants['category'].unique()"
   ]
  },
  {
   "cell_type": "code",
   "execution_count": null,
   "metadata": {},
   "outputs": [],
   "source": [
    "# Reemplazo de categorias por una mas global\n",
    "latin_restaurants['category'] = latin_restaurants['category'].replace('Burrito restaurant', 'Mexican restaurant')\n",
    "latin_restaurants['category'] = latin_restaurants['category'].replace('Taco restaurant', 'Mexican restaurant')\n",
    "latin_restaurants['category'] = latin_restaurants['category'].replace('Oaxacan restaurant', 'Mexican restaurant')"
   ]
  },
  {
   "cell_type": "code",
   "execution_count": 107,
   "metadata": {},
   "outputs": [
    {
     "data": {
      "text/plain": [
       "array(['Mexican restaurant', 'Ecuadorian restaurant',\n",
       "       'Caribbean restaurant', 'Salvadoran restaurant',\n",
       "       'Latin American restaurant', 'Colombian restaurant',\n",
       "       'Dominican restaurant', 'Peruvian restaurant',\n",
       "       'Brazilian restaurant', 'Cuban restaurant',\n",
       "       'Guatemalan restaurant', 'Puerto Rican restaurant',\n",
       "       'Venezuelan restaurant', 'Argentinian restaurant',\n",
       "       'Honduran restaurant', 'Chilean restaurant',\n",
       "       'Paraguayan restaurant', 'Nuevo Latino restaurant',\n",
       "       'Pan-Latin restaurant', 'South American restaurant',\n",
       "       'Nicaraguan restaurant', 'Mexican torta restaurant'], dtype=object)"
      ]
     },
     "execution_count": 107,
     "metadata": {},
     "output_type": "execute_result"
    }
   ],
   "source": [
    "latin_restaurants['category'].unique()"
   ]
  },
  {
   "cell_type": "code",
   "execution_count": null,
   "metadata": {},
   "outputs": [],
   "source": [
    "# Reemplazo de categorias por una mas global\n",
    "latin_restaurants['category'] = latin_restaurants['category'].replace('Nuevo Latino restaurant', 'South American restaurant')\n",
    "latin_restaurants['category'] = latin_restaurants['category'].replace('Mexican torta restaurant', 'Mexican American restaurant')"
   ]
  },
  {
   "cell_type": "code",
   "execution_count": 109,
   "metadata": {},
   "outputs": [
    {
     "data": {
      "text/plain": [
       "array(['Mexican restaurant', 'Ecuadorian restaurant',\n",
       "       'Caribbean restaurant', 'Salvadoran restaurant',\n",
       "       'Latin American restaurant', 'Colombian restaurant',\n",
       "       'Dominican restaurant', 'Peruvian restaurant',\n",
       "       'Brazilian restaurant', 'Cuban restaurant',\n",
       "       'Guatemalan restaurant', 'Puerto Rican restaurant',\n",
       "       'Venezuelan restaurant', 'Argentinian restaurant',\n",
       "       'Honduran restaurant', 'Chilean restaurant',\n",
       "       'Paraguayan restaurant', 'South American restaurant',\n",
       "       'Pan-Latin restaurant', 'Nicaraguan restaurant',\n",
       "       'Mexican American restaurant'], dtype=object)"
      ]
     },
     "execution_count": 109,
     "metadata": {},
     "output_type": "execute_result"
    }
   ],
   "source": [
    "latin_restaurants['category'].unique()"
   ]
  },
  {
   "cell_type": "code",
   "execution_count": null,
   "metadata": {},
   "outputs": [],
   "source": [
    "# Reemplazo de categorias por una mas global\n",
    "latin_restaurants['category'] = latin_restaurants['category'].replace('Pan-Latin restaurant', 'South American restaurant')\n",
    "latin_restaurants['category'] = latin_restaurants['category'].replace('Mexican American restaurant', 'Mexican restaurant')"
   ]
  },
  {
   "cell_type": "code",
   "execution_count": 111,
   "metadata": {},
   "outputs": [
    {
     "data": {
      "text/plain": [
       "array(['Mexican restaurant', 'Ecuadorian restaurant',\n",
       "       'Caribbean restaurant', 'Salvadoran restaurant',\n",
       "       'Latin American restaurant', 'Colombian restaurant',\n",
       "       'Dominican restaurant', 'Peruvian restaurant',\n",
       "       'Brazilian restaurant', 'Cuban restaurant',\n",
       "       'Guatemalan restaurant', 'Puerto Rican restaurant',\n",
       "       'Venezuelan restaurant', 'Argentinian restaurant',\n",
       "       'Honduran restaurant', 'Chilean restaurant',\n",
       "       'Paraguayan restaurant', 'South American restaurant',\n",
       "       'Nicaraguan restaurant'], dtype=object)"
      ]
     },
     "execution_count": 111,
     "metadata": {},
     "output_type": "execute_result"
    }
   ],
   "source": [
    "latin_restaurants['category'].unique()"
   ]
  },
  {
   "cell_type": "code",
   "execution_count": null,
   "metadata": {},
   "outputs": [],
   "source": [
    "# Categorias unicas\n",
    "data = ['Mexican restaurant', 'Ecuadorian restaurant',\n",
    "        'Caribbean restaurant', 'Salvadoran restaurant',\n",
    "        'Latin American restaurant', 'Colombian restaurant',\n",
    "        'Dominican restaurant', 'Peruvian restaurant',\n",
    "        'Brazilian restaurant', 'Cuban restaurant',\n",
    "        'Guatemalan restaurant', 'Puerto Rican restaurant',\n",
    "        'Venezuelan restaurant', 'Argentinian restaurant',\n",
    "        'Honduran restaurant', 'Chilean restaurant',\n",
    "        'Paraguayan restaurant', 'South American restaurant',\n",
    "        'Nicaraguan restaurant']\n",
    "\n",
    "# Creacion del dataframe\n",
    "categories = pd.DataFrame({'subcategory_name': data})\n",
    "\n",
    "# Definicion de una funcion que normaliza las categorias a una mas amplia\n",
    "def normalize_category(category):\n",
    "    if category in ['Mexican restaurant', 'Puerto Rican restaurant']:\n",
    "        return 'Norte America'\n",
    "    elif category in [ 'Dominican restaurant', 'Cuban restaurant', 'Caribbean restaurant']:\n",
    "        return 'Caribe'\n",
    "    elif category in ['South American restaurant', 'Latin American restaurant', 'Honduran restaurant', 'Nicaraguan restaurant', 'Salvadoran restaurant', 'Guatemalan restaurant',  'Brazilian restaurant', 'Argentinian restaurant', 'Chilean restaurant', 'Peruvian restaurant', 'Colombian restaurant', 'Ecuadorian restaurant', 'Paraguayan restaurant', 'Venezuelan restaurant']:\n",
    "        return 'Latino America'\n",
    "\n",
    "# Aplicacion de la funcion a la columna 'subcategory_name' que contiene las categorias unicas\n",
    "categories['category_name'] = categories['subcategory_name'].apply(normalize_category)\n",
    "\n",
    "# Definicion de una funcion que crea el ID para esa normalizacion\n",
    "def normalize_category(category):\n",
    "    if category in ['Norte America']:\n",
    "        return 1\n",
    "    elif category in ['Caribe']:\n",
    "        return 2\n",
    "    elif category in ['Latino America']:\n",
    "        return 3\n",
    "    \n",
    "# Aplicacion de la funcion en basado en la normalizacion\n",
    "categories['category_id'] = categories['category_name'].apply(normalize_category)\n"
   ]
  },
  {
   "cell_type": "code",
   "execution_count": null,
   "metadata": {},
   "outputs": [],
   "source": [
    "# Agregacion de un id para las categorias unicas\n",
    "categories['subcategory_id'] = categories['subcategory_name'].astype('category').cat.codes + 1"
   ]
  },
  {
   "cell_type": "code",
   "execution_count": null,
   "metadata": {},
   "outputs": [
    {
     "data": {
      "text/html": [
       "<div>\n",
       "<style scoped>\n",
       "    .dataframe tbody tr th:only-of-type {\n",
       "        vertical-align: middle;\n",
       "    }\n",
       "\n",
       "    .dataframe tbody tr th {\n",
       "        vertical-align: top;\n",
       "    }\n",
       "\n",
       "    .dataframe thead th {\n",
       "        text-align: right;\n",
       "    }\n",
       "</style>\n",
       "<table border=\"1\" class=\"dataframe\">\n",
       "  <thead>\n",
       "    <tr style=\"text-align: right;\">\n",
       "      <th></th>\n",
       "      <th>subcategory_name</th>\n",
       "      <th>category_name</th>\n",
       "      <th>category_id</th>\n",
       "      <th>subcategory_id</th>\n",
       "    </tr>\n",
       "  </thead>\n",
       "  <tbody>\n",
       "    <tr>\n",
       "      <th>0</th>\n",
       "      <td>Mexican restaurant</td>\n",
       "      <td>Norte America</td>\n",
       "      <td>1</td>\n",
       "      <td>12</td>\n",
       "    </tr>\n",
       "    <tr>\n",
       "      <th>1</th>\n",
       "      <td>Ecuadorian restaurant</td>\n",
       "      <td>Latino America</td>\n",
       "      <td>3</td>\n",
       "      <td>8</td>\n",
       "    </tr>\n",
       "    <tr>\n",
       "      <th>2</th>\n",
       "      <td>Caribbean restaurant</td>\n",
       "      <td>Caribe</td>\n",
       "      <td>2</td>\n",
       "      <td>3</td>\n",
       "    </tr>\n",
       "    <tr>\n",
       "      <th>3</th>\n",
       "      <td>Salvadoran restaurant</td>\n",
       "      <td>Latino America</td>\n",
       "      <td>3</td>\n",
       "      <td>17</td>\n",
       "    </tr>\n",
       "    <tr>\n",
       "      <th>4</th>\n",
       "      <td>Latin American restaurant</td>\n",
       "      <td>Latino America</td>\n",
       "      <td>3</td>\n",
       "      <td>11</td>\n",
       "    </tr>\n",
       "    <tr>\n",
       "      <th>5</th>\n",
       "      <td>Colombian restaurant</td>\n",
       "      <td>Latino America</td>\n",
       "      <td>3</td>\n",
       "      <td>5</td>\n",
       "    </tr>\n",
       "    <tr>\n",
       "      <th>6</th>\n",
       "      <td>Dominican restaurant</td>\n",
       "      <td>Caribe</td>\n",
       "      <td>2</td>\n",
       "      <td>7</td>\n",
       "    </tr>\n",
       "    <tr>\n",
       "      <th>7</th>\n",
       "      <td>Peruvian restaurant</td>\n",
       "      <td>Latino America</td>\n",
       "      <td>3</td>\n",
       "      <td>15</td>\n",
       "    </tr>\n",
       "    <tr>\n",
       "      <th>8</th>\n",
       "      <td>Brazilian restaurant</td>\n",
       "      <td>Latino America</td>\n",
       "      <td>3</td>\n",
       "      <td>2</td>\n",
       "    </tr>\n",
       "    <tr>\n",
       "      <th>9</th>\n",
       "      <td>Cuban restaurant</td>\n",
       "      <td>Caribe</td>\n",
       "      <td>2</td>\n",
       "      <td>6</td>\n",
       "    </tr>\n",
       "    <tr>\n",
       "      <th>10</th>\n",
       "      <td>Guatemalan restaurant</td>\n",
       "      <td>Latino America</td>\n",
       "      <td>3</td>\n",
       "      <td>9</td>\n",
       "    </tr>\n",
       "    <tr>\n",
       "      <th>11</th>\n",
       "      <td>Puerto Rican restaurant</td>\n",
       "      <td>Norte America</td>\n",
       "      <td>1</td>\n",
       "      <td>16</td>\n",
       "    </tr>\n",
       "    <tr>\n",
       "      <th>12</th>\n",
       "      <td>Venezuelan restaurant</td>\n",
       "      <td>Latino America</td>\n",
       "      <td>3</td>\n",
       "      <td>19</td>\n",
       "    </tr>\n",
       "    <tr>\n",
       "      <th>13</th>\n",
       "      <td>Argentinian restaurant</td>\n",
       "      <td>Latino America</td>\n",
       "      <td>3</td>\n",
       "      <td>1</td>\n",
       "    </tr>\n",
       "    <tr>\n",
       "      <th>14</th>\n",
       "      <td>Honduran restaurant</td>\n",
       "      <td>Latino America</td>\n",
       "      <td>3</td>\n",
       "      <td>10</td>\n",
       "    </tr>\n",
       "    <tr>\n",
       "      <th>15</th>\n",
       "      <td>Chilean restaurant</td>\n",
       "      <td>Latino America</td>\n",
       "      <td>3</td>\n",
       "      <td>4</td>\n",
       "    </tr>\n",
       "    <tr>\n",
       "      <th>16</th>\n",
       "      <td>Paraguayan restaurant</td>\n",
       "      <td>Latino America</td>\n",
       "      <td>3</td>\n",
       "      <td>14</td>\n",
       "    </tr>\n",
       "    <tr>\n",
       "      <th>17</th>\n",
       "      <td>South American restaurant</td>\n",
       "      <td>Latino America</td>\n",
       "      <td>3</td>\n",
       "      <td>18</td>\n",
       "    </tr>\n",
       "    <tr>\n",
       "      <th>18</th>\n",
       "      <td>Nicaraguan restaurant</td>\n",
       "      <td>Latino America</td>\n",
       "      <td>3</td>\n",
       "      <td>13</td>\n",
       "    </tr>\n",
       "  </tbody>\n",
       "</table>\n",
       "</div>"
      ],
      "text/plain": [
       "             subcategory_name   category_name  category_id  subcategory_id\n",
       "0          Mexican restaurant   Norte America            1              12\n",
       "1       Ecuadorian restaurant  Latino America            3               8\n",
       "2        Caribbean restaurant          Caribe            2               3\n",
       "3       Salvadoran restaurant  Latino America            3              17\n",
       "4   Latin American restaurant  Latino America            3              11\n",
       "5        Colombian restaurant  Latino America            3               5\n",
       "6        Dominican restaurant          Caribe            2               7\n",
       "7         Peruvian restaurant  Latino America            3              15\n",
       "8        Brazilian restaurant  Latino America            3               2\n",
       "9            Cuban restaurant          Caribe            2               6\n",
       "10      Guatemalan restaurant  Latino America            3               9\n",
       "11    Puerto Rican restaurant   Norte America            1              16\n",
       "12      Venezuelan restaurant  Latino America            3              19\n",
       "13     Argentinian restaurant  Latino America            3               1\n",
       "14        Honduran restaurant  Latino America            3              10\n",
       "15         Chilean restaurant  Latino America            3               4\n",
       "16      Paraguayan restaurant  Latino America            3              14\n",
       "17  South American restaurant  Latino America            3              18\n",
       "18      Nicaraguan restaurant  Latino America            3              13"
      ]
     },
     "execution_count": 180,
     "metadata": {},
     "output_type": "execute_result"
    }
   ],
   "source": [
    "# Dataframe de categorias\n",
    "categories"
   ]
  },
  {
   "cell_type": "code",
   "execution_count": null,
   "metadata": {},
   "outputs": [],
   "source": [
    "# Reordenacion de las columnas\n",
    "nuevo_orden = [ 'category_id', 'category_name', 'subcategory_id', 'subcategory_name']\n",
    "categories = categories.reindex(columns=nuevo_orden)"
   ]
  },
  {
   "cell_type": "code",
   "execution_count": null,
   "metadata": {},
   "outputs": [
    {
     "data": {
      "text/html": [
       "<div>\n",
       "<style scoped>\n",
       "    .dataframe tbody tr th:only-of-type {\n",
       "        vertical-align: middle;\n",
       "    }\n",
       "\n",
       "    .dataframe tbody tr th {\n",
       "        vertical-align: top;\n",
       "    }\n",
       "\n",
       "    .dataframe thead th {\n",
       "        text-align: right;\n",
       "    }\n",
       "</style>\n",
       "<table border=\"1\" class=\"dataframe\">\n",
       "  <thead>\n",
       "    <tr style=\"text-align: right;\">\n",
       "      <th></th>\n",
       "      <th>category_id</th>\n",
       "      <th>category_name</th>\n",
       "      <th>subcategory_id</th>\n",
       "      <th>subcategory_name</th>\n",
       "    </tr>\n",
       "  </thead>\n",
       "  <tbody>\n",
       "    <tr>\n",
       "      <th>0</th>\n",
       "      <td>1</td>\n",
       "      <td>Norte America</td>\n",
       "      <td>12</td>\n",
       "      <td>Mexican restaurant</td>\n",
       "    </tr>\n",
       "    <tr>\n",
       "      <th>1</th>\n",
       "      <td>3</td>\n",
       "      <td>Latino America</td>\n",
       "      <td>8</td>\n",
       "      <td>Ecuadorian restaurant</td>\n",
       "    </tr>\n",
       "    <tr>\n",
       "      <th>2</th>\n",
       "      <td>2</td>\n",
       "      <td>Caribe</td>\n",
       "      <td>3</td>\n",
       "      <td>Caribbean restaurant</td>\n",
       "    </tr>\n",
       "    <tr>\n",
       "      <th>3</th>\n",
       "      <td>3</td>\n",
       "      <td>Latino America</td>\n",
       "      <td>17</td>\n",
       "      <td>Salvadoran restaurant</td>\n",
       "    </tr>\n",
       "    <tr>\n",
       "      <th>4</th>\n",
       "      <td>3</td>\n",
       "      <td>Latino America</td>\n",
       "      <td>11</td>\n",
       "      <td>Latin American restaurant</td>\n",
       "    </tr>\n",
       "  </tbody>\n",
       "</table>\n",
       "</div>"
      ],
      "text/plain": [
       "   category_id   category_name  subcategory_id           subcategory_name\n",
       "0            1   Norte America              12         Mexican restaurant\n",
       "1            3  Latino America               8      Ecuadorian restaurant\n",
       "2            2          Caribe               3       Caribbean restaurant\n",
       "3            3  Latino America              17      Salvadoran restaurant\n",
       "4            3  Latino America              11  Latin American restaurant"
      ]
     },
     "execution_count": 182,
     "metadata": {},
     "output_type": "execute_result"
    }
   ],
   "source": [
    "# Previzualizacion del nuevo orden del dataframe\n",
    "categories.head()"
   ]
  },
  {
   "cell_type": "code",
   "execution_count": null,
   "metadata": {},
   "outputs": [],
   "source": [
    "# Exportacion del dataframe\n",
    "categories.to_csv('./Datasets_limpios/categories.csv', index=False)"
   ]
  },
  {
   "cell_type": "markdown",
   "metadata": {},
   "source": [
    "### Creando relaciones entre Categorias y Restaurantes"
   ]
  },
  {
   "cell_type": "code",
   "execution_count": 184,
   "metadata": {},
   "outputs": [
    {
     "name": "stdout",
     "output_type": "stream",
     "text": [
      "<class 'pandas.core.frame.DataFrame'>\n",
      "RangeIndex: 5934 entries, 0 to 5933\n",
      "Data columns (total 10 columns):\n",
      " #   Column           Non-Null Count  Dtype  \n",
      "---  ------           --------------  -----  \n",
      " 0   restaurant_id    5934 non-null   object \n",
      " 1   category_name    5934 non-null   object \n",
      " 2   restaurant_name  5934 non-null   object \n",
      " 3   address          5929 non-null   object \n",
      " 4   description      1271 non-null   object \n",
      " 5   latitude         5934 non-null   float64\n",
      " 6   longitude        5934 non-null   float64\n",
      " 7   price            2506 non-null   object \n",
      " 8   misc             5922 non-null   object \n",
      " 9   state            5934 non-null   object \n",
      "dtypes: float64(2), object(8)\n",
      "memory usage: 463.7+ KB\n"
     ]
    }
   ],
   "source": [
    "latin_restaurants.info()"
   ]
  },
  {
   "cell_type": "code",
   "execution_count": null,
   "metadata": {},
   "outputs": [],
   "source": [
    "# Carga del dataset de categorias\n",
    "categories = pd.read_csv('./Datasets_limpios/categories.csv')"
   ]
  },
  {
   "cell_type": "code",
   "execution_count": 186,
   "metadata": {},
   "outputs": [
    {
     "name": "stdout",
     "output_type": "stream",
     "text": [
      "<class 'pandas.core.frame.DataFrame'>\n",
      "RangeIndex: 19 entries, 0 to 18\n",
      "Data columns (total 4 columns):\n",
      " #   Column            Non-Null Count  Dtype \n",
      "---  ------            --------------  ----- \n",
      " 0   category_id       19 non-null     int64 \n",
      " 1   category_name     19 non-null     object\n",
      " 2   subcategory_id    19 non-null     int64 \n",
      " 3   subcategory_name  19 non-null     object\n",
      "dtypes: int64(2), object(2)\n",
      "memory usage: 736.0+ bytes\n"
     ]
    }
   ],
   "source": [
    "categories.info()"
   ]
  },
  {
   "cell_type": "code",
   "execution_count": null,
   "metadata": {},
   "outputs": [],
   "source": [
    "# Renombre de la columna para poder unirlas\n",
    "latin_restaurants = latin_restaurants.rename(columns={'category_name': 'subcategory_name'})"
   ]
  },
  {
   "cell_type": "code",
   "execution_count": 188,
   "metadata": {},
   "outputs": [
    {
     "name": "stdout",
     "output_type": "stream",
     "text": [
      "<class 'pandas.core.frame.DataFrame'>\n",
      "RangeIndex: 5934 entries, 0 to 5933\n",
      "Data columns (total 10 columns):\n",
      " #   Column            Non-Null Count  Dtype  \n",
      "---  ------            --------------  -----  \n",
      " 0   restaurant_id     5934 non-null   object \n",
      " 1   subcategory_name  5934 non-null   object \n",
      " 2   restaurant_name   5934 non-null   object \n",
      " 3   address           5929 non-null   object \n",
      " 4   description       1271 non-null   object \n",
      " 5   latitude          5934 non-null   float64\n",
      " 6   longitude         5934 non-null   float64\n",
      " 7   price             2506 non-null   object \n",
      " 8   misc              5922 non-null   object \n",
      " 9   state             5934 non-null   object \n",
      "dtypes: float64(2), object(8)\n",
      "memory usage: 463.7+ KB\n"
     ]
    }
   ],
   "source": [
    "latin_restaurants.info()"
   ]
  },
  {
   "cell_type": "code",
   "execution_count": null,
   "metadata": {},
   "outputs": [],
   "source": [
    "# Union de ambos dataframes por la columna 'subcategory'\n",
    "latin_restaurants_merged = pd.merge(latin_restaurants, categories, on='subcategory_name', how='inner')"
   ]
  },
  {
   "cell_type": "code",
   "execution_count": 190,
   "metadata": {},
   "outputs": [
    {
     "name": "stdout",
     "output_type": "stream",
     "text": [
      "<class 'pandas.core.frame.DataFrame'>\n",
      "RangeIndex: 5934 entries, 0 to 5933\n",
      "Data columns (total 13 columns):\n",
      " #   Column            Non-Null Count  Dtype  \n",
      "---  ------            --------------  -----  \n",
      " 0   restaurant_id     5934 non-null   object \n",
      " 1   subcategory_name  5934 non-null   object \n",
      " 2   restaurant_name   5934 non-null   object \n",
      " 3   address           5929 non-null   object \n",
      " 4   description       1271 non-null   object \n",
      " 5   latitude          5934 non-null   float64\n",
      " 6   longitude         5934 non-null   float64\n",
      " 7   price             2506 non-null   object \n",
      " 8   misc              5922 non-null   object \n",
      " 9   state             5934 non-null   object \n",
      " 10  category_id       5934 non-null   int64  \n",
      " 11  category_name     5934 non-null   object \n",
      " 12  subcategory_id    5934 non-null   int64  \n",
      "dtypes: float64(2), int64(2), object(9)\n",
      "memory usage: 602.8+ KB\n"
     ]
    }
   ],
   "source": [
    "latin_restaurants_merged.info()"
   ]
  },
  {
   "cell_type": "code",
   "execution_count": null,
   "metadata": {},
   "outputs": [],
   "source": [
    "# Eliminacion de categorias de acuerdo al diagrame de entidad-relacion\n",
    "latin_restaurants_merged.drop(columns=['category_name','subcategory_name'], inplace=True)"
   ]
  },
  {
   "cell_type": "code",
   "execution_count": 192,
   "metadata": {},
   "outputs": [
    {
     "data": {
      "text/html": [
       "<div>\n",
       "<style scoped>\n",
       "    .dataframe tbody tr th:only-of-type {\n",
       "        vertical-align: middle;\n",
       "    }\n",
       "\n",
       "    .dataframe tbody tr th {\n",
       "        vertical-align: top;\n",
       "    }\n",
       "\n",
       "    .dataframe thead th {\n",
       "        text-align: right;\n",
       "    }\n",
       "</style>\n",
       "<table border=\"1\" class=\"dataframe\">\n",
       "  <thead>\n",
       "    <tr style=\"text-align: right;\">\n",
       "      <th></th>\n",
       "      <th>restaurant_id</th>\n",
       "      <th>restaurant_name</th>\n",
       "      <th>address</th>\n",
       "      <th>description</th>\n",
       "      <th>latitude</th>\n",
       "      <th>longitude</th>\n",
       "      <th>price</th>\n",
       "      <th>misc</th>\n",
       "      <th>state</th>\n",
       "      <th>category_id</th>\n",
       "      <th>subcategory_id</th>\n",
       "    </tr>\n",
       "  </thead>\n",
       "  <tbody>\n",
       "    <tr>\n",
       "      <th>0</th>\n",
       "      <td>0x89c244427d3e2c19:0xc1dbf7d8e71d7201</td>\n",
       "      <td>Casa Malinche</td>\n",
       "      <td>Casa Malinche, 3078 Coney Island Ave, Brooklyn...</td>\n",
       "      <td>None</td>\n",
       "      <td>40.581086</td>\n",
       "      <td>-73.960139</td>\n",
       "      <td>None</td>\n",
       "      <td>{'Accessibility': None, 'Activities': None, 'A...</td>\n",
       "      <td>NY</td>\n",
       "      <td>1</td>\n",
       "      <td>12</td>\n",
       "    </tr>\n",
       "    <tr>\n",
       "      <th>1</th>\n",
       "      <td>0x89c259063d62f499:0x5b5cab85882fd605</td>\n",
       "      <td>Caliente Cab Co</td>\n",
       "      <td>Caliente Cab Co, 488 3rd Ave, New York, NY 10016</td>\n",
       "      <td>Potent drinks &amp; a spacious patio are the main ...</td>\n",
       "      <td>40.745304</td>\n",
       "      <td>-73.978768</td>\n",
       "      <td>$$</td>\n",
       "      <td>{'Accessibility': None, 'Activities': None, 'A...</td>\n",
       "      <td>NY</td>\n",
       "      <td>1</td>\n",
       "      <td>12</td>\n",
       "    </tr>\n",
       "  </tbody>\n",
       "</table>\n",
       "</div>"
      ],
      "text/plain": [
       "                           restaurant_id  restaurant_name  \\\n",
       "0  0x89c244427d3e2c19:0xc1dbf7d8e71d7201    Casa Malinche   \n",
       "1  0x89c259063d62f499:0x5b5cab85882fd605  Caliente Cab Co   \n",
       "\n",
       "                                             address  \\\n",
       "0  Casa Malinche, 3078 Coney Island Ave, Brooklyn...   \n",
       "1   Caliente Cab Co, 488 3rd Ave, New York, NY 10016   \n",
       "\n",
       "                                         description   latitude  longitude  \\\n",
       "0                                               None  40.581086 -73.960139   \n",
       "1  Potent drinks & a spacious patio are the main ...  40.745304 -73.978768   \n",
       "\n",
       "  price                                               misc state  category_id  \\\n",
       "0  None  {'Accessibility': None, 'Activities': None, 'A...    NY            1   \n",
       "1    $$  {'Accessibility': None, 'Activities': None, 'A...    NY            1   \n",
       "\n",
       "   subcategory_id  \n",
       "0              12  \n",
       "1              12  "
      ]
     },
     "execution_count": 192,
     "metadata": {},
     "output_type": "execute_result"
    }
   ],
   "source": [
    "latin_restaurants_merged.head(2)"
   ]
  },
  {
   "cell_type": "code",
   "execution_count": null,
   "metadata": {},
   "outputs": [],
   "source": [
    "# Renombre de la columna\n",
    "latin_restaurants_merged = latin_restaurants_merged.rename(columns={'state_name':'abbreviation'})"
   ]
  },
  {
   "cell_type": "markdown",
   "metadata": {},
   "source": [
    "### Creando relaciones entre Estados y Restaurantes"
   ]
  },
  {
   "cell_type": "code",
   "execution_count": null,
   "metadata": {},
   "outputs": [],
   "source": [
    "# Carga del dataset de states\n",
    "states = pd.read_csv('./Datasets_limpios/states.csv')"
   ]
  },
  {
   "cell_type": "code",
   "execution_count": 197,
   "metadata": {},
   "outputs": [
    {
     "name": "stdout",
     "output_type": "stream",
     "text": [
      "<class 'pandas.core.frame.DataFrame'>\n",
      "RangeIndex: 558 entries, 0 to 557\n",
      "Data columns (total 6 columns):\n",
      " #   Column            Non-Null Count  Dtype  \n",
      "---  ------            --------------  -----  \n",
      " 0   state_id          558 non-null    int64  \n",
      " 1   state_name        558 non-null    object \n",
      " 2   abbreviation      558 non-null    object \n",
      " 3   county_name       558 non-null    object \n",
      " 4   total_population  558 non-null    int64  \n",
      " 5   avg_income        558 non-null    float64\n",
      "dtypes: float64(1), int64(2), object(3)\n",
      "memory usage: 26.3+ KB\n"
     ]
    }
   ],
   "source": [
    "states.info()"
   ]
  },
  {
   "cell_type": "code",
   "execution_count": null,
   "metadata": {},
   "outputs": [],
   "source": [
    "# Union entre ambos dataframes\n",
    "latin_restaurants = pd.merge(latin_restaurants_merged, states, on='abbreviation', how='inner')"
   ]
  },
  {
   "cell_type": "code",
   "execution_count": 201,
   "metadata": {},
   "outputs": [
    {
     "name": "stdout",
     "output_type": "stream",
     "text": [
      "<class 'pandas.core.frame.DataFrame'>\n",
      "RangeIndex: 615295 entries, 0 to 615294\n",
      "Data columns (total 16 columns):\n",
      " #   Column            Non-Null Count   Dtype  \n",
      "---  ------            --------------   -----  \n",
      " 0   restaurant_id     615295 non-null  object \n",
      " 1   restaurant_name   615295 non-null  object \n",
      " 2   address           614364 non-null  object \n",
      " 3   description       116998 non-null  object \n",
      " 4   latitude          615295 non-null  float64\n",
      " 5   longitude         615295 non-null  float64\n",
      " 6   price             233516 non-null  object \n",
      " 7   misc              613842 non-null  object \n",
      " 8   abbreviation      615295 non-null  object \n",
      " 9   category_id       615295 non-null  int64  \n",
      " 10  subcategory_id    615295 non-null  int64  \n",
      " 11  state_id          615295 non-null  int64  \n",
      " 12  state_name        615295 non-null  object \n",
      " 13  county_name       615295 non-null  object \n",
      " 14  total_population  615295 non-null  int64  \n",
      " 15  avg_income        615295 non-null  float64\n",
      "dtypes: float64(3), int64(4), object(9)\n",
      "memory usage: 75.1+ MB\n"
     ]
    }
   ],
   "source": [
    "latin_restaurants.info()"
   ]
  },
  {
   "cell_type": "code",
   "execution_count": null,
   "metadata": {},
   "outputs": [],
   "source": [
    "# Eliminacion de columnas de acuerdo al diagrama de entidad-relacion\n",
    "latin_restaurants.drop(columns=['abbreviation', 'state_name','county_name', 'total_population', 'avg_income'], inplace= True)"
   ]
  },
  {
   "cell_type": "code",
   "execution_count": null,
   "metadata": {},
   "outputs": [],
   "source": [
    "# Eliminacion de duplicados por el id del restaurant\n",
    "latin_restaurants = latin_restaurants.drop_duplicates(subset='restaurant_id')"
   ]
  },
  {
   "cell_type": "code",
   "execution_count": 206,
   "metadata": {},
   "outputs": [
    {
     "name": "stdout",
     "output_type": "stream",
     "text": [
      "<class 'pandas.core.frame.DataFrame'>\n",
      "Index: 5934 entries, 0 to 615193\n",
      "Data columns (total 11 columns):\n",
      " #   Column           Non-Null Count  Dtype  \n",
      "---  ------           --------------  -----  \n",
      " 0   restaurant_id    5934 non-null   object \n",
      " 1   restaurant_name  5934 non-null   object \n",
      " 2   address          5929 non-null   object \n",
      " 3   description      1271 non-null   object \n",
      " 4   latitude         5934 non-null   float64\n",
      " 5   longitude        5934 non-null   float64\n",
      " 6   price            2506 non-null   object \n",
      " 7   misc             5922 non-null   object \n",
      " 8   category_id      5934 non-null   int64  \n",
      " 9   subcategory_id   5934 non-null   int64  \n",
      " 10  state_id         5934 non-null   int64  \n",
      "dtypes: float64(2), int64(3), object(6)\n",
      "memory usage: 556.3+ KB\n"
     ]
    }
   ],
   "source": [
    "latin_restaurants.info()"
   ]
  },
  {
   "cell_type": "code",
   "execution_count": null,
   "metadata": {},
   "outputs": [],
   "source": [
    "# Exportacion del archivo\n",
    "latin_restaurants.to_csv('./Datasets_limpios/latin_restaurants.csv', index=False)"
   ]
  }
 ],
 "metadata": {
  "kernelspec": {
   "display_name": "proyecto_final",
   "language": "python",
   "name": "python3"
  },
  "language_info": {
   "codemirror_mode": {
    "name": "ipython",
    "version": 3
   },
   "file_extension": ".py",
   "mimetype": "text/x-python",
   "name": "python",
   "nbconvert_exporter": "python",
   "pygments_lexer": "ipython3",
   "version": "3.9.0"
  }
 },
 "nbformat": 4,
 "nbformat_minor": 2
}
