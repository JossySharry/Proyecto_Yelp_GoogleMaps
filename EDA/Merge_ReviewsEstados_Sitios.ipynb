{
 "cells": [
  {
   "cell_type": "code",
   "execution_count": 1,
   "metadata": {},
   "outputs": [],
   "source": [
    "import pandas as pd\n",
    "import os \n",
    "\n",
    "import warnings\n",
    "warnings.filterwarnings(\"ignore\")"
   ]
  },
  {
   "cell_type": "markdown",
   "metadata": {},
   "source": [
    "Importamos los 6 archivos parket resultantes del 'ETL_Reviews_Estados_Seleccionados' y concatenamos los df "
   ]
  },
  {
   "cell_type": "code",
   "execution_count": 2,
   "metadata": {},
   "outputs": [
    {
     "name": "stdout",
     "output_type": "stream",
     "text": [
      "        user_id          name  rating  \\\n",
      "0  1.183560e+20  Vicki Ullery       5   \n",
      "1  1.126523e+20    Doc Kovacs       5   \n",
      "2  1.089879e+20    Pedro Diaz       1   \n",
      "3  1.069277e+20   Brandon Ray       5   \n",
      "4  1.090535e+20    T. Bennett       5   \n",
      "\n",
      "                                                text  \\\n",
      "0  Gwen was so informative and made me feel comfo...   \n",
      "1  Dr. Huyhn is an ethical skilled dentist. Her s...   \n",
      "2  Not sure if one star is fair but my situation ...   \n",
      "3  Best dentist office I've ever had. Love everyt...   \n",
      "4  I've been coming to Oasis dentistry for a whil...   \n",
      "\n",
      "                                 gmap_id  \n",
      "0  0x872b5dae3c5fcfa7:0xf0f8b286a2537821  \n",
      "1  0x872b5dae3c5fcfa7:0xf0f8b286a2537821  \n",
      "2  0x872b5dae3c5fcfa7:0xf0f8b286a2537821  \n",
      "3  0x872b5dae3c5fcfa7:0xf0f8b286a2537821  \n",
      "4  0x872b5dae3c5fcfa7:0xf0f8b286a2537821  \n"
     ]
    }
   ],
   "source": [
    "# Ruta de los archivos parquet\n",
    "ruta_carpeta = \"C:/Users/juanv/Downloads/proyecto final/google/reviews-estados/Seleccionados/\"  \n",
    "\n",
    "# Crea una lista para almacenar los DataFrames  \n",
    "lista_dfs = []  \n",
    "\n",
    "# Iterar sobre los archivos en la carpeta\n",
    "for archivo in os.listdir(ruta_carpeta):\n",
    "    if archivo.endswith('.parquet'):\n",
    "        ruta_archivo = os.path.join(ruta_carpeta, archivo)\n",
    "        # Leer el archivo parquet y añadirlo a la lista\n",
    "        df = pd.read_parquet(ruta_archivo)\n",
    "        lista_dfs.append(df)\n",
    "\n",
    "# Concatenar todos los DataFrames en uno solo\n",
    "df_Reviews_totales = pd.concat(lista_dfs, ignore_index=True)\n",
    "\n",
    "# Mostrar el DataFrame final\n",
    "print(df_Reviews_totales.head())"
   ]
  },
  {
   "cell_type": "code",
   "execution_count": 3,
   "metadata": {},
   "outputs": [],
   "source": [
    "# guardamos el DF en un archivo parquet\n",
    "df_Reviews_totales.to_parquet('C:/Users/juanv/Downloads/proyecto final/google/reviews-estados/Seleccionados/df_Reviews_totales.parquet')"
   ]
  },
  {
   "cell_type": "markdown",
   "metadata": {},
   "source": [
    "Importamos el df de sitios procesado"
   ]
  },
  {
   "cell_type": "code",
   "execution_count": 4,
   "metadata": {},
   "outputs": [],
   "source": [
    "df_latino = pd.read_parquet('C:/Users/juanv/Downloads/df_latino.parquet')"
   ]
  },
  {
   "cell_type": "markdown",
   "metadata": {},
   "source": [
    "importamos los df independientes de cada estado"
   ]
  },
  {
   "cell_type": "code",
   "execution_count": 5,
   "metadata": {},
   "outputs": [],
   "source": [
    "df_California = pd.read_parquet('C:/Users/juanv/Downloads/proyecto final/google/reviews-estados/Seleccionados/df_California.parquet')\n",
    "df_Florida = pd.read_parquet('C:/Users/juanv/Downloads/proyecto final/google/reviews-estados/Seleccionados/df_Florida.parquet')\n",
    "df_New_York = pd.read_parquet('C:/Users/juanv/Downloads/proyecto final/google/reviews-estados/Seleccionados/df_New_York.parquet')\n",
    "df_Texas = pd.read_parquet('C:/Users/juanv/Downloads/proyecto final/google/reviews-estados/Seleccionados/df_Texas.parquet')\n",
    "df_Illinois = pd.read_parquet('C:/Users/juanv/Downloads/proyecto final/google/reviews-estados/Seleccionados/df_Illinois.parquet')\n",
    "df_Arizona = pd.read_parquet('C:/Users/juanv/Downloads/proyecto final/google/reviews-estados/Seleccionados/df_Arizona.parquet')"
   ]
  },
  {
   "cell_type": "markdown",
   "metadata": {},
   "source": [
    "Realizamos un inner join utilizando la columna 'gmap_id' entre cada df de estado y el df de sitios latinos. quedando como resultado 6 df de negocios latinos con sus reviews organizados por estado"
   ]
  },
  {
   "cell_type": "code",
   "execution_count": 18,
   "metadata": {},
   "outputs": [],
   "source": [
    "df_reviews_latinos_California = pd.merge(df_latino, df_California, on='gmap_id', how='inner')"
   ]
  },
  {
   "cell_type": "code",
   "execution_count": 19,
   "metadata": {},
   "outputs": [],
   "source": [
    "df_reviews_latinos_Florida = pd.merge(df_latino, df_Florida, on='gmap_id', how='inner')"
   ]
  },
  {
   "cell_type": "code",
   "execution_count": 20,
   "metadata": {},
   "outputs": [],
   "source": [
    "df_reviews_latinos_New_York = pd.merge(df_latino, df_New_York, on='gmap_id', how='inner')"
   ]
  },
  {
   "cell_type": "code",
   "execution_count": 21,
   "metadata": {},
   "outputs": [],
   "source": [
    "df_reviews_latinos_Texas = pd.merge(df_latino, df_Texas, on='gmap_id', how='inner')"
   ]
  },
  {
   "cell_type": "code",
   "execution_count": 22,
   "metadata": {},
   "outputs": [],
   "source": [
    "df_reviews_latinos_Illinois = pd.merge(df_latino, df_Illinois, on='gmap_id', how='inner')"
   ]
  },
  {
   "cell_type": "code",
   "execution_count": 23,
   "metadata": {},
   "outputs": [],
   "source": [
    "df_reviews_latinos_Arizona = pd.merge(df_latino, df_Arizona, on='gmap_id', how='inner')"
   ]
  },
  {
   "cell_type": "markdown",
   "metadata": {},
   "source": [
    "Realizamos un inner join con el df_Reviews_totales "
   ]
  },
  {
   "cell_type": "code",
   "execution_count": 5,
   "metadata": {},
   "outputs": [],
   "source": [
    "df_Reviews_Latinos_Totales = pd.merge(df_latino, df_Reviews_totales, on='gmap_id', how='inner')"
   ]
  },
  {
   "cell_type": "markdown",
   "metadata": {},
   "source": [
    "Guardamos los df independientes en una carpeta para ser analizados posteriormente"
   ]
  },
  {
   "cell_type": "code",
   "execution_count": 24,
   "metadata": {},
   "outputs": [],
   "source": [
    "df_reviews_latinos_California.to_parquet('C:/Users/juanv/Downloads/proyecto final/google/reviews-estados/Seleccionados/df_reviews_latinos_California.parquet')"
   ]
  },
  {
   "cell_type": "code",
   "execution_count": 25,
   "metadata": {},
   "outputs": [],
   "source": [
    "df_reviews_latinos_Florida.to_parquet('C:/Users/juanv/Downloads/proyecto final/google/reviews-estados/Seleccionados/df_reviews_latinos_Florida.parquet')"
   ]
  },
  {
   "cell_type": "code",
   "execution_count": 26,
   "metadata": {},
   "outputs": [],
   "source": [
    "df_reviews_latinos_New_York.to_parquet('C:/Users/juanv/Downloads/proyecto final/google/reviews-estados/Seleccionados/df_reviews_latinos_New_York.parquet')"
   ]
  },
  {
   "cell_type": "code",
   "execution_count": 27,
   "metadata": {},
   "outputs": [],
   "source": [
    "df_reviews_latinos_Texas.to_parquet('C:/Users/juanv/Downloads/proyecto final/google/reviews-estados/Seleccionados/df_reviews_latinos_Texas.parquet')"
   ]
  },
  {
   "cell_type": "code",
   "execution_count": 28,
   "metadata": {},
   "outputs": [],
   "source": [
    "df_reviews_latinos_Illinois.to_parquet('C:/Users/juanv/Downloads/proyecto final/google/reviews-estados/Seleccionados/df_reviews_latinos_Illinois.parquet')"
   ]
  },
  {
   "cell_type": "code",
   "execution_count": 29,
   "metadata": {},
   "outputs": [],
   "source": [
    "df_reviews_latinos_Arizona.to_parquet('C:/Users/juanv/Downloads/proyecto final/google/reviews-estados/Seleccionados/df_reviews_latinos_Arizona.parquet')"
   ]
  },
  {
   "cell_type": "code",
   "execution_count": 6,
   "metadata": {},
   "outputs": [],
   "source": [
    "df_Reviews_Latinos_Totales.to_parquet('C:/Users/juanv/Downloads/proyecto final/google/reviews-estados/Seleccionados/df_Reviews_Latinos_Totales.parquet')"
   ]
  }
 ],
 "metadata": {
  "kernelspec": {
   "display_name": "Python 3",
   "language": "python",
   "name": "python3"
  },
  "language_info": {
   "codemirror_mode": {
    "name": "ipython",
    "version": 3
   },
   "file_extension": ".py",
   "mimetype": "text/x-python",
   "name": "python",
   "nbconvert_exporter": "python",
   "pygments_lexer": "ipython3",
   "version": "3.12.4"
  }
 },
 "nbformat": 4,
 "nbformat_minor": 2
}
