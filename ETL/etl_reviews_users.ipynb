{
 "cells": [
  {
   "cell_type": "code",
   "execution_count": 1,
   "metadata": {},
   "outputs": [],
   "source": [
    "import pandas as pd\n",
    "import numpy as np\n",
    "import matplotlib.pyplot as plt\n",
    "import seaborn as sns\n",
    "\n",
    "import warnings\n",
    "warnings.filterwarnings(\"ignore\")"
   ]
  },
  {
   "cell_type": "code",
   "execution_count": 2,
   "metadata": {},
   "outputs": [],
   "source": [
    "texas = pd.read_csv('./Datasets_limpios/Google/reviews_tx.csv')\n",
    "new_york = pd.read_csv('./Datasets_limpios/Google/reviews_ny.csv')\n",
    "illinois = pd.read_csv('./Datasets_limpios/Google/reviews_il.csv')\n",
    "florida = pd.read_csv('./Datasets_limpios/Google/reviews_fl.csv')\n",
    "california = pd.read_csv('./Datasets_limpios/Google/reviews_ca.csv')\n",
    "arizona = pd.read_csv('./Datasets_limpios/Google/reviews_az.csv')"
   ]
  },
  {
   "cell_type": "code",
   "execution_count": 3,
   "metadata": {},
   "outputs": [],
   "source": [
    "reviews = pd.concat([texas, new_york, illinois, florida, california, arizona], ignore_index=True)"
   ]
  },
  {
   "cell_type": "code",
   "execution_count": 4,
   "metadata": {},
   "outputs": [
    {
     "data": {
      "text/html": [
       "<div>\n",
       "<style scoped>\n",
       "    .dataframe tbody tr th:only-of-type {\n",
       "        vertical-align: middle;\n",
       "    }\n",
       "\n",
       "    .dataframe tbody tr th {\n",
       "        vertical-align: top;\n",
       "    }\n",
       "\n",
       "    .dataframe thead th {\n",
       "        text-align: right;\n",
       "    }\n",
       "</style>\n",
       "<table border=\"1\" class=\"dataframe\">\n",
       "  <thead>\n",
       "    <tr style=\"text-align: right;\">\n",
       "      <th></th>\n",
       "      <th>gmap_id</th>\n",
       "      <th>user_id</th>\n",
       "      <th>name</th>\n",
       "      <th>rating</th>\n",
       "      <th>text</th>\n",
       "      <th>state_usa</th>\n",
       "    </tr>\n",
       "  </thead>\n",
       "  <tbody>\n",
       "    <tr>\n",
       "      <th>0</th>\n",
       "      <td>0x864c264d6967b3dd:0xe0d905846ed5958d</td>\n",
       "      <td>1.030556e+20</td>\n",
       "      <td>Cure F. Reaky</td>\n",
       "      <td>5</td>\n",
       "      <td>It's not called Michael's Grill anymore. Now i...</td>\n",
       "      <td>TX</td>\n",
       "    </tr>\n",
       "    <tr>\n",
       "      <th>1</th>\n",
       "      <td>0x864c264d6967b3dd:0xe0d905846ed5958d</td>\n",
       "      <td>1.009433e+20</td>\n",
       "      <td>Nancy Logan</td>\n",
       "      <td>4</td>\n",
       "      <td>This is a Great Spot for Happy Hour and Dinner...</td>\n",
       "      <td>TX</td>\n",
       "    </tr>\n",
       "    <tr>\n",
       "      <th>2</th>\n",
       "      <td>0x864c264d6967b3dd:0xe0d905846ed5958d</td>\n",
       "      <td>1.001020e+20</td>\n",
       "      <td>David “Waynemay” Seitz</td>\n",
       "      <td>5</td>\n",
       "      <td>Today I ordered the T-bone and shrimp with Pec...</td>\n",
       "      <td>TX</td>\n",
       "    </tr>\n",
       "    <tr>\n",
       "      <th>3</th>\n",
       "      <td>0x864c264d6967b3dd:0xe0d905846ed5958d</td>\n",
       "      <td>1.048123e+20</td>\n",
       "      <td>Adam Dickerson</td>\n",
       "      <td>5</td>\n",
       "      <td>FULL BAR!! Great staff and good food. Did I me...</td>\n",
       "      <td>TX</td>\n",
       "    </tr>\n",
       "    <tr>\n",
       "      <th>4</th>\n",
       "      <td>0x864c264d6967b3dd:0xe0d905846ed5958d</td>\n",
       "      <td>1.132876e+20</td>\n",
       "      <td>Joshua 1:9</td>\n",
       "      <td>2</td>\n",
       "      <td>Not happy I could have got a full tank of gas ...</td>\n",
       "      <td>TX</td>\n",
       "    </tr>\n",
       "  </tbody>\n",
       "</table>\n",
       "</div>"
      ],
      "text/plain": [
       "                                 gmap_id       user_id  \\\n",
       "0  0x864c264d6967b3dd:0xe0d905846ed5958d  1.030556e+20   \n",
       "1  0x864c264d6967b3dd:0xe0d905846ed5958d  1.009433e+20   \n",
       "2  0x864c264d6967b3dd:0xe0d905846ed5958d  1.001020e+20   \n",
       "3  0x864c264d6967b3dd:0xe0d905846ed5958d  1.048123e+20   \n",
       "4  0x864c264d6967b3dd:0xe0d905846ed5958d  1.132876e+20   \n",
       "\n",
       "                     name  rating  \\\n",
       "0           Cure F. Reaky       5   \n",
       "1             Nancy Logan       4   \n",
       "2  David “Waynemay” Seitz       5   \n",
       "3          Adam Dickerson       5   \n",
       "4              Joshua 1:9       2   \n",
       "\n",
       "                                                text state_usa  \n",
       "0  It's not called Michael's Grill anymore. Now i...        TX  \n",
       "1  This is a Great Spot for Happy Hour and Dinner...        TX  \n",
       "2  Today I ordered the T-bone and shrimp with Pec...        TX  \n",
       "3  FULL BAR!! Great staff and good food. Did I me...        TX  \n",
       "4  Not happy I could have got a full tank of gas ...        TX  "
      ]
     },
     "execution_count": 4,
     "metadata": {},
     "output_type": "execute_result"
    }
   ],
   "source": [
    "reviews.head()"
   ]
  },
  {
   "cell_type": "code",
   "execution_count": 6,
   "metadata": {},
   "outputs": [],
   "source": [
    "users = reviews[['user_id', 'name']]"
   ]
  },
  {
   "cell_type": "code",
   "execution_count": 7,
   "metadata": {},
   "outputs": [
    {
     "name": "stdout",
     "output_type": "stream",
     "text": [
      "<class 'pandas.core.frame.DataFrame'>\n",
      "RangeIndex: 890417 entries, 0 to 890416\n",
      "Data columns (total 2 columns):\n",
      " #   Column   Non-Null Count   Dtype  \n",
      "---  ------   --------------   -----  \n",
      " 0   user_id  890417 non-null  float64\n",
      " 1   name     890414 non-null  object \n",
      "dtypes: float64(1), object(1)\n",
      "memory usage: 13.6+ MB\n"
     ]
    }
   ],
   "source": [
    "users.info()"
   ]
  },
  {
   "cell_type": "code",
   "execution_count": 8,
   "metadata": {},
   "outputs": [
    {
     "data": {
      "text/plain": [
       "np.int64(388017)"
      ]
     },
     "execution_count": 8,
     "metadata": {},
     "output_type": "execute_result"
    }
   ],
   "source": [
    "conteo_duplicados = users['user_id'].duplicated().sum()\n",
    "conteo_duplicados"
   ]
  },
  {
   "cell_type": "code",
   "execution_count": 9,
   "metadata": {},
   "outputs": [],
   "source": [
    "users = users.drop_duplicates(subset='user_id')"
   ]
  },
  {
   "cell_type": "code",
   "execution_count": 10,
   "metadata": {},
   "outputs": [
    {
     "name": "stdout",
     "output_type": "stream",
     "text": [
      "<class 'pandas.core.frame.DataFrame'>\n",
      "Index: 502400 entries, 0 to 890416\n",
      "Data columns (total 2 columns):\n",
      " #   Column   Non-Null Count   Dtype  \n",
      "---  ------   --------------   -----  \n",
      " 0   user_id  502400 non-null  float64\n",
      " 1   name     502398 non-null  object \n",
      "dtypes: float64(1), object(1)\n",
      "memory usage: 11.5+ MB\n"
     ]
    }
   ],
   "source": [
    "users.info()"
   ]
  },
  {
   "cell_type": "code",
   "execution_count": 11,
   "metadata": {},
   "outputs": [],
   "source": [
    "# Renombre de la columna para poder unirlas\n",
    "users = users.rename(columns={'name': 'user_name'})"
   ]
  },
  {
   "cell_type": "code",
   "execution_count": 12,
   "metadata": {},
   "outputs": [],
   "source": [
    "users.to_csv('./Datasets_limpios/users.csv', index=False)"
   ]
  },
  {
   "cell_type": "code",
   "execution_count": 13,
   "metadata": {},
   "outputs": [
    {
     "data": {
      "text/html": [
       "<div>\n",
       "<style scoped>\n",
       "    .dataframe tbody tr th:only-of-type {\n",
       "        vertical-align: middle;\n",
       "    }\n",
       "\n",
       "    .dataframe tbody tr th {\n",
       "        vertical-align: top;\n",
       "    }\n",
       "\n",
       "    .dataframe thead th {\n",
       "        text-align: right;\n",
       "    }\n",
       "</style>\n",
       "<table border=\"1\" class=\"dataframe\">\n",
       "  <thead>\n",
       "    <tr style=\"text-align: right;\">\n",
       "      <th></th>\n",
       "      <th>gmap_id</th>\n",
       "      <th>user_id</th>\n",
       "      <th>name</th>\n",
       "      <th>rating</th>\n",
       "      <th>text</th>\n",
       "      <th>state_usa</th>\n",
       "    </tr>\n",
       "  </thead>\n",
       "  <tbody>\n",
       "    <tr>\n",
       "      <th>0</th>\n",
       "      <td>0x864c264d6967b3dd:0xe0d905846ed5958d</td>\n",
       "      <td>1.030556e+20</td>\n",
       "      <td>Cure F. Reaky</td>\n",
       "      <td>5</td>\n",
       "      <td>It's not called Michael's Grill anymore. Now i...</td>\n",
       "      <td>TX</td>\n",
       "    </tr>\n",
       "    <tr>\n",
       "      <th>1</th>\n",
       "      <td>0x864c264d6967b3dd:0xe0d905846ed5958d</td>\n",
       "      <td>1.009433e+20</td>\n",
       "      <td>Nancy Logan</td>\n",
       "      <td>4</td>\n",
       "      <td>This is a Great Spot for Happy Hour and Dinner...</td>\n",
       "      <td>TX</td>\n",
       "    </tr>\n",
       "    <tr>\n",
       "      <th>2</th>\n",
       "      <td>0x864c264d6967b3dd:0xe0d905846ed5958d</td>\n",
       "      <td>1.001020e+20</td>\n",
       "      <td>David “Waynemay” Seitz</td>\n",
       "      <td>5</td>\n",
       "      <td>Today I ordered the T-bone and shrimp with Pec...</td>\n",
       "      <td>TX</td>\n",
       "    </tr>\n",
       "    <tr>\n",
       "      <th>3</th>\n",
       "      <td>0x864c264d6967b3dd:0xe0d905846ed5958d</td>\n",
       "      <td>1.048123e+20</td>\n",
       "      <td>Adam Dickerson</td>\n",
       "      <td>5</td>\n",
       "      <td>FULL BAR!! Great staff and good food. Did I me...</td>\n",
       "      <td>TX</td>\n",
       "    </tr>\n",
       "    <tr>\n",
       "      <th>4</th>\n",
       "      <td>0x864c264d6967b3dd:0xe0d905846ed5958d</td>\n",
       "      <td>1.132876e+20</td>\n",
       "      <td>Joshua 1:9</td>\n",
       "      <td>2</td>\n",
       "      <td>Not happy I could have got a full tank of gas ...</td>\n",
       "      <td>TX</td>\n",
       "    </tr>\n",
       "  </tbody>\n",
       "</table>\n",
       "</div>"
      ],
      "text/plain": [
       "                                 gmap_id       user_id  \\\n",
       "0  0x864c264d6967b3dd:0xe0d905846ed5958d  1.030556e+20   \n",
       "1  0x864c264d6967b3dd:0xe0d905846ed5958d  1.009433e+20   \n",
       "2  0x864c264d6967b3dd:0xe0d905846ed5958d  1.001020e+20   \n",
       "3  0x864c264d6967b3dd:0xe0d905846ed5958d  1.048123e+20   \n",
       "4  0x864c264d6967b3dd:0xe0d905846ed5958d  1.132876e+20   \n",
       "\n",
       "                     name  rating  \\\n",
       "0           Cure F. Reaky       5   \n",
       "1             Nancy Logan       4   \n",
       "2  David “Waynemay” Seitz       5   \n",
       "3          Adam Dickerson       5   \n",
       "4              Joshua 1:9       2   \n",
       "\n",
       "                                                text state_usa  \n",
       "0  It's not called Michael's Grill anymore. Now i...        TX  \n",
       "1  This is a Great Spot for Happy Hour and Dinner...        TX  \n",
       "2  Today I ordered the T-bone and shrimp with Pec...        TX  \n",
       "3  FULL BAR!! Great staff and good food. Did I me...        TX  \n",
       "4  Not happy I could have got a full tank of gas ...        TX  "
      ]
     },
     "execution_count": 13,
     "metadata": {},
     "output_type": "execute_result"
    }
   ],
   "source": [
    "reviews.head()"
   ]
  },
  {
   "cell_type": "code",
   "execution_count": 14,
   "metadata": {},
   "outputs": [],
   "source": [
    "reviews.drop(columns=['name'], inplace=True)"
   ]
  },
  {
   "cell_type": "code",
   "execution_count": 15,
   "metadata": {},
   "outputs": [
    {
     "data": {
      "text/plain": [
       "Index(['gmap_id', 'user_id', 'rating', 'text', 'state_usa'], dtype='object')"
      ]
     },
     "execution_count": 15,
     "metadata": {},
     "output_type": "execute_result"
    }
   ],
   "source": [
    "reviews.columns"
   ]
  },
  {
   "cell_type": "code",
   "execution_count": 16,
   "metadata": {},
   "outputs": [],
   "source": [
    "nuevo_orden = ['gmap_id','user_id', 'rating', 'text', 'state_usa']\n",
    "reviews = reviews.reindex(columns=nuevo_orden)"
   ]
  },
  {
   "cell_type": "code",
   "execution_count": 17,
   "metadata": {},
   "outputs": [
    {
     "data": {
      "text/html": [
       "<div>\n",
       "<style scoped>\n",
       "    .dataframe tbody tr th:only-of-type {\n",
       "        vertical-align: middle;\n",
       "    }\n",
       "\n",
       "    .dataframe tbody tr th {\n",
       "        vertical-align: top;\n",
       "    }\n",
       "\n",
       "    .dataframe thead th {\n",
       "        text-align: right;\n",
       "    }\n",
       "</style>\n",
       "<table border=\"1\" class=\"dataframe\">\n",
       "  <thead>\n",
       "    <tr style=\"text-align: right;\">\n",
       "      <th></th>\n",
       "      <th>gmap_id</th>\n",
       "      <th>user_id</th>\n",
       "      <th>rating</th>\n",
       "      <th>text</th>\n",
       "      <th>state_usa</th>\n",
       "    </tr>\n",
       "  </thead>\n",
       "  <tbody>\n",
       "    <tr>\n",
       "      <th>0</th>\n",
       "      <td>0x864c264d6967b3dd:0xe0d905846ed5958d</td>\n",
       "      <td>1.030556e+20</td>\n",
       "      <td>5</td>\n",
       "      <td>It's not called Michael's Grill anymore. Now i...</td>\n",
       "      <td>TX</td>\n",
       "    </tr>\n",
       "    <tr>\n",
       "      <th>1</th>\n",
       "      <td>0x864c264d6967b3dd:0xe0d905846ed5958d</td>\n",
       "      <td>1.009433e+20</td>\n",
       "      <td>4</td>\n",
       "      <td>This is a Great Spot for Happy Hour and Dinner...</td>\n",
       "      <td>TX</td>\n",
       "    </tr>\n",
       "  </tbody>\n",
       "</table>\n",
       "</div>"
      ],
      "text/plain": [
       "                                 gmap_id       user_id  rating  \\\n",
       "0  0x864c264d6967b3dd:0xe0d905846ed5958d  1.030556e+20       5   \n",
       "1  0x864c264d6967b3dd:0xe0d905846ed5958d  1.009433e+20       4   \n",
       "\n",
       "                                                text state_usa  \n",
       "0  It's not called Michael's Grill anymore. Now i...        TX  \n",
       "1  This is a Great Spot for Happy Hour and Dinner...        TX  "
      ]
     },
     "execution_count": 17,
     "metadata": {},
     "output_type": "execute_result"
    }
   ],
   "source": [
    "reviews.head(2)"
   ]
  },
  {
   "cell_type": "code",
   "execution_count": 18,
   "metadata": {},
   "outputs": [],
   "source": [
    "reviews = reviews.rename(columns={'gmap_id':'restaurant_id', 'state_usa':'state'})"
   ]
  },
  {
   "cell_type": "code",
   "execution_count": 19,
   "metadata": {},
   "outputs": [
    {
     "data": {
      "text/html": [
       "<div>\n",
       "<style scoped>\n",
       "    .dataframe tbody tr th:only-of-type {\n",
       "        vertical-align: middle;\n",
       "    }\n",
       "\n",
       "    .dataframe tbody tr th {\n",
       "        vertical-align: top;\n",
       "    }\n",
       "\n",
       "    .dataframe thead th {\n",
       "        text-align: right;\n",
       "    }\n",
       "</style>\n",
       "<table border=\"1\" class=\"dataframe\">\n",
       "  <thead>\n",
       "    <tr style=\"text-align: right;\">\n",
       "      <th></th>\n",
       "      <th>restaurant_id</th>\n",
       "      <th>user_id</th>\n",
       "      <th>rating</th>\n",
       "      <th>text</th>\n",
       "      <th>state</th>\n",
       "    </tr>\n",
       "  </thead>\n",
       "  <tbody>\n",
       "    <tr>\n",
       "      <th>0</th>\n",
       "      <td>0x864c264d6967b3dd:0xe0d905846ed5958d</td>\n",
       "      <td>1.030556e+20</td>\n",
       "      <td>5</td>\n",
       "      <td>It's not called Michael's Grill anymore. Now i...</td>\n",
       "      <td>TX</td>\n",
       "    </tr>\n",
       "    <tr>\n",
       "      <th>1</th>\n",
       "      <td>0x864c264d6967b3dd:0xe0d905846ed5958d</td>\n",
       "      <td>1.009433e+20</td>\n",
       "      <td>4</td>\n",
       "      <td>This is a Great Spot for Happy Hour and Dinner...</td>\n",
       "      <td>TX</td>\n",
       "    </tr>\n",
       "  </tbody>\n",
       "</table>\n",
       "</div>"
      ],
      "text/plain": [
       "                           restaurant_id       user_id  rating  \\\n",
       "0  0x864c264d6967b3dd:0xe0d905846ed5958d  1.030556e+20       5   \n",
       "1  0x864c264d6967b3dd:0xe0d905846ed5958d  1.009433e+20       4   \n",
       "\n",
       "                                                text state  \n",
       "0  It's not called Michael's Grill anymore. Now i...    TX  \n",
       "1  This is a Great Spot for Happy Hour and Dinner...    TX  "
      ]
     },
     "execution_count": 19,
     "metadata": {},
     "output_type": "execute_result"
    }
   ],
   "source": [
    "reviews.head(2)"
   ]
  },
  {
   "cell_type": "code",
   "execution_count": 20,
   "metadata": {},
   "outputs": [
    {
     "name": "stdout",
     "output_type": "stream",
     "text": [
      "<class 'pandas.core.frame.DataFrame'>\n",
      "RangeIndex: 890417 entries, 0 to 890416\n",
      "Data columns (total 5 columns):\n",
      " #   Column         Non-Null Count   Dtype  \n",
      "---  ------         --------------   -----  \n",
      " 0   restaurant_id  890417 non-null  object \n",
      " 1   user_id        890417 non-null  float64\n",
      " 2   rating         890417 non-null  int64  \n",
      " 3   text           890406 non-null  object \n",
      " 4   state          890417 non-null  object \n",
      "dtypes: float64(1), int64(1), object(3)\n",
      "memory usage: 34.0+ MB\n"
     ]
    }
   ],
   "source": [
    "reviews.info()"
   ]
  },
  {
   "cell_type": "code",
   "execution_count": 21,
   "metadata": {},
   "outputs": [],
   "source": [
    "reviews['user_id'] = reviews['user_id'].astype(str)"
   ]
  },
  {
   "cell_type": "code",
   "execution_count": 30,
   "metadata": {},
   "outputs": [
    {
     "data": {
      "text/html": [
       "<div>\n",
       "<style scoped>\n",
       "    .dataframe tbody tr th:only-of-type {\n",
       "        vertical-align: middle;\n",
       "    }\n",
       "\n",
       "    .dataframe tbody tr th {\n",
       "        vertical-align: top;\n",
       "    }\n",
       "\n",
       "    .dataframe thead th {\n",
       "        text-align: right;\n",
       "    }\n",
       "</style>\n",
       "<table border=\"1\" class=\"dataframe\">\n",
       "  <thead>\n",
       "    <tr style=\"text-align: right;\">\n",
       "      <th></th>\n",
       "      <th>review_id</th>\n",
       "      <th>restaurant_id</th>\n",
       "      <th>user_id</th>\n",
       "      <th>rating</th>\n",
       "      <th>text</th>\n",
       "      <th>state</th>\n",
       "    </tr>\n",
       "  </thead>\n",
       "  <tbody>\n",
       "    <tr>\n",
       "      <th>0</th>\n",
       "      <td>0x86_1.03</td>\n",
       "      <td>0x864c264d6967b3dd:0xe0d905846ed5958d</td>\n",
       "      <td>1.0305562873800326e+20</td>\n",
       "      <td>5</td>\n",
       "      <td>It's not called Michael's Grill anymore. Now i...</td>\n",
       "      <td>TX</td>\n",
       "    </tr>\n",
       "    <tr>\n",
       "      <th>1</th>\n",
       "      <td>0x86_1.00</td>\n",
       "      <td>0x864c264d6967b3dd:0xe0d905846ed5958d</td>\n",
       "      <td>1.0094325389709902e+20</td>\n",
       "      <td>4</td>\n",
       "      <td>This is a Great Spot for Happy Hour and Dinner...</td>\n",
       "      <td>TX</td>\n",
       "    </tr>\n",
       "    <tr>\n",
       "      <th>2</th>\n",
       "      <td>0x86_1.00</td>\n",
       "      <td>0x864c264d6967b3dd:0xe0d905846ed5958d</td>\n",
       "      <td>1.0010199990289111e+20</td>\n",
       "      <td>5</td>\n",
       "      <td>Today I ordered the T-bone and shrimp with Pec...</td>\n",
       "      <td>TX</td>\n",
       "    </tr>\n",
       "    <tr>\n",
       "      <th>3</th>\n",
       "      <td>0x86_1.04</td>\n",
       "      <td>0x864c264d6967b3dd:0xe0d905846ed5958d</td>\n",
       "      <td>1.0481225291741938e+20</td>\n",
       "      <td>5</td>\n",
       "      <td>FULL BAR!! Great staff and good food. Did I me...</td>\n",
       "      <td>TX</td>\n",
       "    </tr>\n",
       "    <tr>\n",
       "      <th>4</th>\n",
       "      <td>0x86_1.13</td>\n",
       "      <td>0x864c264d6967b3dd:0xe0d905846ed5958d</td>\n",
       "      <td>1.1328756316007318e+20</td>\n",
       "      <td>2</td>\n",
       "      <td>Not happy I could have got a full tank of gas ...</td>\n",
       "      <td>TX</td>\n",
       "    </tr>\n",
       "    <tr>\n",
       "      <th>...</th>\n",
       "      <td>...</td>\n",
       "      <td>...</td>\n",
       "      <td>...</td>\n",
       "      <td>...</td>\n",
       "      <td>...</td>\n",
       "      <td>...</td>\n",
       "    </tr>\n",
       "    <tr>\n",
       "      <th>890412</th>\n",
       "      <td>0x87_1.15</td>\n",
       "      <td>0x872b6c8443efcaa7:0x8077bffd4338470f</td>\n",
       "      <td>1.1540052089775423e+20</td>\n",
       "      <td>4</td>\n",
       "      <td>sin comentario</td>\n",
       "      <td>AZ</td>\n",
       "    </tr>\n",
       "    <tr>\n",
       "      <th>890413</th>\n",
       "      <td>0x87_1.14</td>\n",
       "      <td>0x872b6c8443efcaa7:0x8077bffd4338470f</td>\n",
       "      <td>1.1446507953485056e+20</td>\n",
       "      <td>2</td>\n",
       "      <td>sin comentario</td>\n",
       "      <td>AZ</td>\n",
       "    </tr>\n",
       "    <tr>\n",
       "      <th>890414</th>\n",
       "      <td>0x87_1.10</td>\n",
       "      <td>0x872b6c8443efcaa7:0x8077bffd4338470f</td>\n",
       "      <td>1.1095255445261412e+20</td>\n",
       "      <td>4</td>\n",
       "      <td>sin comentario</td>\n",
       "      <td>AZ</td>\n",
       "    </tr>\n",
       "    <tr>\n",
       "      <th>890415</th>\n",
       "      <td>0x87_1.04</td>\n",
       "      <td>0x872b6c8443efcaa7:0x8077bffd4338470f</td>\n",
       "      <td>1.0408581392218374e+20</td>\n",
       "      <td>3</td>\n",
       "      <td>sin comentario</td>\n",
       "      <td>AZ</td>\n",
       "    </tr>\n",
       "    <tr>\n",
       "      <th>890416</th>\n",
       "      <td>0x87_1.02</td>\n",
       "      <td>0x872b6c8443efcaa7:0x8077bffd4338470f</td>\n",
       "      <td>1.0212406009983166e+20</td>\n",
       "      <td>4</td>\n",
       "      <td>sin comentario</td>\n",
       "      <td>AZ</td>\n",
       "    </tr>\n",
       "  </tbody>\n",
       "</table>\n",
       "<p>890417 rows × 6 columns</p>\n",
       "</div>"
      ],
      "text/plain": [
       "        review_id                          restaurant_id  \\\n",
       "0       0x86_1.03  0x864c264d6967b3dd:0xe0d905846ed5958d   \n",
       "1       0x86_1.00  0x864c264d6967b3dd:0xe0d905846ed5958d   \n",
       "2       0x86_1.00  0x864c264d6967b3dd:0xe0d905846ed5958d   \n",
       "3       0x86_1.04  0x864c264d6967b3dd:0xe0d905846ed5958d   \n",
       "4       0x86_1.13  0x864c264d6967b3dd:0xe0d905846ed5958d   \n",
       "...           ...                                    ...   \n",
       "890412  0x87_1.15  0x872b6c8443efcaa7:0x8077bffd4338470f   \n",
       "890413  0x87_1.14  0x872b6c8443efcaa7:0x8077bffd4338470f   \n",
       "890414  0x87_1.10  0x872b6c8443efcaa7:0x8077bffd4338470f   \n",
       "890415  0x87_1.04  0x872b6c8443efcaa7:0x8077bffd4338470f   \n",
       "890416  0x87_1.02  0x872b6c8443efcaa7:0x8077bffd4338470f   \n",
       "\n",
       "                       user_id  rating  \\\n",
       "0       1.0305562873800326e+20       5   \n",
       "1       1.0094325389709902e+20       4   \n",
       "2       1.0010199990289111e+20       5   \n",
       "3       1.0481225291741938e+20       5   \n",
       "4       1.1328756316007318e+20       2   \n",
       "...                        ...     ...   \n",
       "890412  1.1540052089775423e+20       4   \n",
       "890413  1.1446507953485056e+20       2   \n",
       "890414  1.1095255445261412e+20       4   \n",
       "890415  1.0408581392218374e+20       3   \n",
       "890416  1.0212406009983166e+20       4   \n",
       "\n",
       "                                                     text state  \n",
       "0       It's not called Michael's Grill anymore. Now i...    TX  \n",
       "1       This is a Great Spot for Happy Hour and Dinner...    TX  \n",
       "2       Today I ordered the T-bone and shrimp with Pec...    TX  \n",
       "3       FULL BAR!! Great staff and good food. Did I me...    TX  \n",
       "4       Not happy I could have got a full tank of gas ...    TX  \n",
       "...                                                   ...   ...  \n",
       "890412                                     sin comentario    AZ  \n",
       "890413                                     sin comentario    AZ  \n",
       "890414                                     sin comentario    AZ  \n",
       "890415                                     sin comentario    AZ  \n",
       "890416                                     sin comentario    AZ  \n",
       "\n",
       "[890417 rows x 6 columns]"
      ]
     },
     "execution_count": 30,
     "metadata": {},
     "output_type": "execute_result"
    }
   ],
   "source": [
    "reviews"
   ]
  },
  {
   "cell_type": "code",
   "execution_count": 29,
   "metadata": {},
   "outputs": [
    {
     "data": {
      "text/plain": [
       "5934"
      ]
     },
     "execution_count": 29,
     "metadata": {},
     "output_type": "execute_result"
    }
   ],
   "source": [
    "conteo_restaurants = reviews['restaurant_id'].nunique()\n",
    "conteo_restaurants"
   ]
  },
  {
   "cell_type": "code",
   "execution_count": 31,
   "metadata": {},
   "outputs": [],
   "source": [
    "# Extraer los primeros 4 caracteres y crear el ID\n",
    "reviews['review_id'] = reviews['restaurant_id'].str[:10] + '_' + reviews['user_id'].str[:10]"
   ]
  },
  {
   "cell_type": "code",
   "execution_count": 32,
   "metadata": {},
   "outputs": [
    {
     "name": "stdout",
     "output_type": "stream",
     "text": [
      "<class 'pandas.core.frame.DataFrame'>\n",
      "RangeIndex: 890417 entries, 0 to 890416\n",
      "Data columns (total 6 columns):\n",
      " #   Column         Non-Null Count   Dtype \n",
      "---  ------         --------------   ----- \n",
      " 0   review_id      890417 non-null  object\n",
      " 1   restaurant_id  890417 non-null  object\n",
      " 2   user_id        890417 non-null  object\n",
      " 3   rating         890417 non-null  int64 \n",
      " 4   text           890406 non-null  object\n",
      " 5   state          890417 non-null  object\n",
      "dtypes: int64(1), object(5)\n",
      "memory usage: 40.8+ MB\n"
     ]
    }
   ],
   "source": [
    "reviews.info()"
   ]
  },
  {
   "cell_type": "code",
   "execution_count": 33,
   "metadata": {},
   "outputs": [],
   "source": [
    "nuevo_orden = ['review_id', 'restaurant_id','user_id', 'rating', 'text', 'state']\n",
    "reviews = reviews.reindex(columns=nuevo_orden)"
   ]
  },
  {
   "cell_type": "code",
   "execution_count": 34,
   "metadata": {},
   "outputs": [
    {
     "data": {
      "text/html": [
       "<div>\n",
       "<style scoped>\n",
       "    .dataframe tbody tr th:only-of-type {\n",
       "        vertical-align: middle;\n",
       "    }\n",
       "\n",
       "    .dataframe tbody tr th {\n",
       "        vertical-align: top;\n",
       "    }\n",
       "\n",
       "    .dataframe thead th {\n",
       "        text-align: right;\n",
       "    }\n",
       "</style>\n",
       "<table border=\"1\" class=\"dataframe\">\n",
       "  <thead>\n",
       "    <tr style=\"text-align: right;\">\n",
       "      <th></th>\n",
       "      <th>review_id</th>\n",
       "      <th>restaurant_id</th>\n",
       "      <th>user_id</th>\n",
       "      <th>rating</th>\n",
       "      <th>text</th>\n",
       "      <th>state</th>\n",
       "    </tr>\n",
       "  </thead>\n",
       "  <tbody>\n",
       "    <tr>\n",
       "      <th>0</th>\n",
       "      <td>0x864c264d_1.03055628</td>\n",
       "      <td>0x864c264d6967b3dd:0xe0d905846ed5958d</td>\n",
       "      <td>1.0305562873800326e+20</td>\n",
       "      <td>5</td>\n",
       "      <td>It's not called Michael's Grill anymore. Now i...</td>\n",
       "      <td>TX</td>\n",
       "    </tr>\n",
       "    <tr>\n",
       "      <th>1</th>\n",
       "      <td>0x864c264d_1.00943253</td>\n",
       "      <td>0x864c264d6967b3dd:0xe0d905846ed5958d</td>\n",
       "      <td>1.0094325389709902e+20</td>\n",
       "      <td>4</td>\n",
       "      <td>This is a Great Spot for Happy Hour and Dinner...</td>\n",
       "      <td>TX</td>\n",
       "    </tr>\n",
       "  </tbody>\n",
       "</table>\n",
       "</div>"
      ],
      "text/plain": [
       "               review_id                          restaurant_id  \\\n",
       "0  0x864c264d_1.03055628  0x864c264d6967b3dd:0xe0d905846ed5958d   \n",
       "1  0x864c264d_1.00943253  0x864c264d6967b3dd:0xe0d905846ed5958d   \n",
       "\n",
       "                  user_id  rating  \\\n",
       "0  1.0305562873800326e+20       5   \n",
       "1  1.0094325389709902e+20       4   \n",
       "\n",
       "                                                text state  \n",
       "0  It's not called Michael's Grill anymore. Now i...    TX  \n",
       "1  This is a Great Spot for Happy Hour and Dinner...    TX  "
      ]
     },
     "execution_count": 34,
     "metadata": {},
     "output_type": "execute_result"
    }
   ],
   "source": [
    "reviews.head(2)"
   ]
  },
  {
   "cell_type": "code",
   "execution_count": 35,
   "metadata": {},
   "outputs": [],
   "source": [
    "reviews.drop(columns=['state'], inplace= True)"
   ]
  },
  {
   "cell_type": "code",
   "execution_count": 36,
   "metadata": {},
   "outputs": [],
   "source": [
    "reviews.to_csv('./Datasets_limpios/reviews.csv', index=False)"
   ]
  }
 ],
 "metadata": {
  "kernelspec": {
   "display_name": "proyecto_final",
   "language": "python",
   "name": "python3"
  },
  "language_info": {
   "codemirror_mode": {
    "name": "ipython",
    "version": 3
   },
   "file_extension": ".py",
   "mimetype": "text/x-python",
   "name": "python",
   "nbconvert_exporter": "python",
   "pygments_lexer": "ipython3",
   "version": "3.9.0"
  }
 },
 "nbformat": 4,
 "nbformat_minor": 2
}
